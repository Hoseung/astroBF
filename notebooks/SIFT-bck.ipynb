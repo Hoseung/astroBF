{
 "cells": [
  {
   "cell_type": "markdown",
   "metadata": {},
   "source": [
    "### [OpenCV SIFT tutorial](https://docs.opencv.org/master/da/df5/tutorial_py_sift_intro.html)\n",
    "\n",
    "### [OpenCV feature extraction methods](https://opencv-python-tutroals.readthedocs.io/en/latest/py_tutorials/py_feature2d/py_table_of_contents_feature2d/py_table_of_contents_feature2d.html) -- corner detectors, SIFT, SURF, FAST, BRIEF, and ORB\n",
    "\n",
    "### [Implementing SFIT from scratch in Python](https://lerner98.medium.com/implementing-sift-in-python-36c619df7945#:~:text=SIFT%2C%20which%20stands%20for%20Scale,translation%2C%20rotation%2C%20and%20illumination)\n",
    "\n",
    "### [feature extraction general(kaggle)](https://www.kaggle.com/lorinc/feature-extraction-from-images)\n",
    "\n",
    "### [feature extraction general(classic + ML)](https://towardsdatascience.com/image-feature-extraction-traditional-and-deep-learning-techniques-ccc059195d04)"
   ]
  },
  {
   "cell_type": "code",
   "execution_count": 1,
   "metadata": {},
   "outputs": [],
   "source": [
    "import sys, math\n",
    "import os\n",
    "from glob import glob\n",
    "\n",
    "import matplotlib.pyplot as plt \n",
    "import numpy as np\n",
    "import cv2 as cv\n",
    "import skimage\n",
    "import imageio\n",
    "\n",
    "from sklearn import mixture\n",
    "import colour\n",
    "from astropy.io import fits\n",
    "from colour.models import RGB_COLOURSPACES, RGB_luminance\n",
    "from astrobf.utils.gmm import *\n",
    "\n",
    "colorspace = RGB_COLOURSPACES['sRGB']"
   ]
  },
  {
   "cell_type": "code",
   "execution_count": 2,
   "metadata": {},
   "outputs": [],
   "source": [
    "def gmm_mask(hdulist,\n",
    "            max_n_comp = 30,\n",
    "            max_iter_gmm = 300,\n",
    "            tol_gmm = 0.0001,\n",
    "            range_cut_min = 0.1,\n",
    "            range_cut_max = 95.0,\n",
    "            num_sample_x = 3000,\n",
    "            sig_factor=3.0,\n",
    "            verbose = True,\n",
    "            do_plot = True):\n",
    "    \n",
    "    # Load image\n",
    "    img_header = hdulist[0].header\n",
    "    img_data = hdulist[0].data\n",
    "    #hdulist.close()\n",
    "    width=img_data.shape[0]\n",
    "    height=img_data.shape[1]\n",
    "    img_data_1d = img_data.reshape(-1, 1)\n",
    "    num_pixels = width * height\n",
    "\n",
    "    # Criteria to determine the number of components.\n",
    "    # Note that these criteria don't tell you what's the best model, just the number of components.\n",
    "\n",
    "    bic_list = [] # Bayesian Information Critetion\n",
    "    aic_list = [] # Akaike Information Criterion\n",
    "    aicc_list = [] # corrected Akaike Information Criterion\n",
    "    model_list = []\n",
    "    for n_comp in range(1, max_n_comp+1):\n",
    "        gmm = mixture.GaussianMixture(n_components = n_comp, \n",
    "             covariance_type = 'full', tol = tol_gmm, max_iter = max_iter_gmm)\n",
    "        #gmm = GMM(n_components = n_comp, max_iter = max_iter_gmm)\n",
    "        model = gmm.fit(img_data_1d)\n",
    "        model_list.append(model)\n",
    "        bic_list.append(gmm.bic(img_data_1d))\n",
    "        aic = gmm.aic(img_data_1d)\n",
    "        aic_list.append(aic)\n",
    "        aicc_list.append(gmm_aicc(aic, gmm._n_parameters(), num_pixels))\n",
    "\n",
    "    if do_plot: plot_gmm_statstics(max_n_comp, bic_list, aic_list, aicc_list)\n",
    "\n",
    "    best_n_comp, best_val = get_best_gmm(aic_list)\n",
    "\n",
    "    if verbose: print(\"... best_n_comp: \", best_n_comp, \" with criteria val: \", best_val)\n",
    "\n",
    "\n",
    "    # set the best model\n",
    "    best_model = model_list[best_n_comp-1]\n",
    "    percent_values = np.percentile(img_data, [range_cut_min, range_cut_max])\n",
    "    test_x = np.linspace(percent_values[0], percent_values[1], num_sample_x)\n",
    "    logprob = best_model.score_samples(test_x.reshape(-1, 1))\n",
    "    responsibilities = best_model.predict_proba(test_x.reshape(-1, 1))\n",
    "    pdf = np.exp(logprob)\n",
    "    pdf_individual = responsibilities * pdf[:, np.newaxis]\n",
    "    if not best_model.converged_ :\n",
    "        print(\"[PROBLEM] ... however, not converged.\")\n",
    "        sys.exit(1)\n",
    "\n",
    "    pdf_comp_weights = best_model.weights_\n",
    "    pdf_comp_means = best_model.means_\n",
    "    pdf_comp_covariances = best_model.covariances_\n",
    "    dominant_comp_ind = np.argmax(pdf_comp_weights)\n",
    "    use_mean = pdf_comp_means[dominant_comp_ind].flatten()[0]\n",
    "    use_std = math.sqrt(pdf_comp_covariances[dominant_comp_ind].flatten()[0])\n",
    "\n",
    "\n",
    "    # sigma cut\n",
    "    #use_factors = [1.0, 2.0, 3.0, 4.0, 5.0]\n",
    "    #for use_factor in use_factors:\n",
    "    use_factor = sig_factor\n",
    "    cut_val = use_mean + use_factor*use_std\n",
    "    binary_result = img_data > cut_val\n",
    "    use_label, num_labels = measure.label(binary_result, background=0, return_num=True)\n",
    "    min_label = np.min(use_label)\n",
    "    max_label = np.max(use_label)\n",
    "    if verbose: print(\"... num_labels: \", num_labels)\n",
    "\n",
    "    # find the mean x, y for each label component\n",
    "    num_label_region_dict = dict()\n",
    "    mean_x_list = []\n",
    "    mean_y_list = []\n",
    "    mean_xy_distance_ratio_list = []\n",
    "\n",
    "    for ind in range(1, max_label+1):\n",
    "        selected_region_ind = np.argwhere(use_label == ind)\n",
    "        num_label_region_dict[ind] = selected_region_ind.shape[0]\n",
    "        if selected_region_ind.shape[0] == 1:\n",
    "            mean_y, mean_x = selected_region_ind[0]\n",
    "            #mean_y = selected_region_ind[0][0]\n",
    "        else:    \n",
    "            # [WARNING] because of pyplot image show convention and data indexing scheme,\n",
    "            # x and y index should be used with caution.\n",
    "            mean_y, mean_x = np.sum(selected_region_ind, axis=0)/selected_region_ind.shape[0]\n",
    "        mean_x_list.append(mean_x)\n",
    "        mean_y_list.append(mean_y)\n",
    "        mean_xy_distance_ratio_list.append((mean_x/width - 0.5)**2 + (mean_y/height - 0.5)**2)\n",
    "\n",
    "    # find the central object and its label\n",
    "    best_label, best_ind = get_central_label(mean_xy_distance_ratio_list, max_label)\n",
    "    if verbose: print(\"... best_label: %d with num_label_region: %d\" % \\\n",
    "    (best_label, num_label_region_dict[best_label]))\n",
    "    # target mask\n",
    "    target_mask = np.zeros(img_data.shape, dtype=bool)    \n",
    "    use_ind = np.where(use_label == best_label)\n",
    "    if verbose: print(\"... use_ind.size: \", len(use_ind[0]))\n",
    "    target_mask = np.zeros(img_data.shape, dtype=bool)\n",
    "    target_mask[use_ind] = True\n",
    "\n",
    "    # convex hull\n",
    "    convex_hull_results = convex_hull_image(target_mask, offset_coordinates=False, tolerance=1e-20)\n",
    "    if do_plot: plot_mixture_cut(img_data, use_label, \n",
    "                     convex_hull_results, binary_result, \n",
    "                     mean_x_list, mean_y_list, best_ind, \n",
    "                     use_factor=use_factor,\n",
    "                     vmin=percent_values[0], vmax=percent_values[1])\n",
    "\n",
    "    return target_mask, img_data"
   ]
  },
  {
   "cell_type": "markdown",
   "metadata": {},
   "source": [
    "# 1. Start here, Load data"
   ]
  },
  {
   "cell_type": "code",
   "execution_count": 3,
   "metadata": {},
   "outputs": [],
   "source": [
    "wdir = '../../bf_data/EFIGI_catalog/fits_temp_Dec_28/'"
   ]
  },
  {
   "cell_type": "code",
   "execution_count": 11,
   "metadata": {},
   "outputs": [],
   "source": [
    "#wdir = '../../OBSdata/efigi-1.6/ima_r/'\n",
    "fns_g = glob(wdir+\"*/*g.fits\")\n",
    "fns_r = glob(wdir+\"*/*r.fits\")\n",
    "fns_i = glob(wdir+\"*/*i.fits\")\n",
    "\n",
    "fns_g.sort()\n",
    "fns_r.sort()\n",
    "fns_i.sort()"
   ]
  },
  {
   "cell_type": "markdown",
   "metadata": {},
   "source": [
    "# 2. Build a mask (GMM)"
   ]
  },
  {
   "cell_type": "code",
   "execution_count": 6,
   "metadata": {},
   "outputs": [],
   "source": [
    "fn = fns[0]\n",
    "hdulist = fits.open(fn)"
   ]
  },
  {
   "cell_type": "code",
   "execution_count": 64,
   "metadata": {},
   "outputs": [
    {
     "name": "stdout",
     "output_type": "stream",
     "text": [
      "... best_n_comp:  5  with criteria val:  389684.734362\n",
      "... num_labels:  983\n",
      "... best_label: 392 with num_label_region: 3172\n",
      "... use_ind.size:  3172\n"
     ]
    }
   ],
   "source": [
    "mask, img = gmm_mask(hdulist, sig_factor=2.0)"
   ]
  },
  {
   "cell_type": "code",
   "execution_count": 68,
   "metadata": {},
   "outputs": [
    {
     "name": "stderr",
     "output_type": "stream",
     "text": [
      "/home/hoseung/anaconda3/envs/tonemap/lib/python3.7/site-packages/ipykernel_launcher.py:2: RuntimeWarning: divide by zero encountered in log10\n",
      "  \n"
     ]
    },
    {
     "data": {
      "image/png": "[encoded data removed]",
      "text/plain": [
       "<Figure size 432x288 with 1 Axes>"
      ]
     },
     "metadata": {
      "needs_background": "light"
     },
     "output_type": "display_data"
    }
   ],
   "source": [
    "fig, ax = plt.subplots()\n",
    "ax.imshow(np.log10(img))\n",
    "ax.imshow(mask, alpha=0.3)\n",
    "plt.show()"
   ]
  },
  {
   "cell_type": "code",
   "execution_count": 100,
   "metadata": {},
   "outputs": [],
   "source": [
    "img[~mask] = 0\n",
    "\n",
    "stamp = img[50:-50,50:-50]"
   ]
  },
  {
   "cell_type": "markdown",
   "metadata": {},
   "source": [
    "# 3. Tone map"
   ]
  },
  {
   "cell_type": "code",
   "execution_count": 105,
   "metadata": {},
   "outputs": [
    {
     "name": "stdout",
     "output_type": "stream",
     "text": [
      "mapped min max 0.0 1.0\n"
     ]
    },
    {
     "name": "stderr",
     "output_type": "stream",
     "text": [
      "/home/hoseung/anaconda3/envs/tonemap/lib/python3.7/site-packages/ipykernel_launcher.py:17: RuntimeWarning: divide by zero encountered in log10\n"
     ]
    },
    {
     "data": {
      "image/png": "[encoded data removed]",
      "text/plain": [
       "<Figure size 432x288 with 2 Axes>"
      ]
     },
     "metadata": {
      "needs_background": "light"
     },
     "output_type": "display_data"
    }
   ],
   "source": [
    "from astrobf import tmo\n",
    "\n",
    "# Generic\n",
    "# Ensure pixel values are positive\n",
    "stamp[stamp>0] -= (stamp[stamp>0].min()-1e-10)\n",
    "stamp[stamp<0] = 0\n",
    "# TMO parameter need to adapt to pixel values (pixel min being above 0)\n",
    "# Or just shift min to 0.\n",
    "gene = tmo.Generic(stamp.max(),1.25,0.975,0.25,0.18)\n",
    "\n",
    "mapped = gene.evaluate(stamp)\n",
    "print(\"mapped min max\", mapped.min(), mapped.max())\n",
    "\n",
    "fig, axs = plt.subplots(1,2)\n",
    "axs[0].imshow(mapped)\n",
    "axs[0].set_title(\"generic TMO\")\n",
    "axs[1].imshow(np.log10(stamp))\n",
    "axs[1].set_title(\"log(original)\")\n",
    "plt.show()"
   ]
  },
  {
   "cell_type": "markdown",
   "metadata": {},
   "source": [
    "# 4. Feature extraction (SIFT)"
   ]
  },
  {
   "cell_type": "markdown",
   "metadata": {},
   "source": [
    "Note that SIFT and SURF are **patented**, and they are missing from OpenCV install by default.  \n",
    "You need additional component to be installed into opencv_contrib package. "
   ]
  },
  {
   "cell_type": "code",
   "execution_count": 115,
   "metadata": {},
   "outputs": [
    {
     "data": {
      "text/plain": [
       "<matplotlib.image.AxesImage at 0x7f8e9c746150>"
      ]
     },
     "execution_count": 115,
     "metadata": {},
     "output_type": "execute_result"
    },
    {
     "data": {
      "image/png": "[encoded data removed]",
      "text/plain": [
       "<Figure size 432x288 with 1 Axes>"
      ]
     },
     "metadata": {
      "needs_background": "light"
     },
     "output_type": "display_data"
    }
   ],
   "source": [
    "sift = cv.xfeatures2d.SIFT_create()\n",
    "gray = (mapped*255).astype(np.uint8)\n",
    "kp = sift.detect(gray,None)\n",
    "\n",
    "shifted_img=cv.drawKeypoints(gray,kp,gray)\n",
    "\n",
    "plt.imshow(shifted_img)\n",
    "#cv.imwrite('sift_keypoints.jpg',shifted)"
   ]
  },
  {
   "cell_type": "markdown",
   "metadata": {},
   "source": [
    "## What do they mean? How do I know I got reasonable feature set?"
   ]
  },
  {
   "cell_type": "code",
   "execution_count": null,
   "metadata": {},
   "outputs": [],
   "source": []
  }
 ],
 "metadata": {
  "kernelspec": {
   "display_name": "Python 3",
   "language": "python",
   "name": "python3"
  },
  "language_info": {
   "codemirror_mode": {
    "name": "ipython",
    "version": 3
   },
   "file_extension": ".py",
   "mimetype": "text/x-python",
   "name": "python",
   "nbconvert_exporter": "python",
   "pygments_lexer": "ipython3",
   "version": "3.7.9"
  }
 },
 "nbformat": 4,
 "nbformat_minor": 2
}
