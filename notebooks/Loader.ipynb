{
 "cells": [
  {
   "cell_type": "code",
   "execution_count": 2,
   "id": "34aec8da",
   "metadata": {},
   "outputs": [],
   "source": [
    "import torch\n",
    "from torch.utils.data import Dataset\n",
    "from torchvision import datasets\n",
    "from torchvision.transforms import ToTensor\n",
    "import matplotlib.pyplot as plt\n",
    "\n",
    "from torchvision.datasets import VisionDataset"
   ]
  },
  {
   "cell_type": "code",
   "execution_count": 4,
   "id": "1cbc398d",
   "metadata": {},
   "outputs": [],
   "source": [
    "import pickle\n",
    "import numpy as np\n",
    "\n",
    "fn = \"../../bf_data/Nair_and_Abraham_2010/all_gals.pickle\"\n",
    "all_gals = pickle.load(open(fn, \"rb\"))\n",
    "\n",
    "all_gals = all_gals[1:] # Why the first galaxy image is NaN?\n",
    "\n",
    "good_gids = np.array([gal['img_name'] for gal in all_gals])"
   ]
  },
  {
   "cell_type": "code",
   "execution_count": 6,
   "id": "2644d193",
   "metadata": {},
   "outputs": [],
   "source": [
    "from astrobf.utils.misc import load_Nair\n",
    "cat_data = load_Nair('../../bf_data/Nair_and_Abraham_2010/catalog/table2.dat')\n",
    "# pd dataframe\n",
    "\n",
    "cat = cat_data[cat_data['ID'].isin(good_gids)]"
   ]
  },
  {
   "cell_type": "markdown",
   "id": "28b51b41",
   "metadata": {},
   "source": [
    "Data loader for a representation learning."
   ]
  },
  {
   "cell_type": "code",
   "execution_count": 28,
   "id": "49ef10c1",
   "metadata": {},
   "outputs": [],
   "source": [
    "# VisionDataset of Dataset? \n",
    "\n",
    "class TonemapImageDataset(VisionDataset):\n",
    "    def __init__(self, data_array, labels):\n",
    "        self._array = data_array\n",
    "        self._good_gids = np.array([gal['img_name'] for gal in data_array])\n",
    "        self.labels = labels\n",
    "        self.transform = transform\n",
    "        self.target_transform = target_transform\n",
    "        \n",
    "    def __len__(self):\n",
    "        return len(self.img_labels)\n",
    "    \n",
    "    def __getitem__(self, idx):\n",
    "        image, segmap, weight = self._array[idx]\n",
    "        label = self.labels.iloc[idx]\n",
    "        return image, segmap, label"
   ]
  },
  {
   "cell_type": "code",
   "execution_count": 26,
   "id": "3930224b",
   "metadata": {},
   "outputs": [],
   "source": [
    "tmd = TonemapImageDataset(all_gals, cat['TT'])"
   ]
  },
  {
   "cell_type": "code",
   "execution_count": null,
   "id": "d697119f",
   "metadata": {},
   "outputs": [],
   "source": []
  }
 ],
 "metadata": {
  "kernelspec": {
   "display_name": "Python 3",
   "language": "python",
   "name": "python3"
  },
  "language_info": {
   "codemirror_mode": {
    "name": "ipython",
    "version": 3
   },
   "file_extension": ".py",
   "mimetype": "text/x-python",
   "name": "python",
   "nbconvert_exporter": "python",
   "pygments_lexer": "ipython3",
   "version": "3.8.10"
  }
 },
 "nbformat": 4,
 "nbformat_minor": 5
}
