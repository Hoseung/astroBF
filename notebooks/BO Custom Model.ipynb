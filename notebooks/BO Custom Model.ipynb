{
 "cells": [
  {
   "cell_type": "markdown",
   "metadata": {},
   "source": [
    "> BoTorch makes no particular assumptions on what kind of model is being used, so long as is able to produce *samples from a posterior over outputs given an input x*.\n",
    "\n",
    "> BoTorch abstracts away from the particular form of the posterior by providing a simple Posterior API that **only requires** implementing an **rsample()** method for sampling from the posterior."
   ]
  },
  {
   "cell_type": "code",
   "execution_count": 11,
   "metadata": {},
   "outputs": [],
   "source": [
    "import torch\n",
    "\n",
    "from botorch.models.gpytorch import GPyTorchModel\n",
    "from gpytorch.distributions import MultivariateNormal\n",
    "from gpytorch.means import ConstantMean\n",
    "from gpytorch.models import ExactGP\n",
    "from gpytorch.kernels import RBFKernel, ScaleKernel\n",
    "from gpytorch.likelihoods import GaussianLikelihood\n",
    "from gpytorch.mlls import ExactMarginalLogLikelihood\n",
    "from gpytorch.priors import GammaPrior\n"
   ]
  },
  {
   "cell_type": "code",
   "execution_count": 2,
   "metadata": {},
   "outputs": [],
   "source": [
    "class SimpleCustomGP(ExactGP, GPyTorchModel):\n",
    "    _num_outputs = 1\n",
    "    \n",
    "    def __init__(self, train_X, train_Y):\n",
    "        super().__init__(train_X, train_Y.squeeze(-1), GaussianLikelihood()) # <- MRO!\n",
    "        self.mean_module = ConstantMean()\n",
    "        self.covar_module = ScaleKernel(\n",
    "            base_kernel=RBFKernel(ard_num_dims=train_X.shape[-1]))\n",
    "        self.to(train_X) # Device\n",
    "        \n",
    "    def forward(self, x):\n",
    "        mean_x = self.mean_module(x)\n",
    "        covar_x = self.covar_module(x)\n",
    "        return MultivariateNormal(mean_x, covar_x)"
   ]
  },
  {
   "cell_type": "markdown",
   "metadata": {},
   "source": [
    ".forward() is the method called during the (PyTorch) training loop to get the output, or the posterior. "
   ]
  },
  {
   "cell_type": "markdown",
   "metadata": {},
   "source": [
    "## Python: Method Resolutio Order (MRO)\n",
    "determines the order of inherited methods (in a multiple inheritance case)  \n",
    "Note that `__mro__()` method is only visible for a class, not for a class instance."
   ]
  },
  {
   "cell_type": "code",
   "execution_count": 13,
   "metadata": {},
   "outputs": [
    {
     "data": {
      "text/plain": [
       "(__main__.SimpleCustomGP,\n",
       " gpytorch.models.exact_gp.ExactGP,\n",
       " gpytorch.models.gp.GP,\n",
       " gpytorch.module.Module,\n",
       " botorch.models.gpytorch.GPyTorchModel,\n",
       " botorch.models.model.Model,\n",
       " torch.nn.modules.module.Module,\n",
       " abc.ABC,\n",
       " object)"
      ]
     },
     "execution_count": 13,
     "metadata": {},
     "output_type": "execute_result"
    }
   ],
   "source": [
    "SimpleCustomGP.__mro__"
   ]
  },
  {
   "cell_type": "markdown",
   "metadata": {},
   "source": [
    "<details>\n",
    "  <summary>ExactGP.__init__()</summary>\n",
    "\n",
    "According to the `__mro__()`, `super().__int__()` is calling the `__init__()` of ExactGP, which takes **train_inputs, train_targets, and likelihood** as input.\n",
    "\n",
    "```>>> ExactGP.__init__??```\n",
    "```\n",
    ">>>\n",
    "Signature: ExactGP.__init__(self, train_inputs, train_targets, likelihood)\n",
    "Docstring: Initializes internal Module state, shared by both nn.Module and ScriptModule.\n",
    "Source:   \n",
    "    def __init__(self, train_inputs, train_targets, likelihood):\n",
    "        if train_inputs is not None and torch.is_tensor(train_inputs):\n",
    "            train_inputs = (train_inputs,)\n",
    "        if train_inputs is not None and not all(torch.is_tensor(train_input) for train_input in train_inputs):\n",
    "            raise RuntimeError(\"Train inputs must be a tensor, or a list/tuple of tensors\")\n",
    "        if not isinstance(likelihood, _GaussianLikelihoodBase):\n",
    "            raise RuntimeError(\"ExactGP can only handle Gaussian likelihoods\")\n",
    "\n",
    "        super(ExactGP, self).__init__()\n",
    "        if train_inputs is not None:\n",
    "            self.train_inputs = tuple(tri.unsqueeze(-1) if tri.ndimension() == 1 else tri for tri in train_inputs)\n",
    "            self.train_targets = train_targets\n",
    "        else:\n",
    "            self.train_inputs = None\n",
    "            self.train_targets = None\n",
    "        self.likelihood = likelihood\n",
    "\n",
    "        self.prediction_strategy = None\n",
    "File:      ~/anaconda3/envs/tm38/lib/python3.8/site-packages/gpytorch/models/exact_gp.py\n",
    "Type:      function\n",
    "\n",
    "```\n",
    "</details>"
   ]
  },
  {
   "cell_type": "code",
   "execution_count": 18,
   "metadata": {},
   "outputs": [],
   "source": [
    "from botorch.fit import fit_gpytorch_model\n",
    "\n",
    "def _get_and_fit_simple_custom_gp(Xs, Ys, **kwargs):\n",
    "    model = SimpleCustomGP(Xs[0], Ys[0])\n",
    "    mll = ExactMarginalLogLikelihood(model.likelihood, model)\n",
    "    fit_gpytorch_model(mll)\n",
    "    return model"
   ]
  },
  {
   "cell_type": "markdown",
   "metadata": {},
   "source": [
    "For a custom (non-GP) model, you need to build your own fitting loop.  \n",
    "(https://botorch.org/tutorials/fit_model_with_torch_optimizer)\n"
   ]
  },
  {
   "cell_type": "markdown",
   "metadata": {},
   "source": []
  }
 ],
 "metadata": {
  "kernelspec": {
   "display_name": "Python 3",
   "language": "python",
   "name": "python3"
  },
  "language_info": {
   "codemirror_mode": {
    "name": "ipython",
    "version": 3
   },
   "file_extension": ".py",
   "mimetype": "text/x-python",
   "name": "python",
   "nbconvert_exporter": "python",
   "pygments_lexer": "ipython3",
   "version": "3.8.5"
  }
 },
 "nbformat": 4,
 "nbformat_minor": 2
}
