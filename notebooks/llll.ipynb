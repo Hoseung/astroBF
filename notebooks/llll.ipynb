{
 "cells": [
  {
   "cell_type": "code",
   "execution_count": 1,
   "metadata": {},
   "outputs": [],
   "source": [
    "from skimage import io"
   ]
  },
  {
   "cell_type": "code",
   "execution_count": 2,
   "metadata": {},
   "outputs": [
    {
     "data": {
      "text/plain": [
       "{'imread': ['imread', 'imsave', 'imread_collection'],\n",
       " 'pil': ['imread', 'imsave', 'imread_collection'],\n",
       " 'qt': ['imshow', 'imsave', 'imread', 'imread_collection'],\n",
       " 'tifffile': ['imread', 'imsave', 'imread_collection'],\n",
       " 'fits': ['imread', 'imread_collection'],\n",
       " 'simpleitk': ['imread', 'imsave', 'imread_collection'],\n",
       " 'matplotlib': ['imshow', 'imread', 'imshow_collection', 'imread_collection'],\n",
       " 'imageio': ['imread', 'imsave', 'imread_collection'],\n",
       " 'gtk': ['imshow'],\n",
       " 'gdal': ['imread', 'imread_collection']}"
      ]
     },
     "execution_count": 2,
     "metadata": {},
     "output_type": "execute_result"
    }
   ],
   "source": [
    "io.find_available_plugins()"
   ]
  },
  {
   "cell_type": "code",
   "execution_count": 6,
   "metadata": {},
   "outputs": [],
   "source": [
    "img = io.imread_collection(\"../../bf_data/memorial.hdr\")"
   ]
  },
  {
   "cell_type": "code",
   "execution_count": 8,
   "metadata": {},
   "outputs": [
    {
     "data": {
      "text/plain": [
       "array([None], dtype=object)"
      ]
     },
     "execution_count": 8,
     "metadata": {},
     "output_type": "execute_result"
    }
   ],
   "source": [
    "img.data"
   ]
  },
  {
   "cell_type": "code",
   "execution_count": 31,
   "metadata": {},
   "outputs": [],
   "source": [
    "import cv2 as cv\n",
    "import numpy as np\n",
    "import matplotlib.pyplot as plt "
   ]
  },
  {
   "cell_type": "code",
   "execution_count": 26,
   "metadata": {},
   "outputs": [],
   "source": [
    "img = cv.imread(\"../../bf_data/GoldenGate_2k.hdr\", cv.IMREAD_ANYDEPTH)"
   ]
  },
  {
   "cell_type": "code",
   "execution_count": 38,
   "metadata": {},
   "outputs": [
    {
     "data": {
      "text/plain": [
       "True"
      ]
     },
     "execution_count": 38,
     "metadata": {},
     "output_type": "execute_result"
    }
   ],
   "source": [
    "fn = 'Mantiuk'\n",
    "tmo = cv.createTonemap(2.2)\n",
    "mapped = tmo.process(img)\n",
    "im2_8bit = np.clip(mapped * 255, 0, 255).astype('uint8')\n",
    "cv.imwrite(fn+\".png\", im2_8bit)\n",
    "\n",
    "\n",
    "#plt.imshow(mapped)"
   ]
  },
  {
   "cell_type": "code",
   "execution_count": 40,
   "metadata": {},
   "outputs": [
    {
     "data": {
      "text/plain": [
       "(789, 2048, 3)"
      ]
     },
     "execution_count": 40,
     "metadata": {},
     "output_type": "execute_result"
    }
   ],
   "source": [
    "img.shape"
   ]
  },
  {
   "cell_type": "markdown",
   "metadata": {},
   "source": [
    "# Luminance, lightness and brightness\n",
    "\n",
    "## Lightness\n",
    "Lightness is the **Perceptual** dimension that runs from black, through gray to white. \n",
    "This is the **perceived** reflectance. That is, different from the genuine reflectance of the material.  \n",
    "For example, 'black' material in sunlit can reflect more light than 'white' material under shadow. Still we call the former *black* and the later *white*.  \n",
    "Lightness depends strongly on the *context*. \n",
    "\n",
    "\n",
    "## Brightness = percieved luminance\n",
    "Brightness is, again, the **perceptual** dimension that runs from dim to bright. \n",
    "This is the **perceived** ***luminance***, where luminance means the *intensity* of light coming from an object.  (the SI unit for luminance is cd/m$^2$)  \n",
    "Note that the *reflectance* is an inherit property of a material, whereas the *luminance* depends on the intensity of light coming to the material, and so on and so forth. \n",
    "\n",
    "\n",
    "## luminance from RGB colors\n",
    "### sRGB gamma encoding\n",
    "\n",
    "\n",
    "https://stackoverflow.com/a/56678483/4294919"
   ]
  },
  {
   "cell_type": "code",
   "execution_count": 45,
   "metadata": {},
   "outputs": [
    {
     "data": {
      "text/plain": [
       "True"
      ]
     },
     "execution_count": 45,
     "metadata": {},
     "output_type": "execute_result"
    }
   ],
   "source": [
    "def simple_reinhard(img):\n",
    "    return img / (1+img)\n",
    "\n",
    "mapped = simple_reinhard(img)\n",
    "im2_8bit = np.clip(mapped * 255, 0, 255).astype('uint8')\n",
    "cv.imwrite(\"simpleReinhard.png\", im2_8bit)"
   ]
  },
  {
   "cell_type": "code",
   "execution_count": 53,
   "metadata": {},
   "outputs": [
    {
     "data": {
      "text/plain": [
       "True"
      ]
     },
     "execution_count": 53,
     "metadata": {},
     "output_type": "execute_result"
    }
   ],
   "source": [
    "def reinhard(img):\n",
    "    \"\"\"\n",
    "    Any pixel above the 'white point' will be saturated.\n",
    "    \"\"\"\n",
    "    white = np.max(img) #-15\n",
    "    return img*(1+img/white**2) / (1+img)\n",
    "\n",
    "mapped = reinhard(img)\n",
    "im2_8bit = np.clip(mapped * 255, 0, 255).astype('uint8')\n",
    "cv.imwrite(\"Reinhard.png\", im2_8bit)"
   ]
  },
  {
   "cell_type": "code",
   "execution_count": null,
   "metadata": {},
   "outputs": [],
   "source": []
  }
 ],
 "metadata": {
  "kernelspec": {
   "display_name": "Python 3.8.3 64-bit ('tonemap': conda)",
   "language": "python",
   "name": "python38364bittonemapcondadaae818a71a44f73b2f3b1d14c8757e6"
  },
  "language_info": {
   "codemirror_mode": {
    "name": "ipython",
    "version": 3
   },
   "file_extension": ".py",
   "mimetype": "text/x-python",
   "name": "python",
   "nbconvert_exporter": "python",
   "pygments_lexer": "ipython3",
   "version": "3.8.3"
  }
 },
 "nbformat": 4,
 "nbformat_minor": 4
}
