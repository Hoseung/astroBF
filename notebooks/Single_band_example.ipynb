{
 "cells": [
  {
   "cell_type": "code",
   "execution_count": 1,
   "metadata": {},
   "outputs": [
    {
     "name": "stderr",
     "output_type": "stream",
     "text": [
      "/home/hoseung/anaconda3/envs/tm39/lib/python3.9/importlib/__init__.py:127: MatplotlibDeprecationWarning: \n",
      "The matplotlib.backends.backend_qt4agg backend was deprecated in Matplotlib 3.3 and will be removed two minor releases later.\n",
      "  return _bootstrap._gcd_import(name[level:], package, level)\n"
     ]
    }
   ],
   "source": [
    "import matplotlib\n",
    "matplotlib.use(\"qt4agg\")\n",
    "import matplotlib.pyplot as plt\n",
    "\n",
    "import numpy as np\n",
    "\n",
    "from astropy.io import fits\n",
    "import skimage\n",
    "from skimage import io\n",
    "import astrobf\n",
    "from astrobf.Shin import img_scale"
   ]
  },
  {
   "cell_type": "code",
   "execution_count": 7,
   "metadata": {},
   "outputs": [
    {
     "name": "stdout",
     "output_type": "stream",
     "text": [
      "#INFO :  ../example_data/J000311.00+155754.0-r.fits 181 181\n",
      "sky =  0.0517539047625 ( 9 )\n",
      "... min. and max. value :  -0.142209600749 92.2954369522\n"
     ]
    }
   ],
   "source": [
    "ddir = '../example_data/'\n",
    "outdir = ddir\n",
    "fn = ddir+\"J000311.00+155754.0-r.fits\"\n",
    "sig_fract = 5.0\n",
    "percent_fract = 0.01\n",
    "\n",
    "hdulist = fits.open(fn)\n",
    "img_header = hdulist[0].header\n",
    "img_data_raw = hdulist[0].data\n",
    "hdulist.close()\n",
    "width=img_data_raw.shape[0]\n",
    "height=img_data_raw.shape[1]\n",
    "print(\"#INFO : \", fn, width, height)\n",
    "img_data_raw = np.array(img_data_raw, dtype=float)\n",
    "#sky, num_iter = img_scale.sky_median_sig_clip(img_data, sig_fract, percent_fract, max_iter=100)\n",
    "sky, num_iter = img_scale.sky_mean_sig_clip(img_data_raw, sig_fract, percent_fract, max_iter=10)\n",
    "print(\"sky = \", sky, '(', num_iter, ')')\n",
    "img_data = img_data_raw - sky\n",
    "min_val = 0.0\n",
    "print(\"... min. and max. value : \", np.min(img_data), np.max(img_data))"
   ]
  },
  {
   "cell_type": "markdown",
   "metadata": {},
   "source": [
    "### skimage \n",
    "\n",
    "Because I found it cumbersome to get the right number of pixels in matplotlib. "
   ]
  },
  {
   "cell_type": "code",
   "execution_count": 8,
   "metadata": {},
   "outputs": [],
   "source": [
    "def scale_to_unity(img):\n",
    "    return (img-img.min())/img.ptp()\n",
    "\n",
    "def save_fig(fname, img, cmap=None, origin='lower'):\n",
    "    \"\"\"\n",
    "    NOTE\n",
    "    ----\n",
    "        Use np.fliplr for left-right flipping\n",
    "        Or, np.flip with axis arguement for general flipping.\n",
    "    \"\"\"\n",
    "    if cmap is not None: img = cmap(img)\n",
    "    if origin == 'lower': img = np.flipud(img)\n",
    "    io.imsave(fname, img)"
   ]
  },
  {
   "cell_type": "code",
   "execution_count": 9,
   "metadata": {},
   "outputs": [
    {
     "name": "stdout",
     "output_type": "stream",
     "text": [
      "img_scale : sqrt\n",
      "img_scale : power\n",
      "img_scale : log\n",
      "img_scale : linear\n",
      "img_scale : asinh\n",
      "img_scale : asinh\n",
      "img_scale : asinh\n",
      "img_scale : logistic\n"
     ]
    },
    {
     "name": "stderr",
     "output_type": "stream",
     "text": [
      "<ipython-input-8-048be3dfa34a>:13: UserWarning: ../example_data/power.png is a low contrast image\n",
      "  io.imsave(fname, img)\n",
      "<ipython-input-8-048be3dfa34a>:13: UserWarning: ../example_data/linear.png is a low contrast image\n",
      "  io.imsave(fname, img)\n"
     ]
    }
   ],
   "source": [
    "cmap = None\n",
    "#cm = plt.cm.get_cmap('inferno')\n",
    "new_img = img_scale.sqrt(img_data, scale_min = min_val)\n",
    "\n",
    "save_fig(outdir+'sqrt.png', skimage.util.img_as_ubyte(scale_to_unity(new_img)), cmap=cmap) # convert to uit or you will get a warning.\n",
    "\n",
    "new_img = img_scale.power(img_data, power_index=3.0, scale_min = min_val)\n",
    "save_fig(outdir+'power.png', skimage.util.img_as_ubyte(scale_to_unity(new_img)), cmap=cmap)\n",
    "\n",
    "new_img = img_scale.log(img_data, scale_min = min_val)\n",
    "save_fig(outdir+'log.png', skimage.util.img_as_ubyte(scale_to_unity(new_img)), cmap=cmap)\n",
    "\n",
    "new_img = img_scale.linear(img_data, scale_min = min_val)\n",
    "save_fig(outdir+'linear.png', skimage.util.img_as_ubyte(scale_to_unity(new_img)), cmap=cmap)\n",
    "\n",
    "new_img = img_scale.asinh(img_data, scale_min = min_val, non_linear=0.01)\n",
    "save_fig(outdir+'asinh_beta_01.png', skimage.util.img_as_ubyte(scale_to_unity(new_img)), cmap=cmap)\n",
    "\n",
    "new_img = img_scale.asinh(img_data, scale_min = min_val, non_linear=0.5)\n",
    "save_fig(outdir+'asinh_beta_05.png', skimage.util.img_as_ubyte(scale_to_unity(new_img)), cmap=cmap)\n",
    "\n",
    "new_img = img_scale.asinh(img_data, scale_min = min_val, non_linear=2.0)\n",
    "save_fig(outdir+'asinh_beta_20.png', skimage.util.img_as_ubyte(scale_to_unity(new_img)), cmap=cmap)\n",
    "\n",
    "new_img = img_scale.histeq(img_data_raw, num_bins=256)\n",
    "save_fig(outdir+'histeq.png', skimage.util.img_as_ubyte(scale_to_unity(new_img)), cmap=cmap)\n",
    "\n",
    "new_img = img_scale.logistic(img_data_raw, center = 0.03, slope = 0.3)\n",
    "save_fig(outdir+'logistic.png', skimage.util.img_as_ubyte(scale_to_unity(new_img)), cmap=cmap)"
   ]
  },
  {
   "cell_type": "markdown",
   "metadata": {},
   "source": [
    "## Matplotlib version\n",
    "\n",
    "#### Note on matplotlib colormaps\n",
    "\n",
    "Only few colormaps are linear (perceptually uniform) in lightness: *viridis, plasma, inferno, magma, cividis* \n",
    "Among them, only **inferno** and **magma** ranges (0,100) lightness. \n",
    "\n",
    "*binary, gist_yarg, gist_gray, gray* also cover the whole lightness range (but are NOT perfectly linear)"
   ]
  },
  {
   "cell_type": "code",
   "execution_count": 10,
   "metadata": {},
   "outputs": [],
   "source": [
    "def save_image_fix_dpi(fname, data, dpi=100, cmap='inferno'):\n",
    "    \"\"\"\n",
    "    save ndarray as an image with exact number of pixels.\n",
    "    \"\"\"\n",
    "    shape=np.shape(data)[0:2][::-1]\n",
    "    size = [float(i)/dpi for i in shape]\n",
    "    fig = plt.figure()\n",
    "    fig.set_size_inches(size)\n",
    "    ax = plt.Axes(fig,[0,0,1,1])\n",
    "    ax.set_axis_off()\n",
    "    fig.add_axes(ax)\n",
    "    ax.imshow(data, origin='lower', cmap=cmap)\n",
    "    fig.savefig(fname, dpi=dpi)\n",
    "    plt.close()"
   ]
  },
  {
   "cell_type": "code",
   "execution_count": 11,
   "metadata": {},
   "outputs": [
    {
     "name": "stdout",
     "output_type": "stream",
     "text": [
      "img_scale : sqrt\n",
      "img_scale : power\n",
      "img_scale : log\n",
      "img_scale : linear\n",
      "img_scale : asinh\n",
      "img_scale : asinh\n",
      "img_scale : asinh\n",
      "img_scale : logistic\n"
     ]
    }
   ],
   "source": [
    "cmap = 'hot'\n",
    "new_img = img_scale.sqrt(img_data, scale_min = min_val)\n",
    "save_image_fix_dpi(outdir+'sqrt_plt.png', new_img, cmap=cmap)\n",
    "\n",
    "new_img = img_scale.power(img_data, power_index=3.0, scale_min = min_val)\n",
    "save_image_fix_dpi(outdir+'power_plt.png', new_img, cmap=cmap)\n",
    "\n",
    "new_img = img_scale.log(img_data, scale_min = min_val)\n",
    "save_image_fix_dpi(outdir+'log_plt.png', new_img, cmap=cmap)\n",
    "\n",
    "new_img = img_scale.linear(img_data, scale_min = min_val)\n",
    "save_image_fix_dpi(outdir+'linear_plt.png', new_img, cmap=cmap)\n",
    "\n",
    "new_img = img_scale.asinh(img_data, scale_min = min_val, non_linear=0.01)\n",
    "save_image_fix_dpi(outdir+'asinh_beta_01_plt.png', new_img, cmap=cmap)\n",
    "\n",
    "new_img = img_scale.asinh(img_data, scale_min = min_val, non_linear=0.5)\n",
    "save_image_fix_dpi(outdir+'asinh_beta_05_plt.png', new_img, cmap=cmap)\n",
    "\n",
    "new_img = img_scale.asinh(img_data, scale_min = min_val, non_linear=2.0)\n",
    "save_image_fix_dpi(outdir+'asinh_beta_20_plt.png', new_img, cmap=cmap)\n",
    "\n",
    "new_img = img_scale.histeq(img_data_raw, num_bins=256)\n",
    "save_image_fix_dpi(outdir+'histeq_plt.png', new_img, cmap=cmap)\n",
    "\n",
    "new_img = img_scale.logistic(img_data_raw, center = 0.03, slope = 0.3)\n",
    "save_image_fix_dpi(outdir+'logistic_plt.png', new_img, cmap=cmap)"
   ]
  },
  {
   "cell_type": "code",
   "execution_count": null,
   "metadata": {},
   "outputs": [],
   "source": []
  }
 ],
 "metadata": {
  "kernelspec": {
   "display_name": "Python 3",
   "language": "python",
   "name": "python3"
  },
  "language_info": {
   "codemirror_mode": {
    "name": "ipython",
    "version": 3
   },
   "file_extension": ".py",
   "mimetype": "text/x-python",
   "name": "python",
   "nbconvert_exporter": "python",
   "pygments_lexer": "ipython3",
   "version": "3.9.4"
  }
 },
 "nbformat": 4,
 "nbformat_minor": 4
}
