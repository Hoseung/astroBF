{
 "cells": [
  {
   "cell_type": "code",
   "execution_count": 16,
   "metadata": {},
   "outputs": [],
   "source": [
    "import matplotlib\n",
    "matplotlib.use(\"qt4agg\")\n",
    "\n",
    "import numpy as np\n",
    "from astropy.io import fits\n",
    "import skimage\n",
    "from skimage import io\n",
    "from Shin import img_scale\n",
    "import matplotlib.pyplot as plt"
   ]
  },
  {
   "cell_type": "code",
   "execution_count": 19,
   "metadata": {},
   "outputs": [
    {
     "name": "stdout",
     "output_type": "stream",
     "text": [
      "#INFO :  Shin/imgs/frame-r-007907-6-0143.fits 1489 2048\n",
      "sky =  0.004096272290220632 ( 4 )\n",
      "... min. and max. value :  -0.16644978791522064 190.7459037277098\n"
     ]
    }
   ],
   "source": [
    "fn = \"Shin/imgs/frame-r-007907-6-0143.fits\"\n",
    "sig_fract = 5.0\n",
    "percent_fract = 0.01\n",
    "\n",
    "hdulist = fits.open(fn)\n",
    "img_header = hdulist[0].header\n",
    "img_data_raw = hdulist[0].data\n",
    "hdulist.close()\n",
    "width=img_data_raw.shape[0]\n",
    "height=img_data_raw.shape[1]\n",
    "print(\"#INFO : \", fn, width, height)\n",
    "img_data_raw = np.array(img_data_raw, dtype=float)\n",
    "#sky, num_iter = img_scale.sky_median_sig_clip(img_data, sig_fract, percent_fract, max_iter=100)\n",
    "sky, num_iter = img_scale.sky_mean_sig_clip(img_data_raw, sig_fract, percent_fract, max_iter=10)\n",
    "print(\"sky = \", sky, '(', num_iter, ')')\n",
    "img_data = img_data_raw - sky\n",
    "min_val = 0.0\n",
    "print(\"... min. and max. value : \", np.min(img_data), np.max(img_data))"
   ]
  },
  {
   "cell_type": "markdown",
   "metadata": {},
   "source": [
    "### skimage \n",
    "\n",
    "Because I found it cumbersome to get the right number of pixels in matplotlib. "
   ]
  },
  {
   "cell_type": "code",
   "execution_count": 18,
   "metadata": {},
   "outputs": [],
   "source": [
    "def scale_to_unity(img):\n",
    "    return (img-img.min())/img.ptp()\n",
    "\n",
    "def save_fig(fname, img, cm=None, origin='lower'):\n",
    "    \"\"\"\n",
    "    NOTE\n",
    "    ----\n",
    "        Use np.fliplr for left-right flipping\n",
    "        Or, np.flip with axis arguement for general flipping.\n",
    "    \"\"\"\n",
    "    if cm is not None: img = cm(img)\n",
    "    if origin == 'lower': img = np.flipud(img)\n",
    "    io.imsave(fname, img)"
   ]
  },
  {
   "cell_type": "code",
   "execution_count": 21,
   "metadata": {},
   "outputs": [
    {
     "name": "stdout",
     "output_type": "stream",
     "text": [
      "img_scale : sqrt\n"
     ]
    },
    {
     "name": "stderr",
     "output_type": "stream",
     "text": [
      "<ipython-input-20-67620f52f142>:4: UserWarning: sqrt.png is a low contrast image\n",
      "  io.imsave(fname, img)\n"
     ]
    },
    {
     "name": "stdout",
     "output_type": "stream",
     "text": [
      "img_scale : power\n",
      "img_scale : log\n"
     ]
    },
    {
     "name": "stderr",
     "output_type": "stream",
     "text": [
      "<ipython-input-20-67620f52f142>:4: UserWarning: power.png is a low contrast image\n",
      "  io.imsave(fname, img)\n"
     ]
    },
    {
     "name": "stdout",
     "output_type": "stream",
     "text": [
      "img_scale : linear\n",
      "img_scale : asinh\n"
     ]
    },
    {
     "name": "stderr",
     "output_type": "stream",
     "text": [
      "<ipython-input-20-67620f52f142>:4: UserWarning: linear.png is a low contrast image\n",
      "  io.imsave(fname, img)\n"
     ]
    },
    {
     "name": "stdout",
     "output_type": "stream",
     "text": [
      "img_scale : asinh\n"
     ]
    },
    {
     "name": "stderr",
     "output_type": "stream",
     "text": [
      "<ipython-input-20-67620f52f142>:4: UserWarning: asinh_beta_05.png is a low contrast image\n",
      "  io.imsave(fname, img)\n"
     ]
    },
    {
     "name": "stdout",
     "output_type": "stream",
     "text": [
      "img_scale : asinh\n"
     ]
    },
    {
     "name": "stderr",
     "output_type": "stream",
     "text": [
      "<ipython-input-20-67620f52f142>:4: UserWarning: asinh_beta_20.png is a low contrast image\n",
      "  io.imsave(fname, img)\n"
     ]
    },
    {
     "name": "stdout",
     "output_type": "stream",
     "text": [
      "img_scale : logistic\n"
     ]
    }
   ],
   "source": [
    "cm = None\n",
    "#cm = plt.cm.get_cmap('inferno')\n",
    "new_img = img_scale.sqrt(img_data, scale_min = min_val)\n",
    "save_fig('sqrt.png', skimage.util.img_as_ubyte(scale_to_unity(new_img)), cm=cm) # convert to uit or you will get a warning.\n",
    "\n",
    "new_img = img_scale.power(img_data, power_index=3.0, scale_min = min_val)\n",
    "save_fig('power.png', skimage.util.img_as_ubyte(scale_to_unity(new_img)), cm=cm)\n",
    "\n",
    "new_img = img_scale.log(img_data, scale_min = min_val)\n",
    "save_fig('log.png', skimage.util.img_as_ubyte(scale_to_unity(new_img)), cm=cm)\n",
    "\n",
    "new_img = img_scale.linear(img_data, scale_min = min_val)\n",
    "save_fig('linear.png', skimage.util.img_as_ubyte(scale_to_unity(new_img)), cm=cm)\n",
    "\n",
    "new_img = img_scale.asinh(img_data, scale_min = min_val, non_linear=0.01)\n",
    "save_fig('asinh_beta_01.png', skimage.util.img_as_ubyte(scale_to_unity(new_img)), cm=cm)\n",
    "\n",
    "new_img = img_scale.asinh(img_data, scale_min = min_val, non_linear=0.5)\n",
    "save_fig('asinh_beta_05.png', skimage.util.img_as_ubyte(scale_to_unity(new_img)), cm=cm)\n",
    "\n",
    "new_img = img_scale.asinh(img_data, scale_min = min_val, non_linear=2.0)\n",
    "save_fig('asinh_beta_20.png', skimage.util.img_as_ubyte(scale_to_unity(new_img)), cm=cm)\n",
    "\n",
    "new_img = img_scale.histeq(img_data_raw, num_bins=256)\n",
    "save_fig('histeq.png', skimage.util.img_as_ubyte(scale_to_unity(new_img)), cm=cm)\n",
    "\n",
    "new_img = img_scale.logistic(img_data_raw, center = 0.03, slope = 0.3)\n",
    "save_fig('logistic.png', skimage.util.img_as_ubyte(scale_to_unity(new_img)), cm=cm)"
   ]
  },
  {
   "cell_type": "markdown",
   "metadata": {},
   "source": [
    "## Matplotlib version\n",
    "\n",
    "#### Note on matplotlib colormaps\n",
    "\n",
    "Only few colormaps are linear (perceptually uniform) in lightness: *viridis, plasma, inferno, magma, cividis* \n",
    "Among them, only **inferno** and **magma** ranges (0,100) lightness. \n",
    "\n",
    "*binary, gist_yarg, gist_gray, gray* also cover the whole lightness range (but are NOT perfectly linear)"
   ]
  },
  {
   "cell_type": "code",
   "execution_count": null,
   "metadata": {},
   "outputs": [],
   "source": [
    "new_img = img_scale.sqrt(img_data, scale_min = min_val)\n",
    "pylab.imshow(new_img, interpolation='nearest', origin='lower', cmap=pylab.cm.hot)\n",
    "pylab.axis('off')\n",
    "pylab.savefig('sqrt.png')\n",
    "pylab.clf()\n",
    "new_img = img_scale.power(img_data, power_index=3.0, scale_min = min_val)\n",
    "pylab.imshow(new_img, interpolation='nearest', origin='lower', cmap=pylab.cm.hot)\n",
    "pylab.axis('off')\n",
    "pylab.savefig('power.png')\n",
    "pylab.clf()\n",
    "new_img = img_scale.log(img_data, scale_min = min_val)\n",
    "pylab.imshow(new_img, interpolation='nearest', origin='lower', cmap=pylab.cm.hot)\n",
    "pylab.axis('off')\n",
    "pylab.savefig('log.png')\n",
    "pylab.clf()\n",
    "new_img = img_scale.linear(img_data, scale_min = min_val)\n",
    "pylab.imshow(new_img, interpolation='nearest', origin='lower', cmap=pylab.cm.hot)\n",
    "pylab.axis('off')\n",
    "pylab.savefig('linear.png')\n",
    "pylab.clf()\n",
    "new_img = img_scale.asinh(img_data, scale_min = min_val, non_linear=0.01)\n",
    "pylab.imshow(new_img, interpolation='nearest', origin='lower', cmap=pylab.cm.hot)\n",
    "pylab.axis('off')\n",
    "pylab.savefig('asinh_beta_01.png')\n",
    "pylab.clf()\n",
    "new_img = img_scale.asinh(img_data, scale_min = min_val, non_linear=0.5)\n",
    "pylab.imshow(new_img, interpolation='nearest', origin='lower', cmap=pylab.cm.hot)\n",
    "pylab.axis('off')\n",
    "pylab.savefig('asinh_beta_05.png')\n",
    "pylab.clf()\n",
    "new_img = img_scale.asinh(img_data, scale_min = min_val, non_linear=2.0)\n",
    "pylab.imshow(new_img, interpolation='nearest', origin='lower', cmap=pylab.cm.hot)\n",
    "pylab.axis('off')\n",
    "pylab.savefig('asinh_beta_20.png')\n",
    "pylab.clf()\n",
    "new_img = img_scale.histeq(img_data_raw, num_bins=256)\n",
    "pylab.imshow(new_img, interpolation='nearest', origin='lower', cmap=pylab.cm.hot)\n",
    "pylab.axis('off')\n",
    "pylab.savefig('histeq.png')\n",
    "pylab.clf()\n",
    "new_img = img_scale.logistic(img_data_raw, center = 0.03, slope = 0.3)\n",
    "pylab.imshow(new_img, interpolation='nearest', origin='lower', cmap=pylab.cm.hot)\n",
    "pylab.axis('off')\n",
    "pylab.savefig('logistic.png')\n",
    "pylab.clf()\n"
   ]
  }
 ],
 "metadata": {
  "kernelspec": {
   "display_name": "Python 3.8.3 64-bit ('tonemap': conda)",
   "language": "python",
   "name": "python38364bittonemapcondadaae818a71a44f73b2f3b1d14c8757e6"
  },
  "language_info": {
   "codemirror_mode": {
    "name": "ipython",
    "version": 3
   },
   "file_extension": ".py",
   "mimetype": "text/x-python",
   "name": "python",
   "nbconvert_exporter": "python",
   "pygments_lexer": "ipython3",
   "version": "3.8.3"
  }
 },
 "nbformat": 4,
 "nbformat_minor": 4
}
