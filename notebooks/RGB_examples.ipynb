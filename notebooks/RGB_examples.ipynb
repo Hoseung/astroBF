{
 "cells": [
  {
   "cell_type": "markdown",
   "metadata": {},
   "source": [
    "Prerequisites \n",
    "\n",
    "* PyFITS for reading fits files\n",
    "* scikit-image (reading fits depends on PyFITS)\n",
    "\n",
    "\n",
    "Or, you can use astropy.io.fits \n",
    "\n",
    "\n",
    "Note that PyFITS will give you a warning 'PyFITS is deprecated, please use astropy.io.fits.' But Scikit-image still depends on PyFITS :("
   ]
  },
  {
   "cell_type": "code",
   "execution_count": 7,
   "metadata": {},
   "outputs": [],
   "source": [
    "import cv2\n",
    "import numpy\n",
    "import astropy\n",
    "from astropy.io import fits\n",
    "from Shin import img_scale\n",
    "import skimage\n"
   ]
  },
  {
   "cell_type": "code",
   "execution_count": 6,
   "metadata": {},
   "outputs": [
    {
     "name": "stderr",
     "output_type": "stream",
     "text": [
      "/home/hoseung/anaconda3/envs/tonemap/lib/python3.8/site-packages/pyfits/__init__.py:21: PyFITSDeprecationWarning: PyFITS is deprecated, please use astropy.io.fits\n",
      "  warnings.warn('PyFITS is deprecated, please use astropy.io.fits',\n"
     ]
    }
   ],
   "source": [
    "import pyfits"
   ]
  },
  {
   "cell_type": "code",
   "execution_count": 8,
   "metadata": {},
   "outputs": [
    {
     "name": "stdout",
     "output_type": "stream",
     "text": [
      "Red file =  ./Shin/imgs/frame-i-007907-6-0143.fits ( 1489 , 2048 )\n"
     ]
    }
   ],
   "source": [
    "# Parameters\n",
    "red_fn = \"./Shin/imgs/frame-i-007907-6-0143.fits\"\n",
    "green_fn = \"./Shin/imgs/frame-r-007907-6-0143.fits\"\n",
    "blue_fn = \"./Shin/imgs/frame-g-007907-6-0143.fits\"\n",
    "sig_fract = 5.0\n",
    "per_fract = 5.0-2\n",
    "max_iter = 20\n",
    "sub_size_fract = 0.3\n",
    "min_val = 0.0\n",
    "red_factor = 1.0\n",
    "green_factor = 1.0\n",
    "blue_factor = 1.0\n",
    "red_non_linear_fact = 0.005\n",
    "green_non_linear_fact = 0.005\n",
    "blue_non_linear_fact = 0.005\n",
    "\n",
    "\n",
    "# Read red image\n",
    "hdulist = fits.open(red_fn) # astropy's module\n",
    "img_header = hdulist[0].header\n",
    "img_data = hdulist[0].data\n",
    "hdulist.close()\n",
    "width=img_data.shape[0]\n",
    "height=img_data.shape[1]\n",
    "print(\"Red file = \", red_fn, \"(\", width, \",\", height, \")\")\n",
    "img_data_r = numpy.array(img_data, dtype=float)\n"
   ]
  },
  {
   "cell_type": "code",
   "execution_count": 9,
   "metadata": {},
   "outputs": [
    {
     "name": "stdout",
     "output_type": "stream",
     "text": [
      "size of the sample image =  790403\n",
      "scale =  0.00616455078125 0.0418701171875\n",
      "Green file =  ./Shin/imgs/frame-r-007907-6-0143.fits ( 1489 , 2048 )\n",
      "size of the sample image =  790609\n",
      "scale =  0.003818511962890625 0.026702880859375\n",
      "Blue file =  ./Shin/imgs/frame-g-007907-6-0143.fits ( 1489 , 2048 )\n",
      "size of the sample image =  790478\n",
      "scale =  0.0017642974853515625 0.017181396484375\n",
      "img_scale : asinh\n",
      "img_scale : asinh\n",
      "img_scale : asinh\n",
      "image size  1489 2048\n"
     ]
    }
   ],
   "source": [
    "\n",
    "#sky = numpy.median(numpy.ravel(img_data_r))\n",
    "#sky = numpy.mean(numpy.ravel(img_data_r))\n",
    "#sky, num_iter = img_scale.sky_median_sig_clip(img_data_r, sig_fract, per_fract, max_iter)\n",
    "#print \"sky = \", sky, \"(\", num_iter, \") for red image \\\n",
    "#(\", numpy.max(img_data_r), \",\", numpy.min(img_data_r), \")\"\n",
    "#img_data_r = img_data_r - sky\n",
    "##### find sub-samples for zscale\n",
    "flat_img_data_r = numpy.ravel(img_data_r)\n",
    "size_r = width * height\n",
    "sub_img_ind = numpy.random.randint(0, size_r, size=int(sub_size_fract*size_r))\n",
    "sub_img_ind = numpy.unique(sub_img_ind)\n",
    "sub_img_data_r = flat_img_data_r[sub_img_ind]\n",
    "print(\"size of the sample image = \", len(sub_img_data_r))\n",
    "min_r, max_r = img_scale.range_from_percentile(sub_img_data_r, low_cut=0.5, high_cut=0.25)\n",
    "print(\"scale = \", min_r, max_r)\n",
    "\n",
    "\n",
    "# Read green image\n",
    "hdulist = fits.open(green_fn)\n",
    "img_header = hdulist[0].header\n",
    "img_data = hdulist[0].data\n",
    "hdulist.close()\n",
    "width=img_data.shape[0]\n",
    "height=img_data.shape[1]\n",
    "print(\"Green file = \", green_fn, \"(\", width, \",\", height, \")\")\n",
    "img_data_g = numpy.array(img_data, dtype=float)\n",
    "#sky = numpy.median(numpy.ravel(img_data_g))\n",
    "#sky = numpy.mean(numpy.ravel(img_data_g))\n",
    "#sky, num_iter = img_scale.sky_median_sig_clip(img_data_g, sig_fract, per_fract, max_iter)\n",
    "#print \"sky = \", sky, \"(\", num_iter, \") for green image \\\n",
    "#(\", numpy.max(img_data_g), \",\", numpy.min(img_data_g), \")\"\n",
    "#img_data_g = img_data_g - sky\n",
    "##### find sub-samples for zscale\n",
    "flat_img_data_g = numpy.ravel(img_data_g)\n",
    "size_g = width * height\n",
    "sub_img_ind = numpy.random.randint(0, size_g, size=int(sub_size_fract*size_g))\n",
    "sub_img_ind = numpy.unique(sub_img_ind)\n",
    "sub_img_data_g = flat_img_data_g[sub_img_ind]\n",
    "print(\"size of the sample image = \", len(sub_img_data_g))\n",
    "min_g, max_g = img_scale.range_from_percentile(sub_img_data_g, low_cut=0.5, high_cut=0.25)\n",
    "print(\"scale = \", min_g, max_g)\n",
    "\n",
    "\n",
    "# Read blue image\n",
    "hdulist = fits.open(blue_fn)\n",
    "img_header = hdulist[0].header\n",
    "img_data = hdulist[0].data\n",
    "hdulist.close()\n",
    "width=img_data.shape[0]\n",
    "height=img_data.shape[1]\n",
    "print(\"Blue file = \", blue_fn, \"(\", width, \",\", height, \")\")\n",
    "img_data_b = numpy.array(img_data, dtype=float)\n",
    "#sky = numpy.median(numpy.ravel(img_data_b))\n",
    "#sky = numpy.mean(numpy.ravel(img_data_b))\n",
    "#sky, num_iter = img_scale.sky_median_sig_clip(img_data_b, sig_fract, per_fract, max_iter)\n",
    "#print \"sky = \", sky, \"(\", num_iter, \") for blue image \\\n",
    "#(\", numpy.max(img_data_b), \",\", numpy.min(img_data_b), \")\"\n",
    "#img_data_b = img_data_b - sky\n",
    "##### find sub-samples for zscale\n",
    "flat_img_data_b = numpy.ravel(img_data_b)\n",
    "size_b = width * height\n",
    "sub_img_ind = numpy.random.randint(0, size_b, size=int(sub_size_fract*size_b))\n",
    "sub_img_ind = numpy.unique(sub_img_ind)\n",
    "sub_img_data_b = flat_img_data_b[sub_img_ind]\n",
    "print(\"size of the sample image = \", len(sub_img_data_b))\n",
    "min_b, max_b = img_scale.range_from_percentile(sub_img_data_b, low_cut=0.5, high_cut=0.25)\n",
    "print(\"scale = \", min_b, max_b)\n",
    "\n",
    "\n",
    "# Apply scaling relations\n",
    "r = red_factor * img_scale.asinh(img_data_r, scale_min = min_r, scale_max = max_r, non_linear=red_non_linear_fact)\n",
    "g = green_factor * img_scale.asinh(img_data_g, scale_min = min_g, scale_max = max_g, non_linear=green_non_linear_fact)\n",
    "b = blue_factor * img_scale.asinh(img_data_b, scale_min = min_b, scale_max = max_b, non_linear=blue_non_linear_fact)\n",
    "\n",
    "\n",
    "# RGB image with Scikit-image\n",
    "print(\"image size \", width, height)\n",
    "rgba_array = numpy.empty((width,height,4), numpy.uint8) # assuming 8 bits per channnel\n",
    "rgba_array[:,:,0] = skimage.util.img_as_ubyte(r) # red\n",
    "rgba_array[:,:,1] = skimage.util.img_as_ubyte(g) # green\n",
    "rgba_array[:,:,2] = skimage.util.img_as_ubyte(b) # blue\n",
    "rgba_array[:,:,3] = 255 # Alpha transparency\n",
    "io.imsave('rgb.png', rgba_array)\n"
   ]
  },
  {
   "cell_type": "code",
   "execution_count": null,
   "metadata": {},
   "outputs": [],
   "source": []
  }
 ],
 "metadata": {
  "kernelspec": {
   "display_name": "Python 3.8.3 64-bit ('tonemap': conda)",
   "language": "python",
   "name": "python38364bittonemapcondadaae818a71a44f73b2f3b1d14c8757e6"
  },
  "language_info": {
   "codemirror_mode": {
    "name": "ipython",
    "version": 3
   },
   "file_extension": ".py",
   "mimetype": "text/x-python",
   "name": "python",
   "nbconvert_exporter": "python",
   "pygments_lexer": "ipython3",
   "version": "3.8.3"
  }
 },
 "nbformat": 4,
 "nbformat_minor": 2
}
