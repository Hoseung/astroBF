{
 "cells": [
  {
   "cell_type": "markdown",
   "metadata": {},
   "source": [
    "Prerequisites \n",
    "\n",
    "* PyFITS for reading fits files\n",
    "* scikit-image (reading fits depends on PyFITS)\n",
    "\n",
    "\n",
    "Or, you can use astropy.io.fits \n",
    "\n",
    "\n",
    "Note that PyFITS will give you a warning 'PyFITS is deprecated, please use astropy.io.fits.' But Scikit-image still depends on PyFITS :("
   ]
  },
  {
   "cell_type": "code",
   "execution_count": 3,
   "metadata": {},
   "outputs": [],
   "source": [
    "#import cv2\n",
    "import numpy as np\n",
    "import astropy\n",
    "from astropy.io import fits\n",
    "from astrobf.Shin import img_scale\n",
    "\n",
    "import skimage\n",
    "from skimage import io"
   ]
  },
  {
   "cell_type": "code",
   "execution_count": 4,
   "metadata": {},
   "outputs": [],
   "source": [
    "# Parameters\n",
    "ddir = \"/home/hoseung/Work/tonemap/bf_data/examples/\"\n",
    "outdir = ddir\n",
    "red_fn = ddir+\"J000311.00+155754.0-i.fits\"#   frame-i-007907-6-0143.fits\"\n",
    "green_fn = ddir+\"J000311.00+155754.0-r.fits\"#\"frame-r-007907-6-0143.fits\"\n",
    "blue_fn = ddir+\"J000311.00+155754.0-g.fits\"#\"frame-g-007907-6-0143.fits\"\n",
    "sig_fract = 5.0\n",
    "per_fract = 5.0-2\n",
    "max_iter = 20\n",
    "sub_size_fract = 0.3\n",
    "min_val = 0.0\n",
    "red_factor = 1.0\n",
    "green_factor = 1.0\n",
    "blue_factor = 1.0\n",
    "red_non_linear_fact = green_non_linear_fact = blue_non_linear_fact = 1\n",
    "#green_non_linear_fact = 0.005\n",
    "#blue_non_linear_fact = 0.005\n"
   ]
  },
  {
   "cell_type": "code",
   "execution_count": 5,
   "metadata": {},
   "outputs": [
    {
     "name": "stdout",
     "output_type": "stream",
     "text": [
      "This file = /home/hoseung/Work/tonemap/bf_data/examples/J000311.00+155754.0-g.fits, (181, 181)\n",
      "size of the sample image =  8498\n",
      "img_scale : asinh\n",
      "img_scale : asinh\n",
      "This file = /home/hoseung/Work/tonemap/bf_data/examples/J000311.00+155754.0-r.fits, (181, 181)\n",
      "size of the sample image =  8509\n",
      "img_scale : asinh\n",
      "img_scale : asinh\n",
      "This file = /home/hoseung/Work/tonemap/bf_data/examples/J000311.00+155754.0-i.fits, (181, 181)\n",
      "size of the sample image =  8456\n",
      "img_scale : asinh\n",
      "img_scale : asinh\n"
     ]
    }
   ],
   "source": [
    "def get_a_channel(fn, factor, return_size=True, **kwargs):\n",
    "    from astropy.io import fits\n",
    "    hdulist = fits.open(fn)\n",
    "    img_header = hdulist[0].header\n",
    "    img_data = np.array(hdulist[0].data, dtype=float)\n",
    "    width, height = hdulist[0].data.shape\n",
    "    hdulist.close()\n",
    "    print(\"This file = {}, ({}, {})\".format(fn, width, height))\n",
    "    \n",
    "    ##### find sub-samples for zscale\n",
    "    flat_img_data = np.ravel(img_data)\n",
    "    npix_tot = width * height\n",
    "    sub_img_ind = np.random.randint(0, npix_tot, size=int(sub_size_fract*npix_tot))\n",
    "    sub_img_ind = np.unique(sub_img_ind)\n",
    "    sub_img_data = flat_img_data[sub_img_ind]\n",
    "    print(\"size of the sample image = \", len(sub_img_data))\n",
    "    min_v, max_v = img_scale.range_from_percentile(sub_img_data, low_cut=0.5, high_cut=0.25)\n",
    "    red_factor * img_scale.asinh(img_data, scale_min = min_v, scale_max = max_v,\n",
    "                                 **kwargs)\n",
    "    if return_size:\n",
    "        return factor * img_scale.asinh(img_data, **kwargs), (width, height)\n",
    "    else:\n",
    "        return factor * img_scale.asinh(img_data, **kwargs)\n",
    "    \n",
    "b, (width, height) = get_a_channel(blue_fn, blue_factor, non_linear=blue_non_linear_fact)\n",
    "g, (width, height) = get_a_channel(green_fn, green_factor, non_linear=green_non_linear_fact)    \n",
    "r, (width, height) = get_a_channel(red_fn, red_factor, non_linear=red_non_linear_fact)"
   ]
  },
  {
   "cell_type": "code",
   "execution_count": 6,
   "metadata": {},
   "outputs": [
    {
     "name": "stdout",
     "output_type": "stream",
     "text": [
      "image size  181 181\n"
     ]
    }
   ],
   "source": [
    "# RGB image with Scikit-image\n",
    "print(\"image size \", width, height)\n",
    "rgba_array = np.empty((width,height,4), np.uint8) # assuming 8 bits per channnel\n",
    "rgba_array[:,:,0] = skimage.util.img_as_ubyte(r) # red\n",
    "rgba_array[:,:,1] = skimage.util.img_as_ubyte(g) # green\n",
    "rgba_array[:,:,2] = skimage.util.img_as_ubyte(b) # blue\n",
    "rgba_array[:,:,3] = 255 # Alpha transparency\n",
    "io.imsave(outdir+f'rgb_example_r{red_non_linear_fact:.2f}g{green_non_linear_fact:.2f}b{blue_non_linear_fact:.2f}.png',\n",
    "          np.flipud(rgba_array))"
   ]
  },
  {
   "cell_type": "code",
   "execution_count": null,
   "metadata": {},
   "outputs": [],
   "source": []
  }
 ],
 "metadata": {
  "kernelspec": {
   "display_name": "Python 3.8.3 64-bit ('tonemap': conda)",
   "language": "python",
   "name": "python38364bittonemapcondadaae818a71a44f73b2f3b1d14c8757e6"
  },
  "language_info": {
   "codemirror_mode": {
    "name": "ipython",
    "version": 3
   },
   "file_extension": ".py",
   "mimetype": "text/x-python",
   "name": "python",
   "nbconvert_exporter": "python",
   "pygments_lexer": "ipython3",
   "version": "3.8.3"
  }
 },
 "nbformat": 4,
 "nbformat_minor": 2
}
