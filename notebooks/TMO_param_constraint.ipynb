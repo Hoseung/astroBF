{
 "cells": [
  {
   "cell_type": "code",
   "execution_count": 1,
   "metadata": {},
   "outputs": [],
   "source": [
    "import numpy as np\n",
    "from glob import glob\n",
    "import matplotlib.pyplot as plt \n",
    "import pickle\n",
    "\n",
    "import astrobf\n",
    "from astrobf.utils import mask_utils\n",
    "from astrobf.utils.mask_utils import *\n",
    "from astrobf.utils import gen_mask\n",
    "#from astrobf import measure_morph\n",
    "\n",
    "import statmorph\n"
   ]
  },
  {
   "cell_type": "markdown",
   "metadata": {},
   "source": [
    "# Initialize BO loop -  Measure morphology features"
   ]
  },
  {
   "cell_type": "code",
   "execution_count": 2,
   "metadata": {},
   "outputs": [],
   "source": [
    "import torch\n",
    "import math\n",
    "\n",
    "# use a GPU if available\n",
    "device = torch.device(\"cuda\" if torch.cuda.is_available() else \"cpu\")\n",
    "dtype = torch.float"
   ]
  },
  {
   "cell_type": "markdown",
   "metadata": {},
   "source": [
    "### Initial guesses \n"
   ]
  },
  {
   "cell_type": "code",
   "execution_count": 3,
   "metadata": {},
   "outputs": [],
   "source": [
    "fields = ['r20', 'r80',\n",
    "          'gini', 'm20', 'concentration', 'asymmetry', 'smoothness']\n",
    "\n",
    "def select_columns(arr, fields):\n",
    "    dtype = np.dtype([(name, arr.dtype.fields[name][0]) for name in fields])\n",
    "    newarr = np.zeros(arr.shape, dtype=dtype)\n",
    "    for name in dtype.names:\n",
    "        newarr[name] = arr[name]\n",
    "    return newarr\n",
    "\n",
    "def struct_to_ndarray(strarr):\n",
    "    \"\"\"\n",
    "    Takes 'contiguous' structured array. Doesn't work with discontinuous views!\n",
    "    \n",
    "    \"\"\"\n",
    "    return strarr.view(np.float64).reshape(strarr.shape + (-1,))\n",
    "\n",
    "from sklearn.cluster import KMeans\n",
    "from sklearn import metrics\n",
    "from sklearn.cluster import AgglomerativeClustering, AffinityPropagation, Birch, DBSCAN, MeanShift, SpectralClustering\n",
    "from sklearn.pipeline import make_pipeline\n",
    "from sklearn.preprocessing import StandardScaler\n",
    "def bench_clustering(clu, data, labels):\n",
    "    \"\"\"Benchmark to evaluate the clu initialization methods.\n",
    "\n",
    "    Parameters\n",
    "    ----------\n",
    "    clu : clu instance\n",
    "        A :class:`~sklearn.cluster.A_clustering_method` instance with the initialization\n",
    "        already set.\n",
    "    name : str\n",
    "        Name given to the strategy. It will be used to show the results in a\n",
    "        table.\n",
    "    data : ndarray of shape (n_samples, n_features)\n",
    "        The data to cluster.\n",
    "    labels : ndarray of shape (n_samples,)\n",
    "        The labels used to compute the clustering metrics which requires some\n",
    "        supervision.\n",
    "    \"\"\"\n",
    "\n",
    "    #t0 = time()\n",
    "    estimator = make_pipeline(StandardScaler(), clu).fit(data)\n",
    "    #fit_time = time() - t0\n",
    "    results = [estimator[-1].inertia_]\n",
    "\n",
    "    # Define the metrics which require only the true labels and estimator\n",
    "    # labels\n",
    "    clustering_metrics = [\n",
    "        metrics.homogeneity_score,\n",
    "        metrics.completeness_score,\n",
    "        metrics.v_measure_score,\n",
    "        metrics.adjusted_rand_score,\n",
    "        metrics.adjusted_mutual_info_score,\n",
    "    ]\n",
    "    results += [m(labels, estimator[-1].labels_) for m in clustering_metrics]\n",
    "\n",
    "    # The silhouette score requires the full dataset\n",
    "    results += [\n",
    "        metrics.silhouette_score(data, estimator[-1].labels_,\n",
    "                                 metric=\"euclidean\", sample_size=300,)\n",
    "    ]\n",
    "\n",
    "    return results"
   ]
  },
  {
   "cell_type": "code",
   "execution_count": 4,
   "metadata": {},
   "outputs": [],
   "source": [
    "def Mantiuk_Seidel(lum, b, c, dl, dh):\n",
    "    al = (c*dl-1)/dl # contrast compression for shadows\n",
    "    ah = (c*dh-1)/dh\n",
    "    lp = np.log10(lum) # L prime\n",
    "\n",
    "    conditions=[lp <= b-dl,\n",
    "                (b-dl < lp) * (lp <= b),\n",
    "                (b < lp) * (lp <= b+dh),\n",
    "                lp > b+dh]\n",
    "\n",
    "    functions=[0,\n",
    "               lambda lp : 1/2*c*(lp-b)/(1-al*(lp-b))+1/2,\n",
    "               lambda lp : 1/2*c*(lp-b)/(1+ah*(lp-b))+1/2,\n",
    "               1]\n",
    "\n",
    "    return np.piecewise(lp, conditions, functions)"
   ]
  },
  {
   "cell_type": "code",
   "execution_count": 8,
   "metadata": {},
   "outputs": [],
   "source": [
    "def measure_morph(tmo_params):\n",
    "    ngal = len(all_gals)\n",
    "    result_arr = np.zeros(ngal, \n",
    "                          dtype=[('id','<U24'),('ttype',int),('flag',bool),('flag_sersic',bool)]\n",
    "                                   +[(ff,float) for ff in fields])\n",
    "    for i, gal in enumerate(all_gals):\n",
    "        img, mask, weight = gal['data']\n",
    "        masked = img.copy()\n",
    "        masked[~mask.astype(bool)] = np.nan\n",
    "        \n",
    "        tonemapped = Mantiuk_Seidel(masked, **tmo_params)\n",
    "        #print(\"total fulx\", np.sum(tonemapped))\n",
    "        if np.sum(tonemapped) <= 0:\n",
    "            return ['bad', np.sum(tonemapped)]\n",
    "        #logging.info('subtrated min max: {}, {} --  tonemapped min max: {},{}'.format(subtracted.min(), subtracted.max(), tonemapped.min(), tonemapped.max()))\n",
    "        morph = statmorph.source_morphology(tonemapped, mask, weightmap=weight, sersic_maxiter=0)[0]\n",
    "\n",
    "        # get all measurements\n",
    "        result_arr[i]['id'] = gal['img_name']\n",
    "        for ff in fields:\n",
    "            result_arr[i][ff] = getattr(morph, ff)\n",
    "    return result_arr\n",
    "\n",
    "def add_ttype(result_arr, cat):\n",
    "    inds = cat['ID'].searchsorted(result_arr['id'])\n",
    "    print(\"Is every element matched?: \", np.all(cat[inds]['ID'] == result_arr['id']))\n",
    "    result_arr['ttype'] = cat[inds]['TT']\n",
    "\n",
    "def do_ML(result_arr, n_clusters=2):\n",
    "    compact = struct_to_ndarray(select_columns(result_arr, ['gini', 'm20', 'concentration']))\n",
    "    \n",
    "    # Binary classification \n",
    "    labels = np.zeros(len(result_arr), dtype=np.int8)\n",
    "    ind_positive = np.where((result_arr['ttype'] > 3) * (result_arr['ttype'] < 6))[0]\n",
    "    print(\"positive samples {}/{}\".format(len(ind_positive), len(result_arr)))\n",
    "    labels[ind_positive] = 1 # Zero otherwise\n",
    "\n",
    "    clustering = KMeans(init=\"k-means++\", n_clusters=n_clusters, n_init=4,\n",
    "                    random_state=0)\n",
    "    \n",
    "    eval_metrics = bench_clustering(clustering, compact, labels)\n",
    "    return eval_metrics"
   ]
  },
  {
   "cell_type": "markdown",
   "metadata": {},
   "source": [
    "# Run Bayesian Optimization loop"
   ]
  },
  {
   "cell_type": "code",
   "execution_count": 14,
   "metadata": {},
   "outputs": [],
   "source": [
    "from ax.plot.contour import plot_contour\n",
    "from ax.plot.trace import optimization_trace_single_method\n",
    "from ax.service.ax_client import AxClient\n",
    "#from ax.utils.notebook.plotting import render, init_notebook_plotting\n",
    "#init_notebook_plotting()"
   ]
  },
  {
   "cell_type": "markdown",
   "metadata": {},
   "source": [
    "### define evaluation function\n",
    "1. Measure Morphological parameters \n",
    "2. cluster/classify \n",
    "3. assess clustering/classification\n"
   ]
  },
  {
   "cell_type": "code",
   "execution_count": 5,
   "metadata": {
    "scrolled": true
   },
   "outputs": [
    {
     "name": "stdout",
     "output_type": "stream",
     "text": [
      "                         ID      RA    dec  zred  zred_q     mg     mr  Mag_r  \\\n",
      "0      J155341.74-003422.84  238.42  -0.57  0.07    1.00  15.82  15.05 -22.08   \n",
      "1      J155146.83-000618.62  237.94  -0.10  0.05    1.00  15.51  14.60 -21.56   \n",
      "2      J154453.22+002415.48  236.22   0.40  0.03    1.00  15.63  14.83 -20.27   \n",
      "3      J154711.32+002424.81  236.79   0.40  0.03    0.96  15.71  15.15 -20.10   \n",
      "4      J154514.39+004619.89  236.31   0.77  0.01    1.00  15.34  14.95 -18.38   \n",
      "...                     ...     ...    ...   ...     ...    ...    ...    ...   \n",
      "14029  J124719.07+154235.64  191.83  15.71  0.06    1.00  15.78  14.90 -21.85   \n",
      "14030  J130510.16+152606.67  196.29  15.43  0.05    1.00  15.31  14.59 -21.62   \n",
      "14031  J131525.21+152522.23  198.85  15.42  0.02    1.00  15.25  14.34 -20.14   \n",
      "14032  J132045.57+151532.75  200.19  15.26  0.02    0.99  15.72  14.93 -19.32   \n",
      "14033  J132135.96+151917.80  200.40  15.32  0.02    1.00  15.47  14.80 -19.47   \n",
      "\n",
      "       logLg  Rpetro   Rp50   Rp90           spID   logM    Age   g_r  sfrt  \\\n",
      "0      10.75   18.66  8.807  17.72  343-51692-265  11.08   4.45  0.63  1.01   \n",
      "1      10.62   12.18  4.578  14.42  343-51692-304  11.24   7.11  0.82  0.89   \n",
      "2      10.07    6.12  2.564   7.45  342-51691-381  10.40   4.28  0.74 -0.01   \n",
      "3      10.46   11.09  6.614   8.95  342-51691-493  10.15   1.90  0.61  1.10   \n",
      "4       9.11    6.91  2.548   4.87  342-51691-430   9.17   1.89  0.56 -1.73   \n",
      "...      ...     ...    ...    ...            ...    ...    ...   ...   ...   \n",
      "14029  10.72   16.59  7.044  17.30  1770-53171-41  11.25   7.98  0.76 -0.21   \n",
      "14030  10.58   10.95  4.882  12.89  1772-53089-38  10.93   4.25  0.64 -0.05   \n",
      "14031  10.05    5.51  2.111   6.58  1773-53112-40  10.74  99.00  0.85 -1.07   \n",
      "14032   9.68    5.17  2.234   6.07  1773-53112-61  10.25   4.39  0.75 -0.53   \n",
      "14033   9.85    3.87  1.815   4.93  1773-53112-61  10.31   5.76  0.61 -0.84   \n",
      "\n",
      "        sfrm   mu_g  mu_M  MvoerL    area  bovera  Seeing    ng    nr  \\\n",
      "0      -9.95  22.63  8.25    0.19  674.81    0.79     1.6  2.93  3.56   \n",
      "1     -10.94  22.43  8.56    0.32  478.97    0.95     1.5  3.32  3.45   \n",
      "2     -10.83  22.47  8.15    0.09  179.23    0.84     1.3  2.81  3.05   \n",
      "3      -9.92  22.63  7.84    0.04  203.25    0.85     1.3  2.55  3.13   \n",
      "4     -10.28  22.53  7.33   -0.07   69.22    0.32     1.4  2.32  2.27   \n",
      "...      ...    ...   ...     ...     ...     ...     ...   ...   ...   \n",
      "14029 -10.72  22.53  8.49    0.30  587.12    0.56     1.2  4.06  4.13   \n",
      "14030 -10.18  22.35  8.26    0.18  466.86    0.70     1.4  2.41  2.93   \n",
      "14031 -11.13  22.26  8.52   99.00  164.51    0.34     1.3  3.77  3.46   \n",
      "14032  -9.98  22.78  8.21    0.33  107.75    0.60     1.2  2.98  3.45   \n",
      "14033 -10.41  22.17  8.30    0.30  101.04    0.45     1.1  2.60  2.86   \n",
      "\n",
      "         chi2g    chi2r   R50n   R90n   sigma  e_sigma  VoverVmax  TT  Bar  \\\n",
      "0      1452.15  1457.84   5.84  18.65  143.68     7.89       0.80   3    0   \n",
      "1       476.32   280.61   4.24  13.93  204.81     5.36       0.52  -5    0   \n",
      "2        82.04   116.52   3.61  11.33  129.97     5.46       0.60  -2    0   \n",
      "3      2755.89  3844.55   5.69  17.56   45.25    12.27       0.71   4    0   \n",
      "4        63.38    21.12  12.79  38.48   89.32    14.59       0.37   5    0   \n",
      "...        ...      ...    ...    ...     ...      ...        ...  ..  ...   \n",
      "14029   341.16   263.83   3.84  13.04  195.68     6.66       0.75   2    0   \n",
      "14030   690.33   866.78   4.32  13.18  121.74     5.39       0.41   2    0   \n",
      "14031    48.07    35.79   2.64   8.84  243.68     4.62       0.36   1    0   \n",
      "14032   158.70   353.75   4.20  13.42   65.21     5.18       0.69   0    0   \n",
      "14033   958.04   774.40   5.04  15.68  120.39     3.95       0.48   3    0   \n",
      "\n",
      "       Ring  f_Ring  Lens  TTq  Pair  f_Pair  Int  nt      RC3    Tt  \n",
      "0        36       0     0    0     0       0    0   0      NaN  99.0  \n",
      "1         0       0     0    0     0       0    0   0      NaN  99.0  \n",
      "2         0       0     0    0     0       0    0   0      NaN  99.0  \n",
      "3         0       0     0    0     0       0    0   0      NaN  99.0  \n",
      "4         0       0     0    2     4       0    0   0  .SAS7?.  99.0  \n",
      "...     ...     ...   ...  ...   ...     ...  ...  ..      ...   ...  \n",
      "14029     0       0     0    0     0       0    0   0      NaN  99.0  \n",
      "14030     0       0     0    0     0       0    0   0      NaN  99.0  \n",
      "14031     0       0     0    0     0     128    0   0      NaN  99.0  \n",
      "14032     4       0     0    0     0       0    0   0      NaN  99.0  \n",
      "14033     4       0     0    0     0       0    0   0      NaN  99.0  \n",
      "\n",
      "[14034 rows x 45 columns]\n"
     ]
    }
   ],
   "source": [
    "from astrobf.utils.misc import load_Nair\n",
    "cat = load_Nair('../../bf_data/Nair_and_Abraham_2010/catalog/table2.dat')\n",
    "all_gals = pickle.load(open(\"all_gals.pickle\", \"rb\"))\n",
    "\n",
    "all_gals = all_gals[:10]"
   ]
  },
  {
   "cell_type": "code",
   "execution_count": 14,
   "metadata": {},
   "outputs": [],
   "source": [
    "from statmorph.utils import image_diagnostics"
   ]
  },
  {
   "cell_type": "code",
   "execution_count": 19,
   "metadata": {
    "collapsed": true
   },
   "outputs": [
    {
     "name": "stderr",
     "output_type": "stream",
     "text": [
      "<ipython-input-4-ef84b1df7157>:4: RuntimeWarning: invalid value encountered in log10\n",
      "  lp = np.log10(lum) # L prime\n",
      "<ipython-input-4-ef84b1df7157>:4: RuntimeWarning: invalid value encountered in log10\n",
      "  lp = np.log10(lum) # L prime\n",
      "WARNING: The fit may be unsuccessful; check fit_info['message'] for more information. [astropy.modeling.fitting]\n",
      "WARNING: fit_info['message']: Number of calls to function has reached maxfev = 1600. [statmorph.statmorph]\n",
      "<ipython-input-4-ef84b1df7157>:4: RuntimeWarning: invalid value encountered in log10\n",
      "  lp = np.log10(lum) # L prime\n",
      "<ipython-input-4-ef84b1df7157>:4: RuntimeWarning: invalid value encountered in log10\n",
      "  lp = np.log10(lum) # L prime\n",
      "<ipython-input-4-ef84b1df7157>:4: RuntimeWarning: invalid value encountered in log10\n",
      "  lp = np.log10(lum) # L prime\n",
      "<ipython-input-4-ef84b1df7157>:4: RuntimeWarning: invalid value encountered in log10\n",
      "  lp = np.log10(lum) # L prime\n",
      "<ipython-input-4-ef84b1df7157>:4: RuntimeWarning: invalid value encountered in log10\n",
      "  lp = np.log10(lum) # L prime\n",
      "<ipython-input-4-ef84b1df7157>:4: RuntimeWarning: invalid value encountered in log10\n",
      "  lp = np.log10(lum) # L prime\n",
      "<ipython-input-4-ef84b1df7157>:4: RuntimeWarning: invalid value encountered in log10\n",
      "  lp = np.log10(lum) # L prime\n",
      "<ipython-input-4-ef84b1df7157>:4: RuntimeWarning: invalid value encountered in log10\n",
      "  lp = np.log10(lum) # L prime\n"
     ]
    }
   ],
   "source": [
    "#tmo_params = {'b':1.68,'c':0.53,'dl':4.12,'dh':2.46}\n",
    "tom_params = {'b': 2.0, 'c': 3.0, 'dl': 2.2833053525731244, 'dh': 2.949584662550268}\n",
    "\n",
    "ngal = len(all_gals)\n",
    "result_arr = np.zeros(ngal, \n",
    "                      dtype=[('id','<U24'),('ttype',int),\n",
    "                             ('flag',bool),('flag_sersic',bool)]\n",
    "                               +[(ff,float) for ff in fields])\n",
    "\n",
    "for i, gal in enumerate(all_gals):\n",
    "    img, mask, weight = gal['data']\n",
    "    masked = img.copy()\n",
    "    masked[~mask.astype(bool)] = np.nan\n",
    "\n",
    "    tonemapped = Mantiuk_Seidel(masked, **tmo_params)\n",
    "    morph = statmorph.source_morphology(tonemapped, mask, weightmap=weight, sersic_maxiter=0)[0]\n",
    "    image_diagnostics.make_figure(morph, nrows=3,\n",
    "                                    savefig=f\"stat_morph_diagnostics_{i}.png\", img_org=None)\n",
    "    # get all measurements\n",
    "    result_arr[i]['id'] = gal['img_name']\n",
    "    for ff in fields:\n",
    "        result_arr[i][ff] = getattr(morph, ff)"
   ]
  },
  {
   "cell_type": "code",
   "execution_count": 52,
   "metadata": {
    "scrolled": true
   },
   "outputs": [],
   "source": [
    "def evaluate(params):\n",
    "    result_arr = measure_morph(params)\n",
    "    if result_arr[0] == \"bad\":\n",
    "        print(result_arr)\n",
    "        return {\"mymetric\": (-1, 0), \"total_flux\":(result_arr[1],0)}\n",
    "    add_ttype(result_arr, cat)\n",
    "    eval_metrics = do_ML(result_arr)\n",
    "    silhouette_score = eval_metrics[-1]\n",
    "    stderr = 0.0\n",
    "    return {\"mymetric\": (silhouette_score, stderr), \"total_flux\":(1,0)}"
   ]
  },
  {
   "cell_type": "markdown",
   "metadata": {},
   "source": [
    "**Mantiuk08 condition:**  \n",
    "\n",
    "b > dl  \n",
    "NO constraint between dh and dl!\n",
    "\n",
    "conditions=[lp <= b-dl,\n",
    "            (b-dl < lp) * (lp <= b),\n",
    "            (b < lp) * (lp <= b+dh),\n",
    "            lp > b+dh]"
   ]
  },
  {
   "cell_type": "code",
   "execution_count": 53,
   "metadata": {},
   "outputs": [
    {
     "data": {
      "text/plain": [
       "{'divide': 'warn', 'over': 'warn', 'under': 'ignore', 'invalid': 'ignore'}"
      ]
     },
     "execution_count": 53,
     "metadata": {},
     "output_type": "execute_result"
    }
   ],
   "source": [
    "np.seterr(invalid='ignore')"
   ]
  },
  {
   "cell_type": "code",
   "execution_count": 54,
   "metadata": {},
   "outputs": [
    {
     "name": "stderr",
     "output_type": "stream",
     "text": [
      "[INFO 03-18 04:39:48] ax.service.ax_client: Starting optimization with verbose logging. To disable logging, set the `verbose_logging` argument to `False`. Note that float values in the logs are rounded to 2 decimal points.\n"
     ]
    }
   ],
   "source": [
    "ax_client = AxClient()"
   ]
  },
  {
   "cell_type": "code",
   "execution_count": 55,
   "metadata": {
    "scrolled": true
   },
   "outputs": [
    {
     "name": "stderr",
     "output_type": "stream",
     "text": [
      "[INFO 03-18 04:40:15] ax.service.utils.instantiation: Inferred value type of ParameterType.FLOAT for parameter c. If that is not the expected value type, you can explicity specify 'value_type' ('int', 'float', 'bool' or 'str') in parameter dict.\n",
      "[INFO 03-18 04:40:15] ax.service.utils.instantiation: Inferred value type of ParameterType.FLOAT for parameter dl. If that is not the expected value type, you can explicity specify 'value_type' ('int', 'float', 'bool' or 'str') in parameter dict.\n",
      "[INFO 03-18 04:40:15] ax.service.utils.instantiation: Inferred value type of ParameterType.FLOAT for parameter dh. If that is not the expected value type, you can explicity specify 'value_type' ('int', 'float', 'bool' or 'str') in parameter dict.\n",
      "[INFO 03-18 04:40:15] ax.modelbridge.dispatch_utils: Using Bayesian Optimization generation strategy: GenerationStrategy(name='Sobol+GPEI', steps=[Sobol for 5 trials, GPEI for subsequent trials]). Iterations after 5 will take longer to generate due to  model-fitting.\n"
     ]
    }
   ],
   "source": [
    "ax_client.create_experiment(\n",
    "    parameters=[\n",
    "        {\n",
    "            \"name\": \"b\",\n",
    "            \"type\": \"range\",\n",
    "            \"bounds\": [1.0, 3.0],\n",
    "            \"value_type\": \"float\",  # Optional, defaults to inference from type of \"bounds\".\n",
    "            \"log_scale\": False,  # Optional, defaults to False.\n",
    "        },\n",
    "        {\n",
    "            \"name\": \"c\",\n",
    "            \"type\": \"range\",\n",
    "            \"bounds\": [0.5, 5.0],\n",
    "        },\n",
    "        {\n",
    "            \"name\": \"dl\",\n",
    "            \"type\": \"range\",\n",
    "            \"bounds\": [0.5, 4.0],\n",
    "        },\n",
    "        {\n",
    "            \"name\": \"dh\",\n",
    "            \"type\": \"range\",\n",
    "            \"bounds\": [0.5, 7.0],\n",
    "        },\n",
    "    ],\n",
    "    objective_name=\"mymetric\",\n",
    "    #minimize=True,  # Optional, defaults to False. Maximize Shiloutte score\n",
    "    #parameter_constraints=[\"b >= dl\"],  # Optional.\n",
    "    overwrite_existing_experiment =True,\n",
    "    outcome_constraints=[\"total_flux >= 1e-5\"],  # Optional.\n",
    ")"
   ]
  },
  {
   "cell_type": "code",
   "execution_count": 56,
   "metadata": {},
   "outputs": [
    {
     "name": "stderr",
     "output_type": "stream",
     "text": [
      "[INFO 03-18 04:40:19] ax.service.ax_client: Generated new trial 0 with parameters {'b': 1.54, 'c': 0.62, 'dl': 2.64, 'dh': 2.02}.\n",
      "WARNING: [segmap_gini] Disjoint features in Gini segmap. [statmorph.statmorph]\n",
      "WARNING: [sersic] Skipping Sersic fit... [statmorph.statmorph]\n",
      "[INFO 03-18 04:43:30] ax.service.ax_client: Completed trial 0 with data: {'mymetric': (-1, 0), 'total_flux': (0.0, 0)}.\n",
      "[INFO 03-18 04:43:30] ax.service.ax_client: Generated new trial 1 with parameters {'b': 1.7, 'c': 0.65, 'dl': 0.82, 'dh': 2.79}.\n",
      "[INFO 03-18 04:43:30] ax.service.ax_client: Completed trial 1 with data: {'mymetric': (-1, 0), 'total_flux': (0.0, 0)}.\n",
      "[INFO 03-18 04:43:30] ax.service.ax_client: Generated new trial 2 with parameters {'b': 1.45, 'c': 4.05, 'dl': 2.68, 'dh': 1.95}.\n"
     ]
    },
    {
     "name": "stdout",
     "output_type": "stream",
     "text": [
      "['bad', 0.0]\n",
      "['bad', 0.0]\n"
     ]
    },
    {
     "name": "stderr",
     "output_type": "stream",
     "text": [
      "WARNING: [segmap_gini] Disjoint features in Gini segmap. [statmorph.statmorph]\n",
      "WARNING: [sersic] Skipping Sersic fit... [statmorph.statmorph]\n",
      "WARNING: Nonpositive second moment. [statmorph.statmorph]\n",
      "WARNING: [rpetro_circ] r_min is not defined yet. [statmorph.statmorph]\n",
      "WARNING: [rpetro_circ] rpetro larger than cutout. [statmorph.statmorph]\n",
      "WARNING: rpetro_circ < annulus_width! Setting rpetro_circ = annulus_width. [statmorph.statmorph]\n",
      "WARNING: [asymmetry_function] Zero flux sum. [statmorph.statmorph]\n",
      "WARNING: [gini] Not enough data for Gini calculation. [statmorph.statmorph]\n",
      "WARNING: [m20] Negative second moment(s). [statmorph.statmorph]\n",
      "WARNING: [asymmetry_function] Zero flux sum. [statmorph.statmorph]\n",
      "WARNING: [sersic] Skipping Sersic fit... [statmorph.statmorph]\n",
      "WARNING: Gini and MID segmaps are quite different. [statmorph.statmorph]\n",
      "<ipython-input-52-5408cdd43429>:3: FutureWarning:\n",
      "\n",
      "elementwise == comparison failed and returning scalar instead; this will raise an error or perform elementwise comparison in the future.\n",
      "\n",
      "[INFO 03-18 04:47:52] ax.service.ax_client: Completed trial 2 with data: {'mymetric': (1.0, 0.0), 'total_flux': (1, 0)}.\n",
      "[INFO 03-18 04:47:52] ax.service.ax_client: Generated new trial 3 with parameters {'b': 1.63, 'c': 2.44, 'dl': 0.57, 'dh': 3.82}.\n",
      "[INFO 03-18 04:47:52] ax.service.ax_client: Completed trial 3 with data: {'mymetric': (-1, 0), 'total_flux': (0.0, 0)}.\n",
      "[INFO 03-18 04:47:52] ax.service.ax_client: Generated new trial 4 with parameters {'b': 2.35, 'c': 1.09, 'dl': 2.5, 'dh': 5.68}.\n"
     ]
    },
    {
     "name": "stdout",
     "output_type": "stream",
     "text": [
      "Is every element matched?:  True\n",
      "positive samples 204/1000\n",
      "['bad', 0.0]\n"
     ]
    },
    {
     "name": "stderr",
     "output_type": "stream",
     "text": [
      "[INFO 03-18 04:47:52] ax.service.ax_client: Completed trial 4 with data: {'mymetric': (-1, 0), 'total_flux': (0.0, 0)}.\n"
     ]
    },
    {
     "name": "stdout",
     "output_type": "stream",
     "text": [
      "['bad', 0.0]\n"
     ]
    },
    {
     "name": "stderr",
     "output_type": "stream",
     "text": [
      "[INFO 03-18 04:47:53] ax.service.ax_client: Generated new trial 5 with parameters {'b': 1.39, 'c': 4.68, 'dl': 2.97, 'dh': 1.59}.\n",
      "WARNING: [segmap_gini] Disjoint features in Gini segmap. [statmorph.statmorph]\n",
      "WARNING: [sersic] Skipping Sersic fit... [statmorph.statmorph]\n",
      "WARNING: Centroid is masked. [statmorph.statmorph]\n",
      "WARNING: [sersic] Skipping Sersic fit... [statmorph.statmorph]\n",
      "WARNING: Gini and MID segmaps are quite different. [statmorph.statmorph]\n",
      "<ipython-input-52-5408cdd43429>:3: FutureWarning:\n",
      "\n",
      "elementwise == comparison failed and returning scalar instead; this will raise an error or perform elementwise comparison in the future.\n",
      "\n",
      "[INFO 03-18 04:52:42] ax.service.ax_client: Completed trial 5 with data: {'mymetric': (0.64000000000000001, 0.0), 'total_flux': (1, 0)}.\n"
     ]
    },
    {
     "name": "stdout",
     "output_type": "stream",
     "text": [
      "Is every element matched?:  True\n",
      "positive samples 204/1000\n"
     ]
    },
    {
     "name": "stderr",
     "output_type": "stream",
     "text": [
      "[INFO 03-18 04:52:43] ax.service.ax_client: Generated new trial 6 with parameters {'b': 1.75, 'c': 4.08, 'dl': 2.57, 'dh': 1.6}.\n",
      "WARNING: [segmap_gini] Disjoint features in Gini segmap. [statmorph.statmorph]\n",
      "WARNING: [sersic] Skipping Sersic fit... [statmorph.statmorph]\n",
      "[INFO 03-18 04:56:11] ax.service.ax_client: Completed trial 6 with data: {'mymetric': (-1, 0), 'total_flux': (0.0, 0)}.\n"
     ]
    },
    {
     "name": "stdout",
     "output_type": "stream",
     "text": [
      "['bad', 0.0]\n"
     ]
    },
    {
     "name": "stderr",
     "output_type": "stream",
     "text": [
      "[INFO 03-18 04:56:12] ax.service.ax_client: Generated new trial 7 with parameters {'b': 1.36, 'c': 3.88, 'dl': 2.57, 'dh': 2.32}.\n",
      "WARNING: [segmap_gini] Disjoint features in Gini segmap. [statmorph.statmorph]\n",
      "WARNING: [sersic] Skipping Sersic fit... [statmorph.statmorph]\n",
      "WARNING: Total flux is nonpositive. Returning empty object. [statmorph.statmorph]\n"
     ]
    },
    {
     "name": "stdout",
     "output_type": "stream",
     "text": [
      "Is every element matched?:  True\n",
      "positive samples 204/1000\n"
     ]
    },
    {
     "name": "stderr",
     "output_type": "stream",
     "text": [
      "<ipython-input-52-5408cdd43429>:3: FutureWarning:\n",
      "\n",
      "elementwise == comparison failed and returning scalar instead; this will raise an error or perform elementwise comparison in the future.\n",
      "\n"
     ]
    },
    {
     "ename": "ValueError",
     "evalue": "Number of labels is 1. Valid values are 2 to n_samples - 1 (inclusive)",
     "output_type": "error",
     "traceback": [
      "\u001b[0;31m---------------------------------------------------------------------------\u001b[0m",
      "\u001b[0;31mValueError\u001b[0m                                Traceback (most recent call last)",
      "\u001b[0;32m<ipython-input-56-76431f72deeb>\u001b[0m in \u001b[0;36m<module>\u001b[0;34m\u001b[0m\n\u001b[1;32m      2\u001b[0m     \u001b[0mparameters\u001b[0m\u001b[0;34m,\u001b[0m \u001b[0mtrial_index\u001b[0m \u001b[0;34m=\u001b[0m \u001b[0max_client\u001b[0m\u001b[0;34m.\u001b[0m\u001b[0mget_next_trial\u001b[0m\u001b[0;34m(\u001b[0m\u001b[0;34m)\u001b[0m\u001b[0;34m\u001b[0m\u001b[0;34m\u001b[0m\u001b[0m\n\u001b[1;32m      3\u001b[0m \u001b[0;34m\u001b[0m\u001b[0m\n\u001b[0;32m----> 4\u001b[0;31m     \u001b[0max_client\u001b[0m\u001b[0;34m.\u001b[0m\u001b[0mcomplete_trial\u001b[0m\u001b[0;34m(\u001b[0m\u001b[0mtrial_index\u001b[0m\u001b[0;34m=\u001b[0m\u001b[0mtrial_index\u001b[0m\u001b[0;34m,\u001b[0m \u001b[0mraw_data\u001b[0m\u001b[0;34m=\u001b[0m\u001b[0mevaluate\u001b[0m\u001b[0;34m(\u001b[0m\u001b[0mparameters\u001b[0m\u001b[0;34m)\u001b[0m\u001b[0;34m)\u001b[0m\u001b[0;34m\u001b[0m\u001b[0;34m\u001b[0m\u001b[0m\n\u001b[0m",
      "\u001b[0;32m<ipython-input-52-5408cdd43429>\u001b[0m in \u001b[0;36mevaluate\u001b[0;34m(params)\u001b[0m\n\u001b[1;32m      5\u001b[0m         \u001b[0;32mreturn\u001b[0m \u001b[0;34m{\u001b[0m\u001b[0;34m\"mymetric\"\u001b[0m\u001b[0;34m:\u001b[0m \u001b[0;34m(\u001b[0m\u001b[0;34m-\u001b[0m\u001b[0;36m1\u001b[0m\u001b[0;34m,\u001b[0m \u001b[0;36m0\u001b[0m\u001b[0;34m)\u001b[0m\u001b[0;34m,\u001b[0m \u001b[0;34m\"total_flux\"\u001b[0m\u001b[0;34m:\u001b[0m\u001b[0;34m(\u001b[0m\u001b[0mresult_arr\u001b[0m\u001b[0;34m[\u001b[0m\u001b[0;36m1\u001b[0m\u001b[0;34m]\u001b[0m\u001b[0;34m,\u001b[0m\u001b[0;36m0\u001b[0m\u001b[0;34m)\u001b[0m\u001b[0;34m}\u001b[0m\u001b[0;34m\u001b[0m\u001b[0;34m\u001b[0m\u001b[0m\n\u001b[1;32m      6\u001b[0m     \u001b[0madd_ttype\u001b[0m\u001b[0;34m(\u001b[0m\u001b[0mresult_arr\u001b[0m\u001b[0;34m,\u001b[0m \u001b[0mcat\u001b[0m\u001b[0;34m)\u001b[0m\u001b[0;34m\u001b[0m\u001b[0;34m\u001b[0m\u001b[0m\n\u001b[0;32m----> 7\u001b[0;31m     \u001b[0meval_metrics\u001b[0m \u001b[0;34m=\u001b[0m \u001b[0mdo_ML\u001b[0m\u001b[0;34m(\u001b[0m\u001b[0mresult_arr\u001b[0m\u001b[0;34m)\u001b[0m\u001b[0;34m\u001b[0m\u001b[0;34m\u001b[0m\u001b[0m\n\u001b[0m\u001b[1;32m      8\u001b[0m     \u001b[0msilhouette_score\u001b[0m \u001b[0;34m=\u001b[0m \u001b[0meval_metrics\u001b[0m\u001b[0;34m[\u001b[0m\u001b[0;34m-\u001b[0m\u001b[0;36m1\u001b[0m\u001b[0;34m]\u001b[0m\u001b[0;34m\u001b[0m\u001b[0;34m\u001b[0m\u001b[0m\n\u001b[1;32m      9\u001b[0m     \u001b[0mstderr\u001b[0m \u001b[0;34m=\u001b[0m \u001b[0;36m0.0\u001b[0m\u001b[0;34m\u001b[0m\u001b[0;34m\u001b[0m\u001b[0m\n",
      "\u001b[0;32m<ipython-input-39-6cab6809a2da>\u001b[0m in \u001b[0;36mdo_ML\u001b[0;34m(result_arr, n_clusters)\u001b[0m\n\u001b[1;32m     39\u001b[0m                     random_state=0)\n\u001b[1;32m     40\u001b[0m \u001b[0;34m\u001b[0m\u001b[0m\n\u001b[0;32m---> 41\u001b[0;31m     \u001b[0meval_metrics\u001b[0m \u001b[0;34m=\u001b[0m \u001b[0mbench_clustering\u001b[0m\u001b[0;34m(\u001b[0m\u001b[0mclustering\u001b[0m\u001b[0;34m,\u001b[0m \u001b[0mcompact\u001b[0m\u001b[0;34m,\u001b[0m \u001b[0mlabels\u001b[0m\u001b[0;34m)\u001b[0m\u001b[0;34m\u001b[0m\u001b[0;34m\u001b[0m\u001b[0m\n\u001b[0m\u001b[1;32m     42\u001b[0m     \u001b[0;32mreturn\u001b[0m \u001b[0meval_metrics\u001b[0m\u001b[0;34m\u001b[0m\u001b[0;34m\u001b[0m\u001b[0m\n",
      "\u001b[0;32m<ipython-input-3-65184c6e572a>\u001b[0m in \u001b[0;36mbench_clustering\u001b[0;34m(clu, data, labels)\u001b[0m\n\u001b[1;32m     57\u001b[0m     \u001b[0;31m# The silhouette score requires the full dataset\u001b[0m\u001b[0;34m\u001b[0m\u001b[0;34m\u001b[0m\u001b[0;34m\u001b[0m\u001b[0m\n\u001b[1;32m     58\u001b[0m     results += [\n\u001b[0;32m---> 59\u001b[0;31m         metrics.silhouette_score(data, estimator[-1].labels_,\n\u001b[0m\u001b[1;32m     60\u001b[0m                                  metric=\"euclidean\", sample_size=300,)\n\u001b[1;32m     61\u001b[0m     ]\n",
      "\u001b[0;32m~/anaconda3/envs/tm38/lib/python3.8/site-packages/sklearn/utils/validation.py\u001b[0m in \u001b[0;36minner_f\u001b[0;34m(*args, **kwargs)\u001b[0m\n\u001b[1;32m     70\u001b[0m                           FutureWarning)\n\u001b[1;32m     71\u001b[0m         \u001b[0mkwargs\u001b[0m\u001b[0;34m.\u001b[0m\u001b[0mupdate\u001b[0m\u001b[0;34m(\u001b[0m\u001b[0;34m{\u001b[0m\u001b[0mk\u001b[0m\u001b[0;34m:\u001b[0m \u001b[0marg\u001b[0m \u001b[0;32mfor\u001b[0m \u001b[0mk\u001b[0m\u001b[0;34m,\u001b[0m \u001b[0marg\u001b[0m \u001b[0;32min\u001b[0m \u001b[0mzip\u001b[0m\u001b[0;34m(\u001b[0m\u001b[0msig\u001b[0m\u001b[0;34m.\u001b[0m\u001b[0mparameters\u001b[0m\u001b[0;34m,\u001b[0m \u001b[0margs\u001b[0m\u001b[0;34m)\u001b[0m\u001b[0;34m}\u001b[0m\u001b[0;34m)\u001b[0m\u001b[0;34m\u001b[0m\u001b[0;34m\u001b[0m\u001b[0m\n\u001b[0;32m---> 72\u001b[0;31m         \u001b[0;32mreturn\u001b[0m \u001b[0mf\u001b[0m\u001b[0;34m(\u001b[0m\u001b[0;34m**\u001b[0m\u001b[0mkwargs\u001b[0m\u001b[0;34m)\u001b[0m\u001b[0;34m\u001b[0m\u001b[0;34m\u001b[0m\u001b[0m\n\u001b[0m\u001b[1;32m     73\u001b[0m     \u001b[0;32mreturn\u001b[0m \u001b[0minner_f\u001b[0m\u001b[0;34m\u001b[0m\u001b[0;34m\u001b[0m\u001b[0m\n\u001b[1;32m     74\u001b[0m \u001b[0;34m\u001b[0m\u001b[0m\n",
      "\u001b[0;32m~/anaconda3/envs/tm38/lib/python3.8/site-packages/sklearn/metrics/cluster/_unsupervised.py\u001b[0m in \u001b[0;36msilhouette_score\u001b[0;34m(X, labels, metric, sample_size, random_state, **kwds)\u001b[0m\n\u001b[1;32m    115\u001b[0m         \u001b[0;32melse\u001b[0m\u001b[0;34m:\u001b[0m\u001b[0;34m\u001b[0m\u001b[0;34m\u001b[0m\u001b[0m\n\u001b[1;32m    116\u001b[0m             \u001b[0mX\u001b[0m\u001b[0;34m,\u001b[0m \u001b[0mlabels\u001b[0m \u001b[0;34m=\u001b[0m \u001b[0mX\u001b[0m\u001b[0;34m[\u001b[0m\u001b[0mindices\u001b[0m\u001b[0;34m]\u001b[0m\u001b[0;34m,\u001b[0m \u001b[0mlabels\u001b[0m\u001b[0;34m[\u001b[0m\u001b[0mindices\u001b[0m\u001b[0;34m]\u001b[0m\u001b[0;34m\u001b[0m\u001b[0;34m\u001b[0m\u001b[0m\n\u001b[0;32m--> 117\u001b[0;31m     \u001b[0;32mreturn\u001b[0m \u001b[0mnp\u001b[0m\u001b[0;34m.\u001b[0m\u001b[0mmean\u001b[0m\u001b[0;34m(\u001b[0m\u001b[0msilhouette_samples\u001b[0m\u001b[0;34m(\u001b[0m\u001b[0mX\u001b[0m\u001b[0;34m,\u001b[0m \u001b[0mlabels\u001b[0m\u001b[0;34m,\u001b[0m \u001b[0mmetric\u001b[0m\u001b[0;34m=\u001b[0m\u001b[0mmetric\u001b[0m\u001b[0;34m,\u001b[0m \u001b[0;34m**\u001b[0m\u001b[0mkwds\u001b[0m\u001b[0;34m)\u001b[0m\u001b[0;34m)\u001b[0m\u001b[0;34m\u001b[0m\u001b[0;34m\u001b[0m\u001b[0m\n\u001b[0m\u001b[1;32m    118\u001b[0m \u001b[0;34m\u001b[0m\u001b[0m\n\u001b[1;32m    119\u001b[0m \u001b[0;34m\u001b[0m\u001b[0m\n",
      "\u001b[0;32m~/anaconda3/envs/tm38/lib/python3.8/site-packages/sklearn/utils/validation.py\u001b[0m in \u001b[0;36minner_f\u001b[0;34m(*args, **kwargs)\u001b[0m\n\u001b[1;32m     70\u001b[0m                           FutureWarning)\n\u001b[1;32m     71\u001b[0m         \u001b[0mkwargs\u001b[0m\u001b[0;34m.\u001b[0m\u001b[0mupdate\u001b[0m\u001b[0;34m(\u001b[0m\u001b[0;34m{\u001b[0m\u001b[0mk\u001b[0m\u001b[0;34m:\u001b[0m \u001b[0marg\u001b[0m \u001b[0;32mfor\u001b[0m \u001b[0mk\u001b[0m\u001b[0;34m,\u001b[0m \u001b[0marg\u001b[0m \u001b[0;32min\u001b[0m \u001b[0mzip\u001b[0m\u001b[0;34m(\u001b[0m\u001b[0msig\u001b[0m\u001b[0;34m.\u001b[0m\u001b[0mparameters\u001b[0m\u001b[0;34m,\u001b[0m \u001b[0margs\u001b[0m\u001b[0;34m)\u001b[0m\u001b[0;34m}\u001b[0m\u001b[0;34m)\u001b[0m\u001b[0;34m\u001b[0m\u001b[0;34m\u001b[0m\u001b[0m\n\u001b[0;32m---> 72\u001b[0;31m         \u001b[0;32mreturn\u001b[0m \u001b[0mf\u001b[0m\u001b[0;34m(\u001b[0m\u001b[0;34m**\u001b[0m\u001b[0mkwargs\u001b[0m\u001b[0;34m)\u001b[0m\u001b[0;34m\u001b[0m\u001b[0;34m\u001b[0m\u001b[0m\n\u001b[0m\u001b[1;32m     73\u001b[0m     \u001b[0;32mreturn\u001b[0m \u001b[0minner_f\u001b[0m\u001b[0;34m\u001b[0m\u001b[0;34m\u001b[0m\u001b[0m\n\u001b[1;32m     74\u001b[0m \u001b[0;34m\u001b[0m\u001b[0m\n",
      "\u001b[0;32m~/anaconda3/envs/tm38/lib/python3.8/site-packages/sklearn/metrics/cluster/_unsupervised.py\u001b[0m in \u001b[0;36msilhouette_samples\u001b[0;34m(X, labels, metric, **kwds)\u001b[0m\n\u001b[1;32m    227\u001b[0m     \u001b[0mn_samples\u001b[0m \u001b[0;34m=\u001b[0m \u001b[0mlen\u001b[0m\u001b[0;34m(\u001b[0m\u001b[0mlabels\u001b[0m\u001b[0;34m)\u001b[0m\u001b[0;34m\u001b[0m\u001b[0;34m\u001b[0m\u001b[0m\n\u001b[1;32m    228\u001b[0m     \u001b[0mlabel_freqs\u001b[0m \u001b[0;34m=\u001b[0m \u001b[0mnp\u001b[0m\u001b[0;34m.\u001b[0m\u001b[0mbincount\u001b[0m\u001b[0;34m(\u001b[0m\u001b[0mlabels\u001b[0m\u001b[0;34m)\u001b[0m\u001b[0;34m\u001b[0m\u001b[0;34m\u001b[0m\u001b[0m\n\u001b[0;32m--> 229\u001b[0;31m     \u001b[0mcheck_number_of_labels\u001b[0m\u001b[0;34m(\u001b[0m\u001b[0mlen\u001b[0m\u001b[0;34m(\u001b[0m\u001b[0mle\u001b[0m\u001b[0;34m.\u001b[0m\u001b[0mclasses_\u001b[0m\u001b[0;34m)\u001b[0m\u001b[0;34m,\u001b[0m \u001b[0mn_samples\u001b[0m\u001b[0;34m)\u001b[0m\u001b[0;34m\u001b[0m\u001b[0;34m\u001b[0m\u001b[0m\n\u001b[0m\u001b[1;32m    230\u001b[0m \u001b[0;34m\u001b[0m\u001b[0m\n\u001b[1;32m    231\u001b[0m     \u001b[0mkwds\u001b[0m\u001b[0;34m[\u001b[0m\u001b[0;34m'metric'\u001b[0m\u001b[0;34m]\u001b[0m \u001b[0;34m=\u001b[0m \u001b[0mmetric\u001b[0m\u001b[0;34m\u001b[0m\u001b[0;34m\u001b[0m\u001b[0m\n",
      "\u001b[0;32m~/anaconda3/envs/tm38/lib/python3.8/site-packages/sklearn/metrics/cluster/_unsupervised.py\u001b[0m in \u001b[0;36mcheck_number_of_labels\u001b[0;34m(n_labels, n_samples)\u001b[0m\n\u001b[1;32m     32\u001b[0m     \"\"\"\n\u001b[1;32m     33\u001b[0m     \u001b[0;32mif\u001b[0m \u001b[0;32mnot\u001b[0m \u001b[0;36m1\u001b[0m \u001b[0;34m<\u001b[0m \u001b[0mn_labels\u001b[0m \u001b[0;34m<\u001b[0m \u001b[0mn_samples\u001b[0m\u001b[0;34m:\u001b[0m\u001b[0;34m\u001b[0m\u001b[0;34m\u001b[0m\u001b[0m\n\u001b[0;32m---> 34\u001b[0;31m         raise ValueError(\"Number of labels is %d. Valid values are 2 \"\n\u001b[0m\u001b[1;32m     35\u001b[0m                          \"to n_samples - 1 (inclusive)\" % n_labels)\n\u001b[1;32m     36\u001b[0m \u001b[0;34m\u001b[0m\u001b[0m\n",
      "\u001b[0;31mValueError\u001b[0m: Number of labels is 1. Valid values are 2 to n_samples - 1 (inclusive)"
     ]
    }
   ],
   "source": [
    "for i in range(50):\n",
    "    parameters, trial_index = ax_client.get_next_trial()\n",
    "    \n",
    "    ax_client.complete_trial(trial_index=trial_index, raw_data=evaluate(parameters))\n"
   ]
  },
  {
   "cell_type": "code",
   "execution_count": 49,
   "metadata": {
    "scrolled": true
   },
   "outputs": [],
   "source": [
    "best_parameters, values = ax_client.get_best_parameters()"
   ]
  },
  {
   "cell_type": "code",
   "execution_count": 50,
   "metadata": {},
   "outputs": [
    {
     "data": {
      "text/plain": [
       "{'b': 2.0, 'c': 3.0, 'dl': 2.2833053525731244, 'dh': 2.949584662550268}"
      ]
     },
     "execution_count": 50,
     "metadata": {},
     "output_type": "execute_result"
    }
   ],
   "source": [
    "best_parameters"
   ]
  },
  {
   "cell_type": "code",
   "execution_count": null,
   "metadata": {},
   "outputs": [],
   "source": []
  }
 ],
 "metadata": {
  "kernelspec": {
   "display_name": "Python 3",
   "language": "python",
   "name": "python3"
  },
  "language_info": {
   "codemirror_mode": {
    "name": "ipython",
    "version": 3
   },
   "file_extension": ".py",
   "mimetype": "text/x-python",
   "name": "python",
   "nbconvert_exporter": "python",
   "pygments_lexer": "ipython3",
   "version": "3.8.5"
  }
 },
 "nbformat": 4,
 "nbformat_minor": 2
}
