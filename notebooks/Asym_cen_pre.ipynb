{
 "cells": [
  {
   "cell_type": "markdown",
   "id": "31488141",
   "metadata": {},
   "source": [
    "Determine Asymmetric center in pre-procesing stage."
   ]
  },
  {
   "cell_type": "code",
   "execution_count": 9,
   "id": "d291094a",
   "metadata": {},
   "outputs": [],
   "source": [
    "import matplotlib.pyplot as plt "
   ]
  },
  {
   "cell_type": "code",
   "execution_count": 2,
   "id": "a7765b56",
   "metadata": {},
   "outputs": [],
   "source": [
    "import numpy as np\n",
    "import pickle\n",
    "\n",
    "ddir = \"../../bf_data/Nair_and_Abraham_2010/\"\n",
    "\n",
    "fn = ddir + \"all_gals.pickle\"\n",
    "all_gals = pickle.load(open(fn, \"rb\"))\n",
    "\n",
    "all_gals = all_gals[1:] # Why the first galaxy image is NaN?"
   ]
  },
  {
   "cell_type": "code",
   "execution_count": 29,
   "id": "3a6a91c7",
   "metadata": {},
   "outputs": [],
   "source": [
    "gal = all_gals[1]"
   ]
  },
  {
   "cell_type": "code",
   "execution_count": 33,
   "id": "dcc63ed4",
   "metadata": {},
   "outputs": [],
   "source": [
    "def get_masked_image(gal):\n",
    "    img, mask, weight = gal['data']\n",
    "    img[~mask.astype(bool)] = 0\n",
    "    return img"
   ]
  },
  {
   "cell_type": "code",
   "execution_count": 34,
   "id": "7008f3a7",
   "metadata": {},
   "outputs": [],
   "source": [
    "img = get_masked_image(gal)"
   ]
  },
  {
   "cell_type": "code",
   "execution_count": 35,
   "id": "d20db548",
   "metadata": {},
   "outputs": [
    {
     "data": {
      "text/plain": [
       "<matplotlib.image.AxesImage at 0x7f17304cc880>"
      ]
     },
     "execution_count": 35,
     "metadata": {},
     "output_type": "execute_result"
    },
    {
     "data": {
      "image/png": "[encoded data removed]",
      "text/plain": [
       "<Figure size 432x288 with 1 Axes>"
      ]
     },
     "metadata": {
      "needs_background": "light"
     },
     "output_type": "display_data"
    }
   ],
   "source": [
    "plt.imshow(img)"
   ]
  },
  {
   "cell_type": "code",
   "execution_count": 37,
   "id": "3633fee4",
   "metadata": {},
   "outputs": [],
   "source": [
    "from astrobf.morph import custom_morph as cmp"
   ]
  },
  {
   "cell_type": "code",
   "execution_count": null,
   "id": "3bb56d3b",
   "metadata": {},
   "outputs": [],
   "source": []
  },
  {
   "cell_type": "code",
   "execution_count": null,
   "id": "55174d72",
   "metadata": {},
   "outputs": [],
   "source": [
    "tmo_param_asinh = "
   ]
  },
  {
   "cell_type": "code",
   "execution_count": 38,
   "id": "2d6c0b9f",
   "metadata": {},
   "outputs": [
    {
     "ename": "TypeError",
     "evalue": "__init__() missing 1 required positional argument: 'tmo_param'",
     "output_type": "error",
     "traceback": [
      "\u001b[0;31m---------------------------------------------------------------------------\u001b[0m",
      "\u001b[0;31mTypeError\u001b[0m                                 Traceback (most recent call last)",
      "\u001b[0;32m<ipython-input-38-2f36630331f4>\u001b[0m in \u001b[0;36m<module>\u001b[0;34m\u001b[0m\n\u001b[0;32m----> 1\u001b[0;31m \u001b[0mmorph\u001b[0m \u001b[0;34m=\u001b[0m \u001b[0mcmp\u001b[0m\u001b[0;34m.\u001b[0m\u001b[0mMorphImg\u001b[0m\u001b[0;34m(\u001b[0m\u001b[0mgal\u001b[0m\u001b[0;34m)\u001b[0m\u001b[0;34m\u001b[0m\u001b[0;34m\u001b[0m\u001b[0m\n\u001b[0m",
      "\u001b[0;31mTypeError\u001b[0m: __init__() missing 1 required positional argument: 'tmo_param'"
     ]
    }
   ],
   "source": [
    "morph = cmp.MorphImg(gal, )"
   ]
  },
  {
   "cell_type": "code",
   "execution_count": null,
   "id": "b195975c",
   "metadata": {},
   "outputs": [],
   "source": []
  }
 ],
 "metadata": {
  "kernelspec": {
   "display_name": "Python 3",
   "language": "python",
   "name": "python3"
  },
  "language_info": {
   "codemirror_mode": {
    "name": "ipython",
    "version": 3
   },
   "file_extension": ".py",
   "mimetype": "text/x-python",
   "name": "python",
   "nbconvert_exporter": "python",
   "pygments_lexer": "ipython3",
   "version": "3.9.5"
  }
 },
 "nbformat": 4,
 "nbformat_minor": 5
}
