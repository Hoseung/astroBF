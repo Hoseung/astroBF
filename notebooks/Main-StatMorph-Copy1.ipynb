{
 "cells": [
  {
   "cell_type": "code",
   "execution_count": 1,
   "metadata": {},
   "outputs": [
    {
     "name": "stderr",
     "output_type": "stream",
     "text": [
      "/home/hoseung/.local/lib/python3.8/site-packages/colour/utilities/verbose.py:237: ColourWarning: \"Adobe DNG Converter\" is not available on your platform!\n",
      "  warn(*args, **kwargs)\n"
     ]
    },
    {
     "name": "stdout",
     "output_type": "stream",
     "text": [
      "===============================================================================\n",
      "*                                                                             *\n",
      "*   Interpreter :                                                             *\n",
      "*       python : 3.8.5 (default, Sep  4 2020, 07:30:14)                       *\n",
      "*                [GCC 7.3.0]                                                  *\n",
      "*                                                                             *\n",
      "*   colour-science.org :                                                      *\n",
      "*       colour : 0.3.16                                                       *\n",
      "*       colour-hdri : 0.1.8                                                   *\n",
      "*                                                                             *\n",
      "*   Runtime :                                                                 *\n",
      "*       imageio : 2.9.0                                                       *\n",
      "*       matplotlib : 3.3.2                                                    *\n",
      "*       networkx : 2.5                                                        *\n",
      "*       numpy : 1.19.2                                                        *\n",
      "*       pandas : 1.2.0                                                        *\n",
      "*       scipy : 1.5.2                                                         *\n",
      "*       six : 1.15.0                                                          *\n",
      "*       recordclass : 0.14.3                                                  *\n",
      "*                                                                             *\n",
      "===============================================================================\n"
     ]
    }
   ],
   "source": [
    "#%matplotlib widget\n",
    "import matplotlib.pyplot as plt \n",
    "\n",
    "import ipywidgets as widgets\n",
    "import numpy as np\n",
    "import os\n",
    "import pickle\n",
    "import sys, math\n",
    "from glob import glob\n",
    "\n",
    "import colour\n",
    "from colour_hdri.plotting import plot_tonemapping_operator_image\n",
    "colour.plotting.colour_style()\n",
    "colour.utilities.describe_environment();\n",
    "\n",
    "#import cv2 as cv\n",
    "import skimage\n",
    "import imageio\n",
    "\n",
    "from astropy.io import fits\n",
    "from colour.models import RGB_COLOURSPACES, RGB_luminance\n",
    "\n",
    "colorspace = RGB_COLOURSPACES['sRGB']\n",
    "\n",
    "import astrobf\n",
    "from astrobf.utils import mask_utils\n",
    "from astrobf.utils.mask_utils import *\n",
    "\n",
    "from matplotlib import patches\n",
    "from matplotlib.collections import PatchCollection\n",
    "\n",
    "import statmorph\n",
    "import re\n"
   ]
  },
  {
   "cell_type": "code",
   "execution_count": 2,
   "metadata": {},
   "outputs": [
    {
     "name": "stdout",
     "output_type": "stream",
     "text": [
      "14034\n"
     ]
    }
   ],
   "source": [
    "dataset = ['EFIFI','Nair'][1]\n",
    "basedir = ['../../bf_data/EFIGI_catalog/','../../bf_data/Nair_and_Abraham_2010/'][1]\n",
    "fitsdir = basedir + ['fits_temp_Jan_19/','final/', 'fits_temp_Feb_3/'][1]\n",
    "\n",
    "\n",
    "#wdir = '../../OBSdata/efigi-1.6/ima_r/'\n",
    "fns_g = glob(fitsdir+\"*/*g.fits\")\n",
    "fns_r = glob(fitsdir+\"*/*r.fits\")\n",
    "fns_i = glob(fitsdir+\"*/*i.fits\")\n",
    "\n",
    "fns_g.sort()\n",
    "fns_r.sort()\n",
    "fns_i.sort()\n",
    "\n",
    "eps = 1e-6\n",
    "\n",
    "print(len(fns_r))"
   ]
  },
  {
   "cell_type": "markdown",
   "metadata": {},
   "source": [
    "# 2. Build a mask (GMM)"
   ]
  },
  {
   "cell_type": "code",
   "execution_count": 3,
   "metadata": {},
   "outputs": [],
   "source": [
    "def extract_int(g_path):\n",
    "    return int(re.split('(\\d+)',g_path.split('/')[-2])[1])\n",
    "\n",
    "def chunks(lst, n):\n",
    "    for i in range(0, len(lst), n):\n",
    "        yield lst[i:i + n]"
   ]
  },
  {
   "cell_type": "markdown",
   "metadata": {},
   "source": [
    "# StatMorph\n",
    "\n",
    "## Need Image, Mask, Weight, and PSF"
   ]
  },
  {
   "cell_type": "code",
   "execution_count": 4,
   "metadata": {},
   "outputs": [],
   "source": [
    "import re\n",
    "\n",
    "fields = [\n",
    "    'xc_centroid', 'yc_centroid', \n",
    "    'ellipticity_centroid', 'elongation_centroid', 'orientation_centroid',\n",
    "    'xc_asymmetry', 'yc_asymmetry',\n",
    "    'ellipticity_asymmetry', 'elongation_asymmetry', 'orientation_asymmetry',\n",
    "    'rpetro_circ', 'rpetro_ellip', 'rhalf_circ', 'rhalf_ellip',\n",
    "    'r20', 'r80',\n",
    "    'gini', 'm20', 'gini_m20_bulge', 'gini_m20_merger',\n",
    "    'sn_per_pixel', 'concentration', 'asymmetry', 'smoothness',\n",
    "    'sersic_xc', 'sersic_yc', 'sersic_amplitude', 'sersic_rhalf', 'sersic_n', 'sersic_ellip', 'sersic_theta',\n",
    "    'sky_mean', 'sky_median', 'sky_sigma',\n",
    "    'flag', 'flag_sersic']"
   ]
  },
  {
   "cell_type": "code",
   "execution_count": 5,
   "metadata": {},
   "outputs": [],
   "source": [
    "# Note that there is degeneracy between parameters. \n",
    "# Best fit model from scipy.iptimize of the Uncharted TMO is quite different. \n",
    "# as [   1.10147711    0.99881915  340.77234402    0.99337089].\n",
    "\n",
    "def Mantiuk_Seidel(lum, b, c, dl, dh):\n",
    "    al = (c*dl-1)/dl # contrast compression for shadows\n",
    "    ah = (c*dh-1)/dh\n",
    "    lp = np.log10(lum) # L prime\n",
    "\n",
    "    conditions=[lp <= b-dl,\n",
    "                (b-dl < lp) * (lp <= b),\n",
    "                (b < lp) * (lp <= b+dh),\n",
    "                lp > b+dh]\n",
    "\n",
    "    functions=[0,\n",
    "               lambda lp : 1/2*c*(lp-b)/(1-al*(lp-b))+1/2,\n",
    "               lambda lp : 1/2*c*(lp-b)/(1+ah*(lp-b))+1/2,\n",
    "               1]\n",
    "\n",
    "    return np.piecewise(lp, conditions, functions)\n",
    "\n",
    "params = [[1.68, 0.53, 4.12, 2.46],\n",
    "          [1.90, 0.88, 2.43, 1.48],\n",
    "          [1.30, 0.69, 2.53, 7.60],\n",
    "          [1.38, 0.71, 1.99, 2.10]]\n",
    "\n",
    "tmo_names = ['BriAda', 'Ashik', 'Retinex', 'log']"
   ]
  },
  {
   "cell_type": "code",
   "execution_count": 6,
   "metadata": {},
   "outputs": [],
   "source": [
    "# Good galaxies after visual inspection\n",
    "good_list = glob(basedir+'out1/'+\"stat_png/good/*.png\")\n",
    "good_gids=[]\n",
    "for gg in good_list:\n",
    "    good_gids.append(gg.split(\"/\")[-1].split(\"_\")[1])\n",
    "good_gids.sort()\n",
    "good_fns = [glob(fitsdir+gg+'/*r.fits')[0] for gg in good_gids]"
   ]
  },
  {
   "cell_type": "markdown",
   "metadata": {},
   "source": [
    "### sort out bad galaxies from the final sample \n",
    "1541 VI-selected bad galaxies are excluded. "
   ]
  },
  {
   "cell_type": "code",
   "execution_count": 7,
   "metadata": {},
   "outputs": [],
   "source": [
    "# bad\n",
    "old_r = glob(basedir + 'out1/masks/*.pickle')\n",
    "old_r.sort()\n",
    "\n",
    "old_gids = [ll.split('/')[-1].split('_mask')[0] for ll in old_r]\n",
    "good_gids = [ll.split('/')[-2] for ll in good_fns]\n",
    "\n",
    "fns_r_final=[]\n",
    "for fnr in fns_r:\n",
    "    gid = fnr.split(\"/\")[-2]\n",
    "    if gid in old_gids and gid not in good_gids:\n",
    "        continue\n",
    "    fns_r_final.append(fnr)\n",
    "        \n",
    "\n",
    "assert (len(old_gids) - len(good_gids)) == (len(fns_r) - len(fns_r_final))"
   ]
  },
  {
   "cell_type": "markdown",
   "metadata": {},
   "source": [
    "# Todo\n",
    "\n",
    "- Reshape / organize data to minimize IO\n",
    "- TMO as a class. Initialize only once for a set of params. \n",
    "\n"
   ]
  },
  {
   "cell_type": "code",
   "execution_count": 8,
   "metadata": {},
   "outputs": [],
   "source": [
    "from statmorph.utils import image_diagnostics\n",
    "#import make_figure\n",
    "\n",
    "def get_fn(gid_string):\n",
    "    return glob('../../bf_data/Nair_and_Abraham_2010/final/' + gid_string + '/*-r.fits')[0]\n",
    "\n",
    "def gen_fn_img(morph):\n",
    "    return out_dir+f'stat_png/final_{morph._gid}_summary.png'"
   ]
  },
  {
   "cell_type": "markdown",
   "metadata": {},
   "source": [
    "### First pass - for VI"
   ]
  },
  {
   "cell_type": "code",
   "execution_count": null,
   "metadata": {},
   "outputs": [],
   "source": [
    "import logging\n",
    "#tmo_params = {'a':0.125, 'd':0.975, 'mid_in':0.25, 'mid_out':0.18}\n",
    "logging.basicConfig(filename='applyting_MS08.log', \n",
    "                    format='%(asctime)s - %(message)s', level=logging.INFO)\n",
    "tmo_name = tmo_names[0]\n",
    "tmo_params = params[0]\n",
    "\n",
    "out_dir = basedir+tmo_name+'/'\n",
    "if not os.path.isdir(out_dir): \n",
    "    os.mkdir(out_dir)\n",
    "    os.mkdir(out_dir+'Morphs')\n",
    "    os.mkdir(out_dir+'stat_png')\n",
    "# mkdir\n",
    "morphs=[]\n",
    "for i, fn in enumerate(fns_r_final):\n",
    "    if i < 5000:\n",
    "        continue\n",
    "    if i == 9000:\n",
    "        break\n",
    "    if i % 500 == 499:\n",
    "        pickle.dump(morphs, open(out_dir+f\"Morphs/final_morphs{i:05d}.pickle\", \"wb\"),\n",
    "                   protocol=pickle.HIGHEST_PROTOCOL)\n",
    "        morphs=[]\n",
    "        print(i)\n",
    "\n",
    "    img_name = fn.split(\"/\")[-2]\n",
    "    if dataset==\"Nair\": \n",
    "        gid = img_name\n",
    "    else:\n",
    "        gid = int(re.split('(\\d+)',img_name)[1])\n",
    "    hdulist = fits.open(fn)\n",
    "    # Ensure pixel values are positive\n",
    "    img = hdulist[0].data\n",
    "    img -= (img.min() - eps) \n",
    "\n",
    "    mask = pickle.load(open(basedir+'out_final'+f\"/masks/{img_name}_mask.pickle\", 'rb'))\n",
    "\n",
    "    weight = fits.open(fn.replace(\".fits\", \".weight.fits\"))[0].data\n",
    "    subtracted = img.copy()\n",
    "    subtracted[~mask] = np.nan\n",
    "\n",
    "    #hdr_max = np.percentile(subtracted.ravel(), 99.9) * 1.1 \n",
    "    subtracted *= 100 # MS08's generic TMs work best for pixels in (1e-2, 1e4)\n",
    "\n",
    "    #print('min max', subtracted.min(), subtracted.max())\n",
    "    #tonemapped = tonemapping_operator_generic(subtracted, *tmo_params)\n",
    "    tonemapped = Mantiuk_Seidel(subtracted, *tmo_params)\n",
    "    logging.info('subtrated min max: {}, {} --  tonemapped min max: {},{}'.format(subtracted.min(), subtracted.max(), tonemapped.min(), tonemapped.max()))\n",
    "    morph = statmorph.source_morphology(tonemapped, mask, weightmap=weight, sersic_maxiter=0)[0]\n",
    "\n",
    "    hdulist.close()\n",
    "    morph._gid = gid\n",
    "\n",
    "    statmorph.utils.image_diagnostics.make_figure(morph, nrows=3,\n",
    "                                  savefig=gen_fn_img(morph),\n",
    "                                  img_org=None, norm='linear')\n",
    "\n",
    "    morphs.append(morph)\n",
    "pickle.dump(morphs, open(out_dir+f\"Morphs/final_morphs{i:05d}.pickle\", \"wb\"),\n",
    "            protocol=pickle.HIGHEST_PROTOCOL)"
   ]
  },
  {
   "cell_type": "code",
   "execution_count": null,
   "metadata": {},
   "outputs": [],
   "source": []
  },
  {
   "cell_type": "code",
   "execution_count": null,
   "metadata": {},
   "outputs": [],
   "source": []
  },
  {
   "cell_type": "markdown",
   "metadata": {},
   "source": [
    "The meaning of the paramters of a generic TM function (including both MS08 and one from NVIDIA) depends on the range of pixel values. A straightforward scaling in the preprocessing is needed. Do I want to include that as another paramter to the BO loop? probably yes, but,next time."
   ]
  },
  {
   "cell_type": "code",
   "execution_count": 30,
   "metadata": {
    "scrolled": true
   },
   "outputs": [
    {
     "name": "stdout",
     "output_type": "stream",
     "text": [
      "BriAda [1.68, 0.53, 4.12, 2.46]\n"
     ]
    },
    {
     "name": "stderr",
     "output_type": "stream",
     "text": [
      "WARNING: The fit may be unsuccessful; check fit_info['message'] for more information. [astropy.modeling.fitting]\n",
      "WARNING: fit_info['message']: Number of calls to function has reached maxfev = 1600. [statmorph.statmorph]\n"
     ]
    },
    {
     "ename": "KeyboardInterrupt",
     "evalue": "",
     "output_type": "error",
     "traceback": [
      "\u001b[0;31m---------------------------------------------------------------------------\u001b[0m",
      "\u001b[0;31mKeyboardInterrupt\u001b[0m                         Traceback (most recent call last)",
      "\u001b[0;32m<ipython-input-30-e8f6fc4edda2>\u001b[0m in \u001b[0;36m<module>\u001b[0;34m\u001b[0m\n\u001b[1;32m     47\u001b[0m         \u001b[0mtonemapped\u001b[0m \u001b[0;34m=\u001b[0m \u001b[0mMantiuk_Seidel\u001b[0m\u001b[0;34m(\u001b[0m\u001b[0msubtracted\u001b[0m\u001b[0;34m,\u001b[0m \u001b[0;34m*\u001b[0m\u001b[0mtmo_params\u001b[0m\u001b[0;34m)\u001b[0m\u001b[0;34m\u001b[0m\u001b[0;34m\u001b[0m\u001b[0m\n\u001b[1;32m     48\u001b[0m         \u001b[0mlogging\u001b[0m\u001b[0;34m.\u001b[0m\u001b[0minfo\u001b[0m\u001b[0;34m(\u001b[0m\u001b[0;34m'subtrated min max: {}, {} --  tonemapped min max: {},{}'\u001b[0m\u001b[0;34m.\u001b[0m\u001b[0mformat\u001b[0m\u001b[0;34m(\u001b[0m\u001b[0msubtracted\u001b[0m\u001b[0;34m.\u001b[0m\u001b[0mmin\u001b[0m\u001b[0;34m(\u001b[0m\u001b[0;34m)\u001b[0m\u001b[0;34m,\u001b[0m \u001b[0msubtracted\u001b[0m\u001b[0;34m.\u001b[0m\u001b[0mmax\u001b[0m\u001b[0;34m(\u001b[0m\u001b[0;34m)\u001b[0m\u001b[0;34m,\u001b[0m \u001b[0mtonemapped\u001b[0m\u001b[0;34m.\u001b[0m\u001b[0mmin\u001b[0m\u001b[0;34m(\u001b[0m\u001b[0;34m)\u001b[0m\u001b[0;34m,\u001b[0m \u001b[0mtonemapped\u001b[0m\u001b[0;34m.\u001b[0m\u001b[0mmax\u001b[0m\u001b[0;34m(\u001b[0m\u001b[0;34m)\u001b[0m\u001b[0;34m)\u001b[0m\u001b[0;34m)\u001b[0m\u001b[0;34m\u001b[0m\u001b[0;34m\u001b[0m\u001b[0m\n\u001b[0;32m---> 49\u001b[0;31m         \u001b[0mmorph\u001b[0m \u001b[0;34m=\u001b[0m \u001b[0mstatmorph\u001b[0m\u001b[0;34m.\u001b[0m\u001b[0msource_morphology\u001b[0m\u001b[0;34m(\u001b[0m\u001b[0mtonemapped\u001b[0m\u001b[0;34m,\u001b[0m \u001b[0mmask\u001b[0m\u001b[0;34m,\u001b[0m \u001b[0mweightmap\u001b[0m\u001b[0;34m=\u001b[0m\u001b[0mweight\u001b[0m\u001b[0;34m,\u001b[0m \u001b[0msersic_maxiter\u001b[0m\u001b[0;34m=\u001b[0m\u001b[0;36m0\u001b[0m\u001b[0;34m)\u001b[0m\u001b[0;34m[\u001b[0m\u001b[0;36m0\u001b[0m\u001b[0;34m]\u001b[0m\u001b[0;34m\u001b[0m\u001b[0;34m\u001b[0m\u001b[0m\n\u001b[0m\u001b[1;32m     50\u001b[0m \u001b[0;34m\u001b[0m\u001b[0m\n\u001b[1;32m     51\u001b[0m         \u001b[0mhdulist\u001b[0m\u001b[0;34m.\u001b[0m\u001b[0mclose\u001b[0m\u001b[0;34m(\u001b[0m\u001b[0;34m)\u001b[0m\u001b[0;34m\u001b[0m\u001b[0;34m\u001b[0m\u001b[0m\n",
      "\u001b[0;32m~/Work/tonemap/statmorph/statmorph/statmorph.py\u001b[0m in \u001b[0;36msource_morphology\u001b[0;34m(image, segmap, **kwargs)\u001b[0m\n\u001b[1;32m   2503\u001b[0m     \u001b[0msources_morph\u001b[0m \u001b[0;34m=\u001b[0m \u001b[0;34m[\u001b[0m\u001b[0;34m]\u001b[0m\u001b[0;34m\u001b[0m\u001b[0;34m\u001b[0m\u001b[0m\n\u001b[1;32m   2504\u001b[0m     \u001b[0;32mfor\u001b[0m \u001b[0mlabel\u001b[0m \u001b[0;32min\u001b[0m \u001b[0msegmap\u001b[0m\u001b[0;34m.\u001b[0m\u001b[0mlabels\u001b[0m\u001b[0;34m:\u001b[0m\u001b[0;34m\u001b[0m\u001b[0;34m\u001b[0m\u001b[0m\n\u001b[0;32m-> 2505\u001b[0;31m         \u001b[0msources_morph\u001b[0m\u001b[0;34m.\u001b[0m\u001b[0mappend\u001b[0m\u001b[0;34m(\u001b[0m\u001b[0mSourceMorphology\u001b[0m\u001b[0;34m(\u001b[0m\u001b[0mimage\u001b[0m\u001b[0;34m,\u001b[0m \u001b[0msegmap\u001b[0m\u001b[0;34m,\u001b[0m \u001b[0mlabel\u001b[0m\u001b[0;34m,\u001b[0m \u001b[0;34m**\u001b[0m\u001b[0mkwargs\u001b[0m\u001b[0;34m)\u001b[0m\u001b[0;34m)\u001b[0m\u001b[0;34m\u001b[0m\u001b[0;34m\u001b[0m\u001b[0m\n\u001b[0m\u001b[1;32m   2506\u001b[0m \u001b[0;34m\u001b[0m\u001b[0m\n\u001b[1;32m   2507\u001b[0m     \u001b[0;32mreturn\u001b[0m \u001b[0msources_morph\u001b[0m\u001b[0;34m\u001b[0m\u001b[0;34m\u001b[0m\u001b[0m\n",
      "\u001b[0;32m~/Work/tonemap/statmorph/statmorph/statmorph.py\u001b[0m in \u001b[0;36m__init__\u001b[0;34m(self, image, segmap, label, mask, weightmap, gain, psf, cutout_extent, min_cutout_size, n_sigma_outlier, annulus_width, eta, petro_fraction_gini, skybox_size, petro_extent_cas, petro_fraction_cas, boxcar_size_mid, niter_bh_mid, sigma_mid, petro_extent_flux, boxcar_size_shape_asym, sersic_maxiter, segmap_overlap_ratio, verbose)\u001b[0m\n\u001b[1;32m    467\u001b[0m \u001b[0;34m\u001b[0m\u001b[0m\n\u001b[1;32m    468\u001b[0m         \u001b[0;31m# For simplicity, evaluate all \"lazy\" properties at once:\u001b[0m\u001b[0;34m\u001b[0m\u001b[0;34m\u001b[0m\u001b[0;34m\u001b[0m\u001b[0m\n\u001b[0;32m--> 469\u001b[0;31m         \u001b[0mself\u001b[0m\u001b[0;34m.\u001b[0m\u001b[0m_calculate_morphology\u001b[0m\u001b[0;34m(\u001b[0m\u001b[0;34m)\u001b[0m\u001b[0;34m\u001b[0m\u001b[0;34m\u001b[0m\u001b[0m\n\u001b[0m\u001b[1;32m    470\u001b[0m \u001b[0;34m\u001b[0m\u001b[0m\n\u001b[1;32m    471\u001b[0m         \u001b[0;31m# Check if image is background-subtracted; set flag=1 if not.\u001b[0m\u001b[0;34m\u001b[0m\u001b[0;34m\u001b[0m\u001b[0;34m\u001b[0m\u001b[0m\n",
      "\u001b[0;32m~/Work/tonemap/statmorph/statmorph/statmorph.py\u001b[0m in \u001b[0;36m_calculate_morphology\u001b[0;34m(self)\u001b[0m\n\u001b[1;32m    534\u001b[0m         \"\"\"\n\u001b[1;32m    535\u001b[0m         \u001b[0;32mfor\u001b[0m \u001b[0mq\u001b[0m \u001b[0;32min\u001b[0m \u001b[0m_quantity_names\u001b[0m\u001b[0;34m:\u001b[0m\u001b[0;34m\u001b[0m\u001b[0;34m\u001b[0m\u001b[0m\n\u001b[0;32m--> 536\u001b[0;31m             \u001b[0mtmp\u001b[0m \u001b[0;34m=\u001b[0m \u001b[0mself\u001b[0m\u001b[0;34m[\u001b[0m\u001b[0mq\u001b[0m\u001b[0;34m]\u001b[0m\u001b[0;34m\u001b[0m\u001b[0;34m\u001b[0m\u001b[0m\n\u001b[0m\u001b[1;32m    537\u001b[0m \u001b[0;34m\u001b[0m\u001b[0m\n\u001b[1;32m    538\u001b[0m     \u001b[0;32mdef\u001b[0m \u001b[0m_check_segmaps\u001b[0m\u001b[0;34m(\u001b[0m\u001b[0mself\u001b[0m\u001b[0;34m)\u001b[0m\u001b[0;34m:\u001b[0m\u001b[0;34m\u001b[0m\u001b[0;34m\u001b[0m\u001b[0m\n",
      "\u001b[0;32m~/Work/tonemap/statmorph/statmorph/statmorph.py\u001b[0m in \u001b[0;36m__getitem__\u001b[0;34m(self, key)\u001b[0m\n\u001b[1;32m    481\u001b[0m \u001b[0;34m\u001b[0m\u001b[0m\n\u001b[1;32m    482\u001b[0m     \u001b[0;32mdef\u001b[0m \u001b[0m__getitem__\u001b[0m\u001b[0;34m(\u001b[0m\u001b[0mself\u001b[0m\u001b[0;34m,\u001b[0m \u001b[0mkey\u001b[0m\u001b[0;34m)\u001b[0m\u001b[0;34m:\u001b[0m\u001b[0;34m\u001b[0m\u001b[0;34m\u001b[0m\u001b[0m\n\u001b[0;32m--> 483\u001b[0;31m         \u001b[0;32mreturn\u001b[0m \u001b[0mgetattr\u001b[0m\u001b[0;34m(\u001b[0m\u001b[0mself\u001b[0m\u001b[0;34m,\u001b[0m \u001b[0mkey\u001b[0m\u001b[0;34m)\u001b[0m\u001b[0;34m\u001b[0m\u001b[0;34m\u001b[0m\u001b[0m\n\u001b[0m\u001b[1;32m    484\u001b[0m \u001b[0;34m\u001b[0m\u001b[0m\n\u001b[1;32m    485\u001b[0m     \u001b[0;32mdef\u001b[0m \u001b[0m_get_badpixels\u001b[0m\u001b[0;34m(\u001b[0m\u001b[0mself\u001b[0m\u001b[0;34m,\u001b[0m \u001b[0mimage\u001b[0m\u001b[0;34m)\u001b[0m\u001b[0;34m:\u001b[0m\u001b[0;34m\u001b[0m\u001b[0;34m\u001b[0m\u001b[0m\n",
      "\u001b[0;32m~/anaconda3/envs/tm38/lib/python3.8/site-packages/astropy/utils/decorators.py\u001b[0m in \u001b[0;36m__get__\u001b[0;34m(self, obj, owner)\u001b[0m\n\u001b[1;32m    756\u001b[0m                 \u001b[0;32mreturn\u001b[0m \u001b[0mval\u001b[0m\u001b[0;34m\u001b[0m\u001b[0;34m\u001b[0m\u001b[0m\n\u001b[1;32m    757\u001b[0m             \u001b[0;32melse\u001b[0m\u001b[0;34m:\u001b[0m\u001b[0;34m\u001b[0m\u001b[0;34m\u001b[0m\u001b[0m\n\u001b[0;32m--> 758\u001b[0;31m                 \u001b[0mval\u001b[0m \u001b[0;34m=\u001b[0m \u001b[0mself\u001b[0m\u001b[0;34m.\u001b[0m\u001b[0mfget\u001b[0m\u001b[0;34m(\u001b[0m\u001b[0mobj\u001b[0m\u001b[0;34m)\u001b[0m\u001b[0;34m\u001b[0m\u001b[0;34m\u001b[0m\u001b[0m\n\u001b[0m\u001b[1;32m    759\u001b[0m                 \u001b[0mobj\u001b[0m\u001b[0;34m.\u001b[0m\u001b[0m__dict__\u001b[0m\u001b[0;34m[\u001b[0m\u001b[0mself\u001b[0m\u001b[0;34m.\u001b[0m\u001b[0m_key\u001b[0m\u001b[0;34m]\u001b[0m \u001b[0;34m=\u001b[0m \u001b[0mval\u001b[0m\u001b[0;34m\u001b[0m\u001b[0;34m\u001b[0m\u001b[0m\n\u001b[1;32m    760\u001b[0m                 \u001b[0;32mreturn\u001b[0m \u001b[0mval\u001b[0m\u001b[0;34m\u001b[0m\u001b[0;34m\u001b[0m\u001b[0m\n",
      "\u001b[0;32m~/Work/tonemap/statmorph/statmorph/statmorph.py\u001b[0m in \u001b[0;36msmoothness\u001b[0;34m(self)\u001b[0m\n\u001b[1;32m   1733\u001b[0m         \u001b[0mimage_diff\u001b[0m\u001b[0;34m[\u001b[0m\u001b[0mimage_diff\u001b[0m \u001b[0;34m<\u001b[0m \u001b[0;36m0\u001b[0m\u001b[0;34m]\u001b[0m \u001b[0;34m=\u001b[0m \u001b[0;36m0.0\u001b[0m  \u001b[0;31m# set negative pixels to zero\u001b[0m\u001b[0;34m\u001b[0m\u001b[0;34m\u001b[0m\u001b[0m\n\u001b[1;32m   1734\u001b[0m \u001b[0;34m\u001b[0m\u001b[0m\n\u001b[0;32m-> 1735\u001b[0;31m         \u001b[0map_flux\u001b[0m \u001b[0;34m=\u001b[0m \u001b[0map\u001b[0m\u001b[0;34m.\u001b[0m\u001b[0mdo_photometry\u001b[0m\u001b[0;34m(\u001b[0m\u001b[0mimage\u001b[0m\u001b[0;34m,\u001b[0m \u001b[0mmethod\u001b[0m\u001b[0;34m=\u001b[0m\u001b[0;34m'exact'\u001b[0m\u001b[0;34m)\u001b[0m\u001b[0;34m[\u001b[0m\u001b[0;36m0\u001b[0m\u001b[0;34m]\u001b[0m\u001b[0;34m[\u001b[0m\u001b[0;36m0\u001b[0m\u001b[0;34m]\u001b[0m\u001b[0;34m\u001b[0m\u001b[0;34m\u001b[0m\u001b[0m\n\u001b[0m\u001b[1;32m   1736\u001b[0m         \u001b[0map_diff\u001b[0m \u001b[0;34m=\u001b[0m \u001b[0map\u001b[0m\u001b[0;34m.\u001b[0m\u001b[0mdo_photometry\u001b[0m\u001b[0;34m(\u001b[0m\u001b[0mimage_diff\u001b[0m\u001b[0;34m,\u001b[0m \u001b[0mmethod\u001b[0m\u001b[0;34m=\u001b[0m\u001b[0;34m'exact'\u001b[0m\u001b[0;34m)\u001b[0m\u001b[0;34m[\u001b[0m\u001b[0;36m0\u001b[0m\u001b[0;34m]\u001b[0m\u001b[0;34m[\u001b[0m\u001b[0;36m0\u001b[0m\u001b[0;34m]\u001b[0m\u001b[0;34m\u001b[0m\u001b[0;34m\u001b[0m\u001b[0m\n\u001b[1;32m   1737\u001b[0m \u001b[0;34m\u001b[0m\u001b[0m\n",
      "\u001b[0;32m~/anaconda3/envs/tm38/lib/python3.8/site-packages/photutils/aperture/core.py\u001b[0m in \u001b[0;36mdo_photometry\u001b[0;34m(self, data, error, mask, method, subpixels)\u001b[0m\n\u001b[1;32m    386\u001b[0m         \u001b[0mdata\u001b[0m\u001b[0;34m,\u001b[0m \u001b[0mvariance\u001b[0m \u001b[0;34m=\u001b[0m \u001b[0m_prepare_photometry_data\u001b[0m\u001b[0;34m(\u001b[0m\u001b[0mdata\u001b[0m\u001b[0;34m,\u001b[0m \u001b[0merror\u001b[0m\u001b[0;34m,\u001b[0m \u001b[0mmask\u001b[0m\u001b[0;34m)\u001b[0m\u001b[0;34m\u001b[0m\u001b[0;34m\u001b[0m\u001b[0m\n\u001b[1;32m    387\u001b[0m \u001b[0;34m\u001b[0m\u001b[0m\n\u001b[0;32m--> 388\u001b[0;31m         return self._do_photometry(data, variance, method=method,\n\u001b[0m\u001b[1;32m    389\u001b[0m                                    subpixels=subpixels, unit=unit)\n\u001b[1;32m    390\u001b[0m \u001b[0;34m\u001b[0m\u001b[0m\n",
      "\u001b[0;32m~/anaconda3/envs/tm38/lib/python3.8/site-packages/photutils/aperture/core.py\u001b[0m in \u001b[0;36m_do_photometry\u001b[0;34m(self, data, variance, method, subpixels, unit)\u001b[0m\n\u001b[1;32m    284\u001b[0m         \u001b[0maperture_sum_errs\u001b[0m \u001b[0;34m=\u001b[0m \u001b[0;34m[\u001b[0m\u001b[0;34m]\u001b[0m\u001b[0;34m\u001b[0m\u001b[0;34m\u001b[0m\u001b[0m\n\u001b[1;32m    285\u001b[0m \u001b[0;34m\u001b[0m\u001b[0m\n\u001b[0;32m--> 286\u001b[0;31m         \u001b[0mmasks\u001b[0m \u001b[0;34m=\u001b[0m \u001b[0mself\u001b[0m\u001b[0;34m.\u001b[0m\u001b[0mto_mask\u001b[0m\u001b[0;34m(\u001b[0m\u001b[0mmethod\u001b[0m\u001b[0;34m=\u001b[0m\u001b[0mmethod\u001b[0m\u001b[0;34m,\u001b[0m \u001b[0msubpixels\u001b[0m\u001b[0;34m=\u001b[0m\u001b[0msubpixels\u001b[0m\u001b[0;34m)\u001b[0m\u001b[0;34m\u001b[0m\u001b[0;34m\u001b[0m\u001b[0m\n\u001b[0m\u001b[1;32m    287\u001b[0m         \u001b[0;32mif\u001b[0m \u001b[0mself\u001b[0m\u001b[0;34m.\u001b[0m\u001b[0misscalar\u001b[0m\u001b[0;34m:\u001b[0m\u001b[0;34m\u001b[0m\u001b[0;34m\u001b[0m\u001b[0m\n\u001b[1;32m    288\u001b[0m             \u001b[0mmasks\u001b[0m \u001b[0;34m=\u001b[0m \u001b[0;34m(\u001b[0m\u001b[0mmasks\u001b[0m\u001b[0;34m,\u001b[0m\u001b[0;34m)\u001b[0m\u001b[0;34m\u001b[0m\u001b[0;34m\u001b[0m\u001b[0m\n",
      "\u001b[0;32m~/anaconda3/envs/tm38/lib/python3.8/site-packages/photutils/aperture/circle.py\u001b[0m in \u001b[0;36mto_mask\u001b[0;34m(self, method, subpixels)\u001b[0m\n\u001b[1;32m     90\u001b[0m             \u001b[0;31m# subtract the inner circle for an annulus\u001b[0m\u001b[0;34m\u001b[0m\u001b[0;34m\u001b[0m\u001b[0;34m\u001b[0m\u001b[0m\n\u001b[1;32m     91\u001b[0m             \u001b[0;32mif\u001b[0m \u001b[0mhasattr\u001b[0m\u001b[0;34m(\u001b[0m\u001b[0mself\u001b[0m\u001b[0;34m,\u001b[0m \u001b[0;34m'r_in'\u001b[0m\u001b[0;34m)\u001b[0m\u001b[0;34m:\u001b[0m\u001b[0;34m\u001b[0m\u001b[0;34m\u001b[0m\u001b[0m\n\u001b[0;32m---> 92\u001b[0;31m                 mask -= circular_overlap_grid(edges[0], edges[1], edges[2],\n\u001b[0m\u001b[1;32m     93\u001b[0m                                               \u001b[0medges\u001b[0m\u001b[0;34m[\u001b[0m\u001b[0;36m3\u001b[0m\u001b[0;34m]\u001b[0m\u001b[0;34m,\u001b[0m \u001b[0mnx\u001b[0m\u001b[0;34m,\u001b[0m \u001b[0mny\u001b[0m\u001b[0;34m,\u001b[0m \u001b[0mself\u001b[0m\u001b[0;34m.\u001b[0m\u001b[0mr_in\u001b[0m\u001b[0;34m,\u001b[0m\u001b[0;34m\u001b[0m\u001b[0;34m\u001b[0m\u001b[0m\n\u001b[1;32m     94\u001b[0m                                               use_exact, subpixels)\n",
      "\u001b[0;31mKeyboardInterrupt\u001b[0m: "
     ]
    }
   ],
   "source": [
    "import logging\n",
    "#tmo_params = {'a':0.125, 'd':0.975, 'mid_in':0.25, 'mid_out':0.18}\n",
    "logging.basicConfig(filename='applyting_MS08.log', \n",
    "                    format='%(asctime)s - %(message)s', level=logging.INFO)\n",
    "\n",
    "for i, (tmo_name, tmo_params) in enumerate(zip(tmo_names,params)):\n",
    "    if i < -3:\n",
    "        continue\n",
    "    print(tmo_name, tmo_params)\n",
    "    out_dir = basedir+tmo_name+'/'\n",
    "    if not os.path.isdir(out_dir): \n",
    "        os.mkdir(out_dir)\n",
    "        os.mkdir(out_dir+'Morphs')\n",
    "        os.mkdir(out_dir+'stat_png')\n",
    "    # mkdir\n",
    "    morphs=[]\n",
    "    for i, fn in enumerate(good_fns):\n",
    "        if i < 0:\n",
    "            continue\n",
    "        if i % 500 == 499:\n",
    "            pickle.dump(morphs, open(out_dir+f\"Morphs/final_morphs{i:05d}.pickle\", \"wb\"),\n",
    "                       protocol=pickle.HIGHEST_PROTOCOL)\n",
    "            morphs=[]\n",
    "            print(i)\n",
    "\n",
    "        img_name = fn.split(\"/\")[-2]\n",
    "        if dataset==\"Nair\": \n",
    "            gid = img_name\n",
    "        else:\n",
    "            gid = int(re.split('(\\d+)',img_name)[1])\n",
    "        hdulist = fits.open(fn)\n",
    "        # Ensure pixel values are positive\n",
    "        img = hdulist[0].data\n",
    "        img -= (img.min() - eps) \n",
    "        \n",
    "        mask = pickle.load(open(basedir+'out1/'+f\"/masks/{img_name}_mask.pickle\", 'rb'))\n",
    "\n",
    "        weight = fits.open(fn.replace(\".fits\", \".weight.fits\"))[0].data\n",
    "        subtracted = img.copy()\n",
    "        subtracted[~mask] = np.nan\n",
    "        \n",
    "        #hdr_max = np.percentile(subtracted.ravel(), 99.9) * 1.1 \n",
    "        subtracted *= 100 # MS08's generic TMs work best for pixels in (1e-2, 1e4)\n",
    "        \n",
    "        #print('min max', subtracted.min(), subtracted.max())\n",
    "        #tonemapped = tonemapping_operator_generic(subtracted, *tmo_params)\n",
    "        tonemapped = Mantiuk_Seidel(subtracted, *tmo_params)\n",
    "        logging.info('subtrated min max: {}, {} --  tonemapped min max: {},{}'.format(subtracted.min(), subtracted.max(), tonemapped.min(), tonemapped.max()))\n",
    "        morph = statmorph.source_morphology(tonemapped, mask, weightmap=weight, sersic_maxiter=0)[0]\n",
    "\n",
    "        hdulist.close()\n",
    "        morph._gid = gid\n",
    "        \n",
    "        statmorph.utils.image_diagnostics.make_figure(morph, nrows=3,\n",
    "                                      savefig=gen_fn_img(morph),\n",
    "                                      img_org=None, norm='linear')\n",
    "        \n",
    "        morphs.append(morph)\n",
    "    pickle.dump(morphs, open(out_dir+f\"Morphs/final_morphs{i:05d}.pickle\", \"wb\"),\n",
    "                protocol=pickle.HIGHEST_PROTOCOL)"
   ]
  },
  {
   "cell_type": "code",
   "execution_count": 8,
   "metadata": {},
   "outputs": [
    {
     "data": {
      "text/plain": [
       "['../../bf_data/Nair_and_Abraham_2010/out1/Morphs/final_morphs00499.pickle',\n",
       " '../../bf_data/Nair_and_Abraham_2010/out1/Morphs/final_morphs00999.pickle',\n",
       " '../../bf_data/Nair_and_Abraham_2010/out1/Morphs/final_morphs01499.pickle',\n",
       " '../../bf_data/Nair_and_Abraham_2010/out1/Morphs/final_morphs01999.pickle',\n",
       " '../../bf_data/Nair_and_Abraham_2010/out1/Morphs/final_morphs02499.pickle',\n",
       " '../../bf_data/Nair_and_Abraham_2010/out1/Morphs/final_morphs02999.pickle',\n",
       " '../../bf_data/Nair_and_Abraham_2010/out1/Morphs/final_morphs03499.pickle',\n",
       " '../../bf_data/Nair_and_Abraham_2010/out1/Morphs/final_morphs03999.pickle',\n",
       " '../../bf_data/Nair_and_Abraham_2010/out1/Morphs/final_morphs04499.pickle',\n",
       " '../../bf_data/Nair_and_Abraham_2010/out1/Morphs/final_morphs04999.pickle',\n",
       " '../../bf_data/Nair_and_Abraham_2010/out1/Morphs/final_morphs05499.pickle',\n",
       " '../../bf_data/Nair_and_Abraham_2010/out1/Morphs/final_morphs05999.pickle',\n",
       " '../../bf_data/Nair_and_Abraham_2010/out1/Morphs/final_morphs06430.pickle']"
      ]
     },
     "execution_count": 8,
     "metadata": {},
     "output_type": "execute_result"
    }
   ],
   "source": [
    "all_morphs"
   ]
  },
  {
   "cell_type": "code",
   "execution_count": 125,
   "metadata": {},
   "outputs": [
    {
     "data": {
      "text/plain": [
       "'../../bf_data/Nair_and_Abraham_2010/BriAda/'"
      ]
     },
     "execution_count": 125,
     "metadata": {},
     "output_type": "execute_result"
    }
   ],
   "source": [
    "out_dir"
   ]
  },
  {
   "cell_type": "code",
   "execution_count": 16,
   "metadata": {},
   "outputs": [
    {
     "name": "stdout",
     "output_type": "stream",
     "text": [
      "../../bf_data/Nair_and_Abraham_2010/out1/Morphs/final_morphs05499.pickle\n"
     ]
    },
    {
     "name": "stderr",
     "output_type": "stream",
     "text": [
      "/home/hoseung/anaconda3/envs/tm38/lib/python3.8/site-packages/astropy/modeling/functional_models.py:2450: RuntimeWarning: overflow encountered in power\n",
      "  return amplitude * np.exp(-bn * (z ** (1 / n) - 1))\n"
     ]
    },
    {
     "name": "stdout",
     "output_type": "stream",
     "text": [
      "../../bf_data/Nair_and_Abraham_2010/out1/Morphs/final_morphs05999.pickle\n",
      "../../bf_data/Nair_and_Abraham_2010/out1/Morphs/final_morphs06430.pickle\n"
     ]
    }
   ],
   "source": [
    "for alm in all_morphs:\n",
    "    print(alm)\n",
    "    mps = pickle.load(open(alm,'rb'))\n",
    "    for morph in mps:\n",
    "        img_name = morph._gid\n",
    "        fn = get_fn(img_name)\n",
    "        # Double Check\n",
    "            \n",
    "        hdulist = fits.open(fn)\n",
    "        img = hdulist[0].data\n",
    "        img -= (img.min() - eps)\n",
    "        \n",
    "        image_diagnostics.make_figure(morph, nrows=3,\n",
    "                                      savefig=gen_fn_img(morph),\n",
    "                                      img_org=None)"
   ]
  },
  {
   "cell_type": "markdown",
   "metadata": {},
   "source": [
    "## Move bad measurements "
   ]
  },
  {
   "cell_type": "code",
   "execution_count": 21,
   "metadata": {},
   "outputs": [],
   "source": [
    "import shutil"
   ]
  },
  {
   "cell_type": "code",
   "execution_count": 25,
   "metadata": {},
   "outputs": [
    {
     "name": "stdout",
     "output_type": "stream",
     "text": [
      "../../bf_data/Nair_and_Abraham_2010/out1/Morphs/final_morphs00499.pickle\n",
      "../../bf_data/Nair_and_Abraham_2010/out1/Morphs/final_morphs00999.pickle\n",
      "../../bf_data/Nair_and_Abraham_2010/out1/Morphs/final_morphs01499.pickle\n",
      "../../bf_data/Nair_and_Abraham_2010/out1/Morphs/final_morphs01999.pickle\n",
      "../../bf_data/Nair_and_Abraham_2010/out1/Morphs/final_morphs02499.pickle\n",
      "../../bf_data/Nair_and_Abraham_2010/out1/Morphs/final_morphs02999.pickle\n",
      "../../bf_data/Nair_and_Abraham_2010/out1/Morphs/final_morphs03499.pickle\n",
      "../../bf_data/Nair_and_Abraham_2010/out1/Morphs/final_morphs03999.pickle\n",
      "../../bf_data/Nair_and_Abraham_2010/out1/Morphs/final_morphs04499.pickle\n",
      "../../bf_data/Nair_and_Abraham_2010/out1/Morphs/final_morphs04999.pickle\n",
      "../../bf_data/Nair_and_Abraham_2010/out1/Morphs/final_morphs05499.pickle\n",
      "../../bf_data/Nair_and_Abraham_2010/out1/Morphs/final_morphs05999.pickle\n",
      "../../bf_data/Nair_and_Abraham_2010/out1/Morphs/final_morphs06430.pickle\n"
     ]
    }
   ],
   "source": [
    "for alm in all_morphs:\n",
    "    print(alm)\n",
    "    mps = pickle.load(open(alm,'rb'))\n",
    "    for morph in mps:\n",
    "        if morph.flag ==1:\n",
    "            fn_img = gen_fn_img(morph)\n",
    "            try:\n",
    "                shutil.move(fn_img, fn_img.replace('stat_png/', 'stat_png/bad/'))\n",
    "            except:\n",
    "                pass"
   ]
  },
  {
   "cell_type": "markdown",
   "metadata": {},
   "source": [
    "종종 fit 실패함. 이상한 object가 많으니 충분히 그럴 수 있긴 함. 눈으로 확인.\n",
    "\n",
    "'모범적인' Sa, Sb, Sc, Sd가 잘 보이도록만 만들면 됨. fore/backgroud object 때문에 fit이 안 되는 경우는 그냥 무시. 얼마나 자주 그러는지만 체크. \n",
    "\n",
    "\n"
   ]
  }
 ],
 "metadata": {
  "kernelspec": {
   "display_name": "Python 3",
   "language": "python",
   "name": "python3"
  },
  "language_info": {
   "codemirror_mode": {
    "name": "ipython",
    "version": 3
   },
   "file_extension": ".py",
   "mimetype": "text/x-python",
   "name": "python",
   "nbconvert_exporter": "python",
   "pygments_lexer": "ipython3",
   "version": "3.8.5"
  }
 },
 "nbformat": 4,
 "nbformat_minor": 4
}
