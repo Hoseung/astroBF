{
 "cells": [
  {
   "cell_type": "markdown",
   "metadata": {},
   "source": [
    "https://botorch.org/docs/models says:\n",
    "\n",
    "BoTorch makes no assumptions on the *model being a GP*, or on *the posterior being a multivariate normal*.\\\n",
    "The **only** requirement for using BoTorch's Monte-Carlo based acquisition function is that the **model** returns a *Posterior object that implements an rsample()*.\n",
    "\n",
    "\"we advocate that users implement their own models to cover more specialized use cases.\""
   ]
  },
  {
   "cell_type": "markdown",
   "metadata": {},
   "source": [
    "A model could be Multi-Task and/or Multi-Output. (MT, MO, MTMO)"
   ]
  },
  {
   "cell_type": "code",
   "execution_count": null,
   "metadata": {},
   "outputs": [],
   "source": [
    "class Posterior():\n",
    "    \"\"\"\n",
    "    Describes the (joint) probablity distribution of the model outputs\n",
    "    over the design points in x.\n",
    "    \"\"\"\n",
    "\n",
    "class MyModel():\n",
    "    \n",
    "    \n",
    "    def __init__(self):\n",
    "        pass\n",
    "\n",
    "    def posterior(self, x):\n",
    "        \"\"\"\n",
    "        Take a tensor x of design points and return an Posterior object.\n",
    "        \"\"\"\n",
    "        \n",
    "        \n",
    "        return \n"
   ]
  },
  {
   "cell_type": "code",
   "execution_count": 1,
   "metadata": {},
   "outputs": [],
   "source": [
    "from botorch.models.gpytorch import GPyTorchModel\n",
    "from gpytorch.distributions import MultitaskMultivariateNormal\n",
    "from gpytorch.means import ConstantMean\n",
    "from gpytorch.models import ExactGP\n",
    "from gpytorch.kernels import RBFKernel, ScaleKernel\n",
    "from gpytorch.likelihoods import GaussianLikelihood\n",
    "from gpytorch.mlls import ExactMarginalLogLikelihood\n",
    "from gpytorch.priors import GammaPrior"
   ]
  },
  {
   "cell_type": "code",
   "execution_count": null,
   "metadata": {},
   "outputs": [],
   "source": [
    "class SimpleCustomGP(ExactGP, GPyTorchModel):\n",
    "    _num_outputs = 1 # to inform GPyTorchModel\n",
    "    \n",
    "    def __init__(self, train_X, train_Y):\n",
    "        "
   ]
  }
 ],
 "metadata": {
  "kernelspec": {
   "display_name": "Python 3",
   "language": "python",
   "name": "python3"
  },
  "language_info": {
   "codemirror_mode": {
    "name": "ipython",
    "version": 3
   },
   "file_extension": ".py",
   "mimetype": "text/x-python",
   "name": "python",
   "nbconvert_exporter": "python",
   "pygments_lexer": "ipython3",
   "version": "3.8.5"
  }
 },
 "nbformat": 4,
 "nbformat_minor": 2
}
