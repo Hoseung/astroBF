{
 "cells": [
  {
   "cell_type": "code",
   "execution_count": 1,
   "metadata": {},
   "outputs": [
    {
     "name": "stderr",
     "output_type": "stream",
     "text": [
      "/home/hoseung/.local/lib/python3.8/site-packages/colour/utilities/verbose.py:237: ColourWarning: \"Adobe DNG Converter\" is not available on your platform!\n",
      "  warn(*args, **kwargs)\n"
     ]
    },
    {
     "name": "stdout",
     "output_type": "stream",
     "text": [
      "===============================================================================\n",
      "*                                                                             *\n",
      "*   Interpreter :                                                             *\n",
      "*       python : 3.8.5 (default, Sep  4 2020, 07:30:14)                       *\n",
      "*                [GCC 7.3.0]                                                  *\n",
      "*                                                                             *\n",
      "*   colour-science.org :                                                      *\n",
      "*       colour : 0.3.16                                                       *\n",
      "*       colour-hdri : 0.1.8                                                   *\n",
      "*                                                                             *\n",
      "*   Runtime :                                                                 *\n",
      "*       imageio : 2.9.0                                                       *\n",
      "*       matplotlib : 3.3.2                                                    *\n",
      "*       networkx : 2.5                                                        *\n",
      "*       numpy : 1.19.2                                                        *\n",
      "*       pandas : 1.2.0                                                        *\n",
      "*       scipy : 1.5.2                                                         *\n",
      "*       six : 1.15.0                                                          *\n",
      "*       recordclass : 0.14.3                                                  *\n",
      "*                                                                             *\n",
      "===============================================================================\n"
     ]
    }
   ],
   "source": [
    "#%matplotlib widget\n",
    "import matplotlib.pyplot as plt \n",
    "\n",
    "import ipywidgets as widgets\n",
    "import numpy as np\n",
    "import os\n",
    "import pickle\n",
    "import sys, math\n",
    "from glob import glob\n",
    "\n",
    "import colour\n",
    "from colour_hdri.plotting import plot_tonemapping_operator_image\n",
    "colour.plotting.colour_style()\n",
    "colour.utilities.describe_environment();\n",
    "\n",
    "#import cv2 as cv\n",
    "import skimage\n",
    "import imageio\n",
    "\n",
    "from astropy.io import fits\n",
    "from colour.models import RGB_COLOURSPACES, RGB_luminance\n",
    "\n",
    "colorspace = RGB_COLOURSPACES['sRGB']\n",
    "\n",
    "import astrobf\n",
    "from astrobf.utils import mask_utils\n",
    "from astrobf.utils.mask_utils import *\n",
    "\n",
    "from matplotlib import patches\n",
    "from matplotlib.collections import PatchCollection\n",
    "\n",
    "import statmorph\n",
    "from statmorph.utils import image_diagnostics\n",
    "\n",
    "import re"
   ]
  },
  {
   "cell_type": "code",
   "execution_count": 2,
   "metadata": {},
   "outputs": [],
   "source": [
    "dataset = ['EFIFI','Nair'][1]\n",
    "basedir = ['../../bf_data/EFIGI_catalog/','../../bf_data/Nair_and_Abraham_2010/'][1]\n",
    "fitsdir = basedir + ['fits_temp_Jan_19/','fits_temp_Dec_28/', 'fits_temp_Feb_3/'][2]\n",
    "\n",
    "out_dir = basedir+'out1/'\n",
    "\n",
    "#fns_g = glob(fitsdir+\"*/*g.fits\")\n",
    "#fns_g.sort()\n",
    "fns_r = glob(fitsdir+\"*/*r.fits\")\n",
    "fns_r.sort()\n",
    "#fns_i = glob(fitsdir+\"*/*i.fits\")\n",
    "#fns_i.sort()\n",
    "\n",
    "eps = 1e-6"
   ]
  },
  {
   "cell_type": "markdown",
   "metadata": {},
   "source": [
    "# Load StatMorph Results"
   ]
  },
  {
   "cell_type": "code",
   "execution_count": 3,
   "metadata": {},
   "outputs": [
    {
     "data": {
      "text/plain": [
       "['../../bf_data/Nair_and_Abraham_2010/out1/Morphs/final_morphs00499.pickle',\n",
       " '../../bf_data/Nair_and_Abraham_2010/out1/Morphs/final_morphs00999.pickle',\n",
       " '../../bf_data/Nair_and_Abraham_2010/out1/Morphs/final_morphs01499.pickle',\n",
       " '../../bf_data/Nair_and_Abraham_2010/out1/Morphs/final_morphs01999.pickle',\n",
       " '../../bf_data/Nair_and_Abraham_2010/out1/Morphs/final_morphs02499.pickle',\n",
       " '../../bf_data/Nair_and_Abraham_2010/out1/Morphs/final_morphs02999.pickle',\n",
       " '../../bf_data/Nair_and_Abraham_2010/out1/Morphs/final_morphs03499.pickle',\n",
       " '../../bf_data/Nair_and_Abraham_2010/out1/Morphs/final_morphs03999.pickle',\n",
       " '../../bf_data/Nair_and_Abraham_2010/out1/Morphs/final_morphs04499.pickle',\n",
       " '../../bf_data/Nair_and_Abraham_2010/out1/Morphs/final_morphs04999.pickle',\n",
       " '../../bf_data/Nair_and_Abraham_2010/out1/Morphs/final_morphs05499.pickle',\n",
       " '../../bf_data/Nair_and_Abraham_2010/out1/Morphs/final_morphs05999.pickle',\n",
       " '../../bf_data/Nair_and_Abraham_2010/out1/Morphs/final_morphs06430.pickle']"
      ]
     },
     "execution_count": 3,
     "metadata": {},
     "output_type": "execute_result"
    }
   ],
   "source": [
    "all_morphs = glob(out_dir+\"Morphs/final*.pickle\")\n",
    "all_morphs.sort()\n",
    "all_morphs"
   ]
  },
  {
   "cell_type": "markdown",
   "metadata": {},
   "source": [
    "###  Collect good galaxy morphs"
   ]
  },
  {
   "cell_type": "code",
   "execution_count": 4,
   "metadata": {},
   "outputs": [],
   "source": [
    "# Good galaxies after visual inspection\n",
    "good_list = glob(out_dir+\"stat_png/good/*.png\")\n",
    "good_gids=[]\n",
    "for gg in good_list:\n",
    "    good_gids.append(gg.split(\"/\")[-1].split(\"_\")[1])\n",
    "good_gids.sort()"
   ]
  },
  {
   "cell_type": "code",
   "execution_count": 849,
   "metadata": {},
   "outputs": [
    {
     "data": {
      "text/plain": [
       "'\\n# Corresponding morphs\\nall_morphs = glob(out_dir+\"Morphs/final_morphs*.pickle\")\\n#good_morphs=[]\\nfor alm in all_morphs:\\n    mps = pickle.load(open(alm,\\'rb\\'))\\n    for morph in mps:\\n        if morph._gid in good_gids:\\n            good_morphs.append(morph)\\n\\n#pickle.dump(good_morphs, open(out_dir+\"Morphs/good{}.pickle\".format(len(good_morphs), \"wb\"), \\n#                              protocol=pickle.HIGHEST_PROTOCOL)\\n'"
      ]
     },
     "execution_count": 849,
     "metadata": {},
     "output_type": "execute_result"
    }
   ],
   "source": [
    "\"\"\"\n",
    "# Corresponding morphs\n",
    "all_morphs = glob(out_dir+\"Morphs/final_morphs*.pickle\")\n",
    "#good_morphs=[]\n",
    "for alm in all_morphs:\n",
    "    mps = pickle.load(open(alm,'rb'))\n",
    "    for morph in mps:\n",
    "        if morph._gid in good_gids:\n",
    "            good_morphs.append(morph)\n",
    "\n",
    "#pickle.dump(good_morphs, open(out_dir+\"Morphs/good{}.pickle\".format(len(good_morphs), \"wb\"), \n",
    "#                              protocol=pickle.HIGHEST_PROTOCOL)\n",
    "\"\"\""
   ]
  },
  {
   "cell_type": "markdown",
   "metadata": {},
   "source": [
    "### Morphology matrix"
   ]
  },
  {
   "cell_type": "code",
   "execution_count": 852,
   "metadata": {},
   "outputs": [],
   "source": [
    "# Put useful measurements into a numpy array\n",
    "fields = [\n",
    "    'xc_centroid', 'yc_centroid', \n",
    "    'ellipticity_centroid', 'elongation_centroid', 'orientation_centroid',\n",
    "    'xc_asymmetry', 'yc_asymmetry',\n",
    "    'ellipticity_asymmetry', 'elongation_asymmetry', 'orientation_asymmetry',\n",
    "    'rpetro_circ', 'rpetro_ellip', 'rhalf_circ', 'rhalf_ellip',\n",
    "    'r20', 'r80',\n",
    "    'gini', 'm20', 'gini_m20_bulge', 'gini_m20_merger',\n",
    "    'sn_per_pixel', 'concentration', 'asymmetry', 'smoothness',\n",
    "    'intensity', 'deviation', 'multimode',\n",
    "    'sersic_xc', 'sersic_yc', 'sersic_amplitude', 'sersic_rhalf', 'sersic_n', 'sersic_ellip', 'sersic_theta',\n",
    "    'sky_mean', 'sky_median', 'sky_sigma']\n",
    "\n",
    "ngal = len(good_gids)\n",
    "result_arr = np.zeros(ngal, \n",
    "                      dtype=[('id','<U24'),('ttype',int),('flag',bool),('flag_sersic',bool)]\n",
    "                           +[(ff,float) for ff in fields])\n",
    "i=0\n",
    "for alm in all_morphs:\n",
    "    mps = pickle.load(open(alm,'rb'))\n",
    "    for morph in mps:\n",
    "        if morph._gid in good_gids:\n",
    "            result_arr[i]['id'] = morph._gid\n",
    "            for ff in fields:\n",
    "                result_arr[i][ff] = getattr(morph, ff)\n",
    "            i+=1\n",
    "        else:\n",
    "            pass"
   ]
  },
  {
   "cell_type": "code",
   "execution_count": 853,
   "metadata": {},
   "outputs": [
    {
     "name": "stdout",
     "output_type": "stream",
     "text": [
      "Number of 'bad measurements afther visual inspection = 0\n"
     ]
    }
   ],
   "source": [
    "print(\"Number of 'bad measurements afther visual inspection =\", np.sum(result_arr['flag']))"
   ]
  },
  {
   "cell_type": "markdown",
   "metadata": {},
   "source": [
    "'multimode' and 'deviation' seem less useful unless scaled otherwise. "
   ]
  },
  {
   "cell_type": "code",
   "execution_count": 70,
   "metadata": {
    "scrolled": true
   },
   "outputs": [
    {
     "data": {
      "image/png": "[encoded data removed]",
      "text/plain": [
       "<Figure size 2000x1800 with 36 Axes>"
      ]
     },
     "metadata": {
      "needs_background": "light"
     },
     "output_type": "display_data"
    }
   ],
   "source": [
    "# Draw a Matrix plot\n",
    "targets = ['m20', 'gini', 'concentration', 'asymmetry', 'smoothness', 'intensity']\n",
    "n_targets = len(targets)\n",
    "fig, axs = plt.subplots(n_targets,n_targets)\n",
    "fig.set_size_inches(20,18)\n",
    "for i, (rows, tg_r) in enumerate(zip(axs,targets)):\n",
    "    for j, (ax, tg_c) in enumerate(zip(rows,targets)):\n",
    "        if i < j:\n",
    "            ax.axis('off') \n",
    "            continue\n",
    "        if tg_r == tg_c:\n",
    "            ax.hist(result_arr[tg_c], bins=25)\n",
    "        else:\n",
    "            ax.hist2d(result_arr[tg_c], result_arr[tg_r], bins=50)\n",
    "        if j==0: \n",
    "            ax.set_ylabel(f'{tg_r}')\n",
    "        if i==n_targets-1:\n",
    "            ax.set_xlabel(f'{tg_c}')\n",
    "\n",
    "plt.tight_layout()\n",
    "plt.savefig(out_dir+\"Morph_matrix.png\", dpi=144, facecolor='white')\n",
    "plt.show()"
   ]
  },
  {
   "cell_type": "markdown",
   "metadata": {},
   "source": [
    "# StatMorph + Nair Catalog"
   ]
  },
  {
   "cell_type": "code",
   "execution_count": 798,
   "metadata": {
    "scrolled": true
   },
   "outputs": [
    {
     "name": "stdout",
     "output_type": "stream",
     "text": [
      "                         ID      RA    dec  zred  zred_q     mg     mr  Mag_r  \\\n",
      "0      J155341.74-003422.84  238.42  -0.57  0.07    1.00  15.82  15.05 -22.08   \n",
      "1      J155146.83-000618.62  237.94  -0.10  0.05    1.00  15.51  14.60 -21.56   \n",
      "2      J154453.22+002415.48  236.22   0.40  0.03    1.00  15.63  14.83 -20.27   \n",
      "3      J154711.32+002424.81  236.79   0.40  0.03    0.96  15.71  15.15 -20.10   \n",
      "4      J154514.39+004619.89  236.31   0.77  0.01    1.00  15.34  14.95 -18.38   \n",
      "...                     ...     ...    ...   ...     ...    ...    ...    ...   \n",
      "14029  J124719.07+154235.64  191.83  15.71  0.06    1.00  15.78  14.90 -21.85   \n",
      "14030  J130510.16+152606.67  196.29  15.43  0.05    1.00  15.31  14.59 -21.62   \n",
      "14031  J131525.21+152522.23  198.85  15.42  0.02    1.00  15.25  14.34 -20.14   \n",
      "14032  J132045.57+151532.75  200.19  15.26  0.02    0.99  15.72  14.93 -19.32   \n",
      "14033  J132135.96+151917.80  200.40  15.32  0.02    1.00  15.47  14.80 -19.47   \n",
      "\n",
      "       logLg  Rpetro   Rp50   Rp90           spID   logM    Age   g_r  sfrt  \\\n",
      "0      10.75   18.66  8.807  17.72  343-51692-265  11.08   4.45  0.63  1.01   \n",
      "1      10.62   12.18  4.578  14.42  343-51692-304  11.24   7.11  0.82  0.89   \n",
      "2      10.07    6.12  2.564   7.45  342-51691-381  10.40   4.28  0.74 -0.01   \n",
      "3      10.46   11.09  6.614   8.95  342-51691-493  10.15   1.90  0.61  1.10   \n",
      "4       9.11    6.91  2.548   4.87  342-51691-430   9.17   1.89  0.56 -1.73   \n",
      "...      ...     ...    ...    ...            ...    ...    ...   ...   ...   \n",
      "14029  10.72   16.59  7.044  17.30  1770-53171-41  11.25   7.98  0.76 -0.21   \n",
      "14030  10.58   10.95  4.882  12.89  1772-53089-38  10.93   4.25  0.64 -0.05   \n",
      "14031  10.05    5.51  2.111   6.58  1773-53112-40  10.74  99.00  0.85 -1.07   \n",
      "14032   9.68    5.17  2.234   6.07  1773-53112-61  10.25   4.39  0.75 -0.53   \n",
      "14033   9.85    3.87  1.815   4.93  1773-53112-61  10.31   5.76  0.61 -0.84   \n",
      "\n",
      "        sfrm   mu_g  mu_M  MvoerL    area  bovera  Seeing    ng    nr  \\\n",
      "0      -9.95  22.63  8.25    0.19  674.81    0.79     1.6  2.93  3.56   \n",
      "1     -10.94  22.43  8.56    0.32  478.97    0.95     1.5  3.32  3.45   \n",
      "2     -10.83  22.47  8.15    0.09  179.23    0.84     1.3  2.81  3.05   \n",
      "3      -9.92  22.63  7.84    0.04  203.25    0.85     1.3  2.55  3.13   \n",
      "4     -10.28  22.53  7.33   -0.07   69.22    0.32     1.4  2.32  2.27   \n",
      "...      ...    ...   ...     ...     ...     ...     ...   ...   ...   \n",
      "14029 -10.72  22.53  8.49    0.30  587.12    0.56     1.2  4.06  4.13   \n",
      "14030 -10.18  22.35  8.26    0.18  466.86    0.70     1.4  2.41  2.93   \n",
      "14031 -11.13  22.26  8.52   99.00  164.51    0.34     1.3  3.77  3.46   \n",
      "14032  -9.98  22.78  8.21    0.33  107.75    0.60     1.2  2.98  3.45   \n",
      "14033 -10.41  22.17  8.30    0.30  101.04    0.45     1.1  2.60  2.86   \n",
      "\n",
      "         chi2g    chi2r   R50n   R90n   sigma  e_sigma  VoverVmax  TT  Bar  \\\n",
      "0      1452.15  1457.84   5.84  18.65  143.68     7.89       0.80   3    0   \n",
      "1       476.32   280.61   4.24  13.93  204.81     5.36       0.52  -5    0   \n",
      "2        82.04   116.52   3.61  11.33  129.97     5.46       0.60  -2    0   \n",
      "3      2755.89  3844.55   5.69  17.56   45.25    12.27       0.71   4    0   \n",
      "4        63.38    21.12  12.79  38.48   89.32    14.59       0.37   5    0   \n",
      "...        ...      ...    ...    ...     ...      ...        ...  ..  ...   \n",
      "14029   341.16   263.83   3.84  13.04  195.68     6.66       0.75   2    0   \n",
      "14030   690.33   866.78   4.32  13.18  121.74     5.39       0.41   2    0   \n",
      "14031    48.07    35.79   2.64   8.84  243.68     4.62       0.36   1    0   \n",
      "14032   158.70   353.75   4.20  13.42   65.21     5.18       0.69   0    0   \n",
      "14033   958.04   774.40   5.04  15.68  120.39     3.95       0.48   3    0   \n",
      "\n",
      "       Ring  f_Ring  Lens  TTq  Pair  f_Pair  Int  nt      RC3    Tt  \n",
      "0        36       0     0    0     0       0    0   0      NaN  99.0  \n",
      "1         0       0     0    0     0       0    0   0      NaN  99.0  \n",
      "2         0       0     0    0     0       0    0   0      NaN  99.0  \n",
      "3         0       0     0    0     0       0    0   0      NaN  99.0  \n",
      "4         0       0     0    2     4       0    0   0  .SAS7?.  99.0  \n",
      "...     ...     ...   ...  ...   ...     ...  ...  ..      ...   ...  \n",
      "14029     0       0     0    0     0       0    0   0      NaN  99.0  \n",
      "14030     0       0     0    0     0       0    0   0      NaN  99.0  \n",
      "14031     0       0     0    0     0     128    0   0      NaN  99.0  \n",
      "14032     4       0     0    0     0       0    0   0      NaN  99.0  \n",
      "14033     4       0     0    0     0       0    0   0      NaN  99.0  \n",
      "\n",
      "[14034 rows x 45 columns]\n"
     ]
    }
   ],
   "source": [
    "if dataset == \"Nair\":\n",
    "    import pandas as pd\n",
    "    fn_cat = '../../bf_data/Nair_and_Abraham_2010/catalog/table2.dat'\n",
    "    headings =['ID', 'RA', 'dec', 'zred', 'zred_q', \n",
    "               'mg', 'mr', 'Mag_r', 'logLg', 'Rpetro', \n",
    "               'Rp50', 'Rp90', 'spID', 'logM', 'Age', \n",
    "               'g_r', 'sfrt', 'sfrm', 'mu_g', 'mu_M',\n",
    "               'MvoerL','area', 'bovera', 'Seeing', 'ng',\n",
    "               'nr', 'chi2g', 'chi2r', 'R50n', 'R90n', \n",
    "               'sigma', 'e_sigma', 'VoverVmax', 'TT', 'Bar', \n",
    "               'Ring', 'f_Ring', 'Lens', 'TTq', 'Pair', \n",
    "               'f_Pair', 'Int', 'nt', 'RC3', 'Tt']\n",
    "    \n",
    "    colspecs = [(l[0]-1, l[1]-1) for l in [(1,21), (22,28), (32,38), (42,46), (50,54), \n",
    "                (56,61), (63,68), (70,76), (78,83), (85,90), \n",
    "                (93,99), (101,106), (108, 121), (123,128), (130,135), \n",
    "                (138,143), (147,153), (157,163), (165,170), (172,178), \n",
    "                (180,185), (189,195), (197,201), (205,208), (224, 228),\n",
    "                (231,235), (237,245), (247,255), (257,262), (265,270),\n",
    "                (272,278), (280,286), (288,292), (376,379), (380,382),\n",
    "                (383,386), (387,389), (390,392), (393,394), (395,397),\n",
    "                (398,401), (402,406), (407,409), (410,417), (418,421)] ]\n",
    "\n",
    "    dat = pd.read_fwf(fn_cat, colspecs=colspecs, \n",
    "                     names=headings, header=None)\n",
    "\n",
    "    with pd.option_context('display.max_rows', 10, 'display.max_columns', None):\n",
    "        print (dat)    \n",
    "    \n",
    "    # follow result_arr's convention\n",
    "    dat['ID'] = dat['ID'].apply(lambda x: x.replace('-','m'))\n",
    "    dat['ID'] = dat['ID'].apply(lambda x: x.replace('+','p'))\n",
    "    dat = dat.sort_values(\"ID\")\n",
    "    cat = dat.to_records(index=False, column_dtypes={'ID':'<U24', 'spID':'<U14', 'RC3':'<U7'})\n",
    "\n",
    "elif dataset == 'EFIGI':\n",
    "    fn_cat = '../../bf_data/EFIGI_catalog/catalog/efigi.dat'\n",
    "\n",
    "# \n",
    "inds = cat['ID'].searchsorted(result_arr['id'])\n",
    "print(\"Is every element matched?: \", np.all(cat[inds]['ID'] == result_arr['id']))\n",
    "result_arr['ttype'] = cat[inds]['TT']\n",
    "\n",
    "Ttypes = np.unique(result_arr['ttype'])"
   ]
  },
  {
   "cell_type": "code",
   "execution_count": 855,
   "metadata": {},
   "outputs": [],
   "source": [
    "pickle.dump(result_arr, open(out_dir+'result_arr.pcikle', 'wb'))"
   ]
  },
  {
   "cell_type": "code",
   "execution_count": 249,
   "metadata": {},
   "outputs": [
    {
     "data": {
      "text/plain": [
       "dtype([('id', '<U24'), ('ttype', '<i8'), ('flag', '?'), ('flag_sersic', '?'), ('xc_centroid', '<f8'), ('yc_centroid', '<f8'), ('ellipticity_centroid', '<f8'), ('elongation_centroid', '<f8'), ('orientation_centroid', '<f8'), ('xc_asymmetry', '<f8'), ('yc_asymmetry', '<f8'), ('ellipticity_asymmetry', '<f8'), ('elongation_asymmetry', '<f8'), ('orientation_asymmetry', '<f8'), ('rpetro_circ', '<f8'), ('rpetro_ellip', '<f8'), ('rhalf_circ', '<f8'), ('rhalf_ellip', '<f8'), ('r20', '<f8'), ('r80', '<f8'), ('gini', '<f8'), ('m20', '<f8'), ('gini_m20_bulge', '<f8'), ('gini_m20_merger', '<f8'), ('sn_per_pixel', '<f8'), ('concentration', '<f8'), ('asymmetry', '<f8'), ('smoothness', '<f8'), ('intensity', '<f8'), ('deviation', '<f8'), ('multimode', '<f8'), ('sersic_xc', '<f8'), ('sersic_yc', '<f8'), ('sersic_amplitude', '<f8'), ('sersic_rhalf', '<f8'), ('sersic_n', '<f8'), ('sersic_ellip', '<f8'), ('sersic_theta', '<f8'), ('sky_mean', '<f8'), ('sky_median', '<f8'), ('sky_sigma', '<f8')])"
      ]
     },
     "execution_count": 249,
     "metadata": {},
     "output_type": "execute_result"
    }
   ],
   "source": [
    "result_arr.dtype"
   ]
  },
  {
   "cell_type": "code",
   "execution_count": 266,
   "metadata": {},
   "outputs": [],
   "source": [
    "# ridgeplot\n",
    "from sklearn.neighbors import KernelDensity\n",
    "import matplotlib.gridspec as grid_spec\n",
    "\n",
    "categories = Ttypes\n",
    "data = result_arr\n",
    "cat_name = 'ttype'\n",
    "var_name = 'm20'\n",
    "\n",
    "\n",
    "def ridge_plot(data, categories, var_name, cat_name,\n",
    "               cmap = 'Spectral',\n",
    "               figsize=(9,12),\n",
    "               ymax=None,\n",
    "               bandwidth=None,\n",
    "               nband=50,\n",
    "               hspace=-0.8,\n",
    "               fn_fig=None):\n",
    "    # https://matplotlib.org/matplotblog/posts/create-ridgeplots-in-matplotlib/\n",
    "\n",
    "    cmap = matplotlib.cm.get_cmap(cmap)\n",
    "    n_catagories = len(categories)\n",
    "    colors = cmap(np.linspace(0,1,n_catagories))\n",
    "\n",
    "    gs = grid_spec.GridSpec(n_catagories,1)\n",
    "    fig = plt.figure(figsize=figsize)\n",
    "\n",
    "    xmin = data[var_name].min()\n",
    "    xmax = data[var_name].max()\n",
    "\n",
    "    ax_objs = []\n",
    "    heighs=[]\n",
    "    if bandwidth is None:\n",
    "        bandwidth = (xmax - xmin) / nband\n",
    "\n",
    "    for i, species in enumerate(categories):\n",
    "        x = np.array(data[var_name][data[cat_name] == species])\n",
    "        x_d = np.linspace(xmin,xmax, 1000)\n",
    "\n",
    "        kde = KernelDensity(bandwidth=bandwidth, kernel='gaussian')\n",
    "        kde.fit(x[:, None])\n",
    "\n",
    "        logprob = kde.score_samples(x_d[:, None])\n",
    "\n",
    "        # creating new axes object\n",
    "        ax_objs.append(fig.add_subplot(gs[i:i+1, 0:]))\n",
    "\n",
    "        # plotting the distribution\n",
    "        ax_objs[-1].plot(x_d, np.exp(logprob),color=\"#f0f0f0\",lw=1)\n",
    "        ax_objs[-1].fill_between(x_d, np.exp(logprob), alpha=1,color=colors[i])\n",
    "\n",
    "        # setting uniform x axis\n",
    "        ax_objs[-1].set_xlim(xmin, xmax)\n",
    "        \n",
    "        # store heights\n",
    "        heighs.append(max(np.exp(logprob)))\n",
    "        #ax_objs[-1].set_ylim(0,ymax)\n",
    "\n",
    "        # make background transparent\n",
    "        rect = ax_objs[-1].patch\n",
    "        rect.set_alpha(0)\n",
    "\n",
    "        # remove borders, axis ticks, and labels\n",
    "        ax_objs[-1].set_yticklabels([])\n",
    "\n",
    "        if i == len(categories)-1:\n",
    "            ax_objs[-1].set_xlabel(var_name, fontsize=16,fontweight=\"bold\")\n",
    "        else:\n",
    "            ax_objs[-1].set_xticklabels([])\n",
    "\n",
    "        spines = [\"top\",\"right\",\"left\",\"bottom\"]\n",
    "        for s in spines:\n",
    "            ax_objs[-1].spines[s].set_visible(False)\n",
    "\n",
    "        label = f'{species}'\n",
    "        ax_objs[-1].text(xmax + 0.05*(xmax-xmin),0,label,fontweight=\"bold\",fontsize=14,ha=\"right\")\n",
    "\n",
    "    if ymax is None:\n",
    "        ymax = 0.7*(np.mean(heighs)+max(heighs))\n",
    "    for ax in ax_objs:\n",
    "        ax.set_ylim(0,ymax)\n",
    "    gs.update(hspace=hspace)\n",
    "    ax_objs[0].text(0.5*(xmax+xmin), ymax, var_name+' vs '+cat_name, fontweight=\"bold\",fontsize=14)\n",
    "    plt.tight_layout()\n",
    "    if fn_fig is not None:\n",
    "        plt.savefig(fn_fig, facecolor='white')\n",
    "        plt.close()\n",
    "    else:\n",
    "        plt.show()"
   ]
  },
  {
   "cell_type": "code",
   "execution_count": 356,
   "metadata": {
    "scrolled": false
   },
   "outputs": [
    {
     "name": "stderr",
     "output_type": "stream",
     "text": [
      "<ipython-input-353-355006a2ed5d>:80: UserWarning: This figure includes Axes that are not compatible with tight_layout, so results might be incorrect.\n",
      "  plt.tight_layout()\n"
     ]
    }
   ],
   "source": [
    "ridge_plot(result_arr, Ttypes, var_name='m20', cat_name='ttype',fn_fig=out_dir+\"ridge_M20.png\")\n",
    "\n",
    "ridge_plot(result_arr, Ttypes, var_name='gini', cat_name='ttype',fn_fig=out_dir+\"ridge_gini.png\")\n",
    "\n",
    "ridge_plot(result_arr, Ttypes, var_name='concentration', cat_name='ttype',fn_fig=out_dir+\"ridge_concentration.png\")\n",
    "\n",
    "ridge_plot(result_arr, Ttypes, var_name='asymmetry', cat_name='ttype',fn_fig=out_dir+\"ridge_asymmetry.png\")\n",
    "\n",
    "ridge_plot(result_arr, Ttypes, var_name='smoothness',\n",
    "           cat_name='ttype',fn_fig=out_dir+\"ridge_smoothness.png\")\n",
    "\n"
   ]
  },
  {
   "cell_type": "markdown",
   "metadata": {},
   "source": [
    "# Correlation matrix"
   ]
  },
  {
   "cell_type": "code",
   "execution_count": 654,
   "metadata": {},
   "outputs": [],
   "source": [
    "def view_fields(arr, fields):\n",
    "    return arr.getfield(np.dtype({name:arr.dtype.fields[name] for name in fields}))\n",
    "\n",
    "def select_columns(arr, fields):\n",
    "    dtype = np.dtype([(name, arr.dtype.fields[name][0]) for name in fields])\n",
    "    newarr = np.zeros(arr.shape, dtype=dtype)\n",
    "    for name in dtype.names:\n",
    "        newarr[name] = arr[name]\n",
    "    return newarr\n",
    "\n",
    "def struct_to_ndarray(strarr):\n",
    "    \"\"\"\n",
    "    Takes 'contiguous' structured array. Doesn't work with discontinuous views!\n",
    "    \n",
    "    \"\"\"\n",
    "    return strarr.view(np.float64).reshape(strarr.shape + (-1,))"
   ]
  },
  {
   "cell_type": "code",
   "execution_count": 695,
   "metadata": {},
   "outputs": [],
   "source": [
    "# Plot correlation matrix\n",
    "import sklearn\n",
    "\n",
    "def plot_correlation_matrix(arr, fields, cmap = 'coolwarm', fn_fig=None):\n",
    "    from sklearn.preprocessing import StandardScaler\n",
    "    stdsc = StandardScaler()\n",
    "    X_std = stdsc.fit_transform(arr)\n",
    "    #cov_mat =np.cov(X_std.T) ... What's the difference??\n",
    "    cov_mat = np.corrcoef(X_std.T)\n",
    "    plot_annotate_lower_heatmap(cov_mat, fields, fn_fig=fn_fig)\n",
    "\n",
    "def plot_annotate_lower_heatmap(cov_mat, labels, cmap = 'coolwarm', fn_fig=None):\n",
    "    fig, ax = plt.subplots(figsize=(6,5))\n",
    "    # Lower triangle \n",
    "    Lower = np.tril(cov_mat)\n",
    "    Lower[Lower==0] = np.nan\n",
    "    im = ax.imshow(Lower, cmap=cmap, )\n",
    "\n",
    "    # Enable ticks to show labels.\n",
    "    ax.set_xticks(np.arange(len(labels)))\n",
    "    ax.set_yticks(np.arange(len(labels)))\n",
    "    # But ticks come with guiding grid. Turn them off.\n",
    "    ax.grid(False)\n",
    "\n",
    "    ax.set_xticklabels(labels)\n",
    "    ax.set_yticklabels(labels)\n",
    "\n",
    "    # tick length to 0\n",
    "    ax.tick_params(axis=u'both', which=u'both',length=0)\n",
    "\n",
    "    # Rotate the tick labels and set their alignment.\n",
    "    plt.setp(ax.get_xticklabels(), rotation=45, ha=\"right\",\n",
    "             rotation_mode=\"anchor\")\n",
    "\n",
    "    # Annotate values\n",
    "    for i in range(len(labels)):\n",
    "        for j in range(len(labels)):\n",
    "            if i >= j:\n",
    "                text = ax.text(j, i, f'{Lower[i, j]:.2f}',\n",
    "                           ha=\"center\", va=\"center\", color=\"w\")\n",
    "    fig.colorbar(im)\n",
    "\n",
    "    plt.tight_layout()\n",
    "    if fn_fig is not None:\n",
    "        plt.savefig(fn_fig, facecolor='white')\n",
    "        plt.close()\n",
    "    else:\n",
    "        plt.show()\n",
    "    "
   ]
  },
  {
   "cell_type": "code",
   "execution_count": 696,
   "metadata": {},
   "outputs": [],
   "source": [
    "fields = ['gini', 'm20', 'concentration', 'asymmetry', 'smoothness']\n",
    "compact = struct_to_ndarray(select_columns(result_arr, fields))\n",
    "plot_correlation_matrix(compact, fields, fn_fig=out_dir+'correlation_matrix.png')"
   ]
  },
  {
   "cell_type": "markdown",
   "metadata": {},
   "source": [
    "# Clustering\n",
    "\n",
    "## Methods\n",
    "- K-means\n",
    "- Affinity Propagation\n",
    "- Mean Shift \n",
    "- Spectral clustering\n",
    "- Hierarchical clustering\n",
    "- DBSCAN\n",
    "- OPTICS (?)\n",
    "- Birtch\n",
    "++\n",
    "- Self-organizing maps\n",
    "- Self-organizing tree algorithm\n",
    "\n",
    "## Evaluation metrics\n",
    "(from SKlearn)\n",
    "- Rand index\n",
    "- Mutual Information based scores (Normalized Mutual Information / Adjusted Mutual Information)\n",
    "- Homogeneity / completenss / V-measure\n",
    "- Fowlkes-Mallows scores\n",
    "- Silhouette Coefficient(width)\n",
    "- Calinski-Harabasz Index\n",
    "- Davies-Bouldin Index\n",
    "- Contingency Matrix\n",
    "- Pair Confusion Matrix\n",
    "++\n",
    "- Connectivity\n",
    "- Dunn index"
   ]
  },
  {
   "cell_type": "markdown",
   "metadata": {},
   "source": [
    "## K-means\n",
    "\n",
    "### Initialization\n",
    "- k-means++\n",
    "- random\n",
    "- based on PCA\n",
    "- and other dimenstionality reduction technique\n",
    "\n"
   ]
  },
  {
   "cell_type": "code",
   "execution_count": 603,
   "metadata": {},
   "outputs": [],
   "source": [
    "def dunn_index(pts, labels, centroids):\n",
    "    \"\"\"\n",
    "    https://stackoverflow.com/a/60666838/4294919\n",
    "    \n",
    "    Scales poorly with large number of clusters!\n",
    "    \"\"\"\n",
    "    # O(k n log(n)) with k clusters and n points; better performance with more even clusters\n",
    "    max_intracluster_dist = max(diameter(pts[labels==i]) for i in np.unique(labels))\n",
    "    # O(k^2) with k clusters; can be reduced to O(k log(k))\n",
    "    # get pairwise distances between centroids\n",
    "    cluster_dmat = spatial.distance_matrix(centroids, centroids)\n",
    "    # fill diagonal with +inf: ignore zero distance to self in \"min\" computation\n",
    "    np.fill_diagonal(cluster_dmat, np.inf)\n",
    "    min_intercluster_dist = cluster_sizes.min()\n",
    "    return min_intercluster_dist / max_intracluster_dist\n"
   ]
  },
  {
   "cell_type": "code",
   "execution_count": 663,
   "metadata": {},
   "outputs": [],
   "source": [
    "from sklearn.cluster import AgglomerativeClustering, AffinityPropagation, Birch, DBSCAN, MeanShift, SpectralClustering\n",
    "from sklearn.pipeline import make_pipeline"
   ]
  },
  {
   "cell_type": "code",
   "execution_count": 718,
   "metadata": {},
   "outputs": [],
   "source": [
    "from time import time\n",
    "from sklearn import metrics\n",
    "def bench_clustering(clu, name, data, labels):\n",
    "    \"\"\"Benchmark to evaluate the clu initialization methods.\n",
    "\n",
    "    Parameters\n",
    "    ----------\n",
    "    clu : clu instance\n",
    "        A :class:`~sklearn.cluster.A_clustering_method` instance with the initialization\n",
    "        already set.\n",
    "    name : str\n",
    "        Name given to the strategy. It will be used to show the results in a\n",
    "        table.\n",
    "    data : ndarray of shape (n_samples, n_features)\n",
    "        The data to cluster.\n",
    "    labels : ndarray of shape (n_samples,)\n",
    "        The labels used to compute the clustering metrics which requires some\n",
    "        supervision.\n",
    "    \"\"\"\n",
    "\n",
    "    t0 = time()\n",
    "    estimator = make_pipeline(StandardScaler(), clu).fit(data)\n",
    "    fit_time = time() - t0\n",
    "    results = [name, fit_time, estimator[-1].inertia_]\n",
    "\n",
    "    # Define the metrics which require only the true labels and estimator\n",
    "    # labels\n",
    "    clustering_metrics = [\n",
    "        metrics.homogeneity_score,\n",
    "        metrics.completeness_score,\n",
    "        metrics.v_measure_score,\n",
    "        metrics.adjusted_rand_score,\n",
    "        metrics.adjusted_mutual_info_score,\n",
    "    ]\n",
    "    results += [m(labels, estimator[-1].labels_) for m in clustering_metrics]\n",
    "\n",
    "    # The silhouette score requires the full dataset\n",
    "    results += [\n",
    "        metrics.silhouette_score(data, estimator[-1].labels_,\n",
    "                                 metric=\"euclidean\", sample_size=300,)\n",
    "    ]\n",
    "\n",
    "    return results\n",
    "    "
   ]
  },
  {
   "cell_type": "code",
   "execution_count": 685,
   "metadata": {},
   "outputs": [],
   "source": [
    "clustering_methods =[\n",
    "    AgglomerativeClustering,\n",
    "    AffinityPropagation,\n",
    "    Birch,\n",
    "    DBSCAN,\n",
    "    MeanShift,\n",
    "    SpectralClustering\n",
    "]"
   ]
  },
  {
   "cell_type": "code",
   "execution_count": 719,
   "metadata": {},
   "outputs": [],
   "source": [
    "from sklearn.decomposition import PCA\n",
    "def run_bench(data, labels, n_clusters):\n",
    "    \"\"\"\n",
    "    labels needed to evaluate some metrics requiring supervision.\n",
    "    \"\"\"\n",
    "    print(82 * '_')\n",
    "    print('init\\t\\ttime\\tinertia\\thomo\\tcompl\\tv-meas\\tARI\\tAMI\\tsilhouette')\n",
    "    # Show the results\n",
    "    formatter_result = (\"{:9s}\\t{:.3f}s\\t{:.0f}\\t{:.3f}\\t{:.3f}\"\n",
    "                        \"\\t{:.3f}\\t{:.3f}\\t{:.3f}\\t{:.3f}\")\n",
    "    \n",
    "    \n",
    "    kmeans = KMeans(init=\"k-means++\", n_clusters=n_clusters, n_init=4,\n",
    "                    random_state=0)\n",
    "    results = bench_clustering(kmeans, name=\"k-means++\", data=data, labels=labels)\n",
    "    print(formatter_result.format(*results))\n",
    "    \n",
    "    kmeans = KMeans(init=\"random\", n_clusters=n_clusters, n_init=4, random_state=0)\n",
    "    results = bench_clustering(kmeans, name=\"random\", data=data, labels=labels)\n",
    "    print(formatter_result.format(*results))\n",
    "\n",
    "    pca = PCA(n_components=n_clusters).fit(data)\n",
    "    kmeans = KMeans(init=pca.components_, n_clusters=n_clusters, n_init=1)\n",
    "    results = bench_clustering(kmeans, name=\"PCA-based\", data=data, labels=labels)\n",
    "    print(formatter_result.format(*results))\n",
    "\n",
    "    print(82 * '_')"
   ]
  },
  {
   "cell_type": "code",
   "execution_count": 720,
   "metadata": {},
   "outputs": [
    {
     "name": "stdout",
     "output_type": "stream",
     "text": [
      "__________________________________________________________________________________\n",
      "init\t\ttime\tinertia\thomo\tcompl\tv-meas\tARI\tAMI\tsilhouette\n",
      "k-means++\t0.017s\t14085\t0.107\t0.375\t0.166\t0.090\t0.165\t0.511\n",
      "random   \t0.014s\t14085\t0.107\t0.377\t0.167\t0.090\t0.166\t0.526\n",
      "PCA-based\t0.004s\t14085\t0.107\t0.376\t0.167\t0.091\t0.166\t0.501\n",
      "__________________________________________________________________________________\n"
     ]
    }
   ],
   "source": [
    "run_bench(compact[:,:5], ttype_ind, 2)"
   ]
  },
  {
   "cell_type": "code",
   "execution_count": null,
   "metadata": {},
   "outputs": [],
   "source": []
  },
  {
   "cell_type": "markdown",
   "metadata": {},
   "source": [
    "## Pipelining SKLearn\n",
    "https://medium.com/vickdata/a-simple-guide-to-scikit-learn-pipelines-4ac0d974bdcf\n"
   ]
  },
  {
   "cell_type": "code",
   "execution_count": 666,
   "metadata": {},
   "outputs": [],
   "source": [
    "from sklearn.cluster import KMeans\n",
    "from sklearn.compose import ColumnTransformer\n",
    "from sklearn.pipeline import Pipeline\n",
    "from sklearn.impute import SimpleImputer"
   ]
  },
  {
   "cell_type": "code",
   "execution_count": 659,
   "metadata": {},
   "outputs": [],
   "source": [
    "numeric_transformer = Pipeline(steps=[\n",
    "    ('imputer', SimpleImputer(strategy='median')),\n",
    "    ('scaler', StandardScaler())])\n",
    "\n",
    "prep = ColumnTransformer(transformers=[('num', numeric_transformer, select_columns(result_arr, fields))])"
   ]
  },
  {
   "cell_type": "code",
   "execution_count": null,
   "metadata": {},
   "outputs": [],
   "source": []
  },
  {
   "cell_type": "code",
   "execution_count": null,
   "metadata": {},
   "outputs": [],
   "source": []
  },
  {
   "cell_type": "code",
   "execution_count": null,
   "metadata": {},
   "outputs": [],
   "source": [
    "# pre-processing\n",
    "stdsc = StandardScaler()\n",
    "X_std = stdsc.fit_transform(compact)"
   ]
  },
  {
   "cell_type": "code",
   "execution_count": 708,
   "metadata": {},
   "outputs": [
    {
     "name": "stdout",
     "output_type": "stream",
     "text": [
      "positive samples 1088/4905\n"
     ]
    }
   ],
   "source": [
    "binary=True\n",
    "if not binary:\n",
    "    # sparse Ttype into a compact array ... or ... encoding\n",
    "    ttype_code = np.digitize(result_arr['ttype'], bins=list(Ttypes)+[100], right=True)\n",
    "    n_clusters=len(Ttypes)\n",
    "else:\n",
    "    # Binary classification \n",
    "    n_clusters=2\n",
    "    ttype_code = np.zeros(len(result_arr), dtype=np.int8)\n",
    "    ind_positive = np.where((result_arr['ttype'] > 3) * (result_arr['ttype'] < 6))[0]\n",
    "    print(\"positive samples {}/{}\".format(len(ind_positive), len(result_arr)))\n",
    "    ttype_code[ind_positive] = 1 # Zero otherwise\n",
    "\n",
    "kmeans = KMeans(n_clusters=n_clusters, random_state=0).fit(compact[:,:4])\n",
    "\n",
    "plot_2d_clusters(kmeans, compact, fields, ttype_code, \n",
    "                 n_clusters=2,\n",
    "                 ix=0, iy=1, fn_fig=out_dir+\"K-means_side-by-side.png\")"
   ]
  },
  {
   "cell_type": "code",
   "execution_count": 700,
   "metadata": {},
   "outputs": [],
   "source": [
    "def plot_2d_clusters(clu, data, features, org_label, \n",
    "                     n_clusters=2, \n",
    "                     ix=0, \n",
    "                     iy=1, \n",
    "                     cmap = 'viridis', \n",
    "                     fn_fig = None):\n",
    "    \"\"\"\n",
    "    Expects sklearn clu instance. \n",
    "    Needs clu.cluster_centers_, clu.labels_ and clu.n_clusters\n",
    "    \"\"\"\n",
    "    xlabel=features[ix]\n",
    "    ylabel=features[iy]\n",
    "\n",
    "    fig, axs = plt.subplots(1,2)\n",
    "    fig.suptitle(ylabel+' vs '+xlabel, fontsize=20)\n",
    "    axs[0].scatter(data[:,ix], data[:,iy], c=clu.labels_, s=10, alpha=0.6, cmap=cmap)\n",
    "    #for ic, centers in enumerate(clu.cluster_centers_):\n",
    "    axs[0].scatter(clu.cluster_centers_[:,ix],\n",
    "                clu.cluster_centers_[:,iy], s=100, c=range(1,clu.n_clusters+1), cmap=cmap)\n",
    "    axs[0].set_title(\"K-means\")\n",
    "    axs[1].set_title(\"Original\")\n",
    "    axs[1].scatter(data[:,ix], data[:,iy], c=org_label, s=10, alpha=0.6, cmap=cmap)\n",
    "    axs[1].scatter(clu.cluster_centers_[:,ix],\n",
    "                clu.cluster_centers_[:,iy], s=100, c=range(1,clu.n_clusters+1), cmap=cmap)\n",
    "    # add axis labels\n",
    "    for ax in axs:\n",
    "        ax.set_xlabel(xlabel)\n",
    "        ax.set_ylabel(ylabel)\n",
    "    \n",
    "    plt.tight_layout()\n",
    "    if fn_fig is not None:\n",
    "        plt.savefig(fn_fig, facecolor='white')\n",
    "        plt.close()\n",
    "    else:\n",
    "        plt.show()\n",
    "    "
   ]
  },
  {
   "cell_type": "code",
   "execution_count": null,
   "metadata": {},
   "outputs": [],
   "source": []
  },
  {
   "cell_type": "code",
   "execution_count": null,
   "metadata": {},
   "outputs": [],
   "source": []
  },
  {
   "cell_type": "markdown",
   "metadata": {},
   "source": [
    "# Bayesian Optimization"
   ]
  },
  {
   "cell_type": "code",
   "execution_count": 761,
   "metadata": {},
   "outputs": [],
   "source": [
    "def tonemapping_operator_generic(x,\n",
    "                             a=0.125,\n",
    "                             d=0.975,\n",
    "                             mid_in=0.25,\n",
    "                             mid_out=0.18):\n",
    "    hdr_max = x.max()\n",
    "    ad = a * d\n",
    "    midi_pow_a  = pow(mid_in, a)\n",
    "    midi_pow_ad = pow(mid_in, ad)\n",
    "    hdrm_pow_a  = pow(hdr_max, a)\n",
    "    hdrm_pow_ad = pow(hdr_max, ad)\n",
    "    u = hdrm_pow_ad * mid_out - midi_pow_ad * mid_out\n",
    "    v = midi_pow_ad * mid_out\n",
    "\n",
    "    b = -((-midi_pow_a + (mid_out * (hdrm_pow_ad * midi_pow_a - hdrm_pow_a * v)) / u) / v)\n",
    "    c = (hdrm_pow_ad * midi_pow_a - hdrm_pow_a * v) / u\n",
    "\n",
    "    x[x>hdr_max] = hdr_max\n",
    "    z = np.power(x, a)\n",
    "    return z / (np.power(z, d) * b + c)"
   ]
  },
  {
   "cell_type": "code",
   "execution_count": 894,
   "metadata": {},
   "outputs": [],
   "source": []
  },
  {
   "cell_type": "code",
   "execution_count": 857,
   "metadata": {},
   "outputs": [
    {
     "name": "stdout",
     "output_type": "stream",
     "text": [
      "# good galaxies: 4890\n"
     ]
    }
   ],
   "source": []
  },
  {
   "cell_type": "markdown",
   "metadata": {},
   "source": [
    "## BO : measure Gini, M20, Asym, and size"
   ]
  },
  {
   "cell_type": "code",
   "execution_count": 904,
   "metadata": {},
   "outputs": [],
   "source": [
    "from statmorph.utils import image_diagnostics\n",
    "#import make_figure\n",
    "\n",
    "def get_fn(gid_string):\n",
    "    return glob('../../bf_data/Nair_and_Abraham_2010/fits_temp_Feb_3/' + gid_string + '/*-r.fits')[0]\n",
    "\n",
    "def gen_fn_img(morph, img_name):\n",
    "    return out_dir+f'stat_png/tmo_{img_name}_summary.png'"
   ]
  },
  {
   "cell_type": "markdown",
   "metadata": {},
   "source": [
    "def measure_morph(params, good_fns, results):\n",
    "    \"\"\"\n",
    "    tmo_params = {'a':a, 'd':b, 'mid_in':c, 'mid_out':d}\n",
    "    \"\"\"\n",
    "    fields = ['gini', 'm20', 'concentration', 'asymmetry', 'smoothness']\n",
    "    tmo_params = {'a':params[0], 'd':params[1], 'mid_in':params[2], 'mid_out':params[3]}\n",
    "    print(\"TMO params used:\", tmo_params)\n",
    "    for i, fn in enumerate(good_fns):\n",
    "        \n",
    "        img_name = fn.split(\"/\")[-2]\n",
    "        assert results[i]['ID'] == img_name\n",
    "        #print(i, img_name)\n",
    "        hdulist = fits.open(fn)\n",
    "        # Ensure pixel values are positive\n",
    "        img = hdulist[0].data\n",
    "        img -= (img.min() - eps) \n",
    "\n",
    "        # Load auxilary data\n",
    "        # combine mask, img, and weight\n",
    "        mask = pickle.load(open(out_dir+f\"/masks/{img_name}_mask.pickle\", 'rb'))\n",
    "        weight = fits.open(fn.replace(\".fits\", \".weight.fits\"))[0].data\n",
    "\n",
    "        subtracted = img.copy()\n",
    "        subtracted[~mask] = 0\n",
    "        \n",
    "        tonemapped = tonemapping_operator_generic(subtracted, **tmo_params)\n",
    "        morph = statmorph.source_morphology(tonemapped, mask, weightmap=weight, sersic_maxiter=0)[0]\n",
    "        hdulist.close()\n",
    "\n",
    "        for name in fields:\n",
    "            results[i][name] = getattr(morph, name)\n",
    "            \n",
    "        #image_diagnostics.make_figure(morph, nrows=3,\n",
    "        #                              savefig=gen_fn_img(morph, img_name),\n",
    "        #                              img_org=None)\n",
    "        \n",
    "        if i % 500 == 499:\n",
    "            print(i)\n",
    "        #morphs.append(morph)"
   ]
  },
  {
   "cell_type": "code",
   "execution_count": 906,
   "metadata": {},
   "outputs": [],
   "source": [
    "import torch\n",
    "import math\n",
    "\n",
    "# use a GPU if available\n",
    "device = torch.device(\"cuda\" if torch.cuda.is_available() else \"cpu\")\n",
    "dtype = torch.float"
   ]
  },
  {
   "cell_type": "markdown",
   "metadata": {},
   "source": [
    "## BO.1 Construct model"
   ]
  },
  {
   "cell_type": "code",
   "execution_count": 940,
   "metadata": {},
   "outputs": [],
   "source": [
    "from botorch.models import SingleTaskGP\n",
    "from gpytorch.constraints import GreaterThan, LessThan\n",
    "from botorch.fit import fit_gpytorch_model\n",
    "from gpytorch.mlls import ExactMarginalLogLikelihood\n",
    "from botorch.utils.sampling import draw_sobol_samples"
   ]
  },
  {
   "cell_type": "markdown",
   "metadata": {},
   "source": [
    "## Initial points -- How many..?"
   ]
  },
  {
   "cell_type": "code",
   "execution_count": null,
   "metadata": {},
   "outputs": [],
   "source": [
    "# Set up\n",
    "dataset = ['EFIFI','Nair'][1]\n",
    "basedir = ['../../bf_data/EFIGI_catalog/','../../bf_data/Nair_and_Abraham_2010/'][1]\n",
    "fitsdir = basedir + ['fits_temp_Jan_19/','fits_temp_Dec_28/', 'fits_temp_Feb_3/'][2]\n",
    "\n",
    "out_dir = basedir+'out1/'\n",
    "\n",
    "fns_r = glob(fitsdir+\"*/*r.fits\")\n",
    "fns_r.sort()\n",
    "\n",
    "# Good galaxies WIHTOUT TM.\n",
    "good_list = glob(out_dir+\"stat_png/good/*.png\")\n",
    "good_gids=[]\n",
    "for gg in good_list:\n",
    "    good_gids.append(gg.split(\"/\")[-1].split(\"_\")[1])\n",
    "good_gids.sort()\n",
    "\n",
    "good_fns = [glob(fitsdir+gg+'/*r.fits')[0] for gg in good_gids]\n",
    "\n",
    "print('# good galaxies:', len(good_fns))\n",
    "\n",
    "result_arr = pickle.load(open(out_dir+'result_arr.pcikle', 'rb'))\n",
    "\n",
    "fields = ['gini', 'm20', 'concentration', 'asymmetry', 'smoothness']\n",
    "results = np.zeros(len(good_fns), \n",
    "                   dtype=[('ID', '<U24'), ('ttype',np.int8), ('flag', np.int8), \n",
    "                          ('gini', float), ('m20', float), ('asymmetry', float), \n",
    "                          ('concentration', float), ('smoothness', float)])\n",
    "results['ttype'] = result_arr['ttype']\n",
    "results['ID'] = result_arr['id']"
   ]
  },
  {
   "cell_type": "code",
   "execution_count": 950,
   "metadata": {
    "scrolled": true
   },
   "outputs": [],
   "source": [
    "bounds = torch.tensor([[0.0] * 4, [1., 1.5, 2., 2.]], device=device, dtype=dtype) # on-the-fly 확장을 하는 알고리즘도 있음.\n",
    "compact = struct_to_ndarray(select_columns(result_arr, fields)) # initial guess around known set of parameters.\n",
    "\n",
    "\n",
    "def obj(X):\n",
    "    results = measure_morph.iterate_stat_morph(train_X, good_fns, results)\n",
    "\n",
    "    # Binary classification \n",
    "    n_clusters=2\n",
    "    labels = np.zeros(len(result_arr), dtype=np.int8)\n",
    "    ind_positive = np.where((result_arr['ttype'] > 3) * (result_arr['ttype'] < 6))[0]\n",
    "    print(\"positive samples {}/{}\".format(len(ind_positive), len(result_arr)))\n",
    "    labels[ind_positive] = 1 # Zero otherwise\n",
    "\n",
    "    data = compact[:,:4]\n",
    "    kmeans = KMeans(init=\"k-means++\", n_clusters=n_clusters, n_init=4,\n",
    "                    random_state=0)\n",
    "    eval_metrics = bench_clustering(kmeans, \"k-means++\", data, labels) # Last entry == 실루엣    \n",
    "    return eval_metrics \n",
    "\n",
    "def generate_initial_data(n=5):\n",
    "    # Run StatMorph\n",
    "    #tmo_params_init = {'a':0.125, 'd':0.975, 'mid_in':0.25, 'mid_out':0.18}\n",
    "    #tmo_params = tmo_params_inito\n",
    "\n",
    "    \n",
    "    train_X = draw_sobol_samples(bounds=bounds, n=4, q=1, seed=torch.randint(0,10000,(1,)).item()).squeeze(1)\n",
    "    # Update tmo param\n",
    "    train_Y = []\n",
    "    \n",
    "    for tx in train_X:\n",
    "        train_Y.append(obj(tx))\n",
    "        \n",
    "        \n",
    "def initialize_model()"
   ]
  },
  {
   "cell_type": "code",
   "execution_count": null,
   "metadata": {},
   "outputs": [],
   "source": []
  },
  {
   "cell_type": "code",
   "execution_count": null,
   "metadata": {},
   "outputs": [],
   "source": []
  },
  {
   "cell_type": "code",
   "execution_count": null,
   "metadata": {},
   "outputs": [],
   "source": []
  },
  {
   "cell_type": "code",
   "execution_count": null,
   "metadata": {},
   "outputs": [],
   "source": []
  },
  {
   "cell_type": "markdown",
   "metadata": {},
   "source": [
    "# Or custom model??"
   ]
  },
  {
   "cell_type": "code",
   "execution_count": 923,
   "metadata": {},
   "outputs": [],
   "source": [
    "from botorch.models.gpytorch import GPyTorchModel\n",
    "from gpytorch.distributions import MultivariateNormal\n",
    "from gpytorch.means import ConstantMean\n",
    "from gpytorch.models import ExactGP\n",
    "from gpytorch.kernels import RBFKernel, ScaleKernel\n",
    "from gpytorch.likelihoods import GaussianLikelihood\n",
    "from botorch.utils.sampling import draw_sobol_samples\n",
    "\n",
    "\n",
    "class MyModel(ExactGP, GPyTorchModel):\n",
    "    \n",
    "    _num_outputs = 1\n",
    "    def __init__(self, train_X, train_Y):\n",
    "        # squeeze output dim before passing train_Y to ExactGP\n",
    "        super().__init__(train_X, train_Y.squeeze(-1), GaussianLikelihood())\n",
    "        self.mean_module = ConstantMean()\n",
    "        self.covar_module = ScaleKernel(\n",
    "            base_kernel=RBFKernel(ard_num_dims=train_X.shape[-1]),\n",
    "        )\n",
    "        self.to(train_X)  # make sure we're on the right device/dtype\n",
    "        \n",
    "    def forward(self, ):\n",
    "        \n",
    "        return self.posterior()\n",
    "    \n",
    "    \n",
    "    def posterior(self, text_X):\n",
    "        \"\"\"\n",
    "        test_X = tmo_params        \n",
    "        \"\"\"\n",
    "    \n",
    "        measure_morph(test_X, good_fns, results)\n",
    "        \n",
    "        # Binary classification \n",
    "        n_clusters=2\n",
    "        labels = np.zeros(len(result_arr), dtype=np.int8)\n",
    "        ind_positive = np.where((result_arr['ttype'] > 3) * (result_arr['ttype'] < 6))[0]\n",
    "        #print(\"positive samples {}/{}\".format(len(ind_positive), len(result_arr)))\n",
    "        labels[ind_positive] = 1 # Zero otherwise\n",
    "\n",
    "        fields = ['gini', 'm20', 'concentration', 'asymmetry', 'smoothness']\n",
    "        compact = struct_to_ndarray(select_columns(result_arr, fields))\n",
    "        data = compact[:,:4]\n",
    "        kmeans = KMeans(init=\"k-means++\", n_clusters=n_clusters, n_init=4,\n",
    "                        random_state=0)\n",
    "        eval_metrics = bench_clustering(kmeans, \"k-means++\", data, labels) \n",
    "        return eval_metrics[-1] # Last entry = 실루엣"
   ]
  },
  {
   "cell_type": "code",
   "execution_count": 929,
   "metadata": {},
   "outputs": [],
   "source": [
    "mm = MyModel(train_X, torch.tensor(Y0))"
   ]
  },
  {
   "cell_type": "code",
   "execution_count": null,
   "metadata": {},
   "outputs": [],
   "source": []
  },
  {
   "cell_type": "code",
   "execution_count": null,
   "metadata": {},
   "outputs": [],
   "source": []
  },
  {
   "cell_type": "code",
   "execution_count": null,
   "metadata": {},
   "outputs": [],
   "source": [
    "import warnings\n",
    "warnings.filterwarnings('ignore', category=BadInitialCandidatesWarning)\n",
    "warnings.filterwarnings('ignore', category=RuntimeWarning)\n",
    "\n",
    "\n",
    "\n",
    "N_TRIALS=3\n",
    "N_BATCH=2\n",
    "MC_SAMPLES=16\n",
    "\n",
    "for trial in range(1, N_TRIALS + 1):\n",
    "    print(f\"\\nTrial {trial:>2} of {N_TRIALS} \", end=\"\")\n",
    "    best_observed_ei, best_random = [], []\n",
    "    \n",
    "    \n",
    "    best_observed_ei.append(best_observed_value_ei)\n",
    "    best_random.append(best_observed_value_ei)\n",
    "\n",
    "    \n",
    "    # run N_BATCH rounds of BayesOpt after the initial random batch\n",
    "    for iteration in range(1, N_BATCH + 1):    \n",
    "        \n",
    "        t0 = time.time()\n",
    "        \n",
    "        # fit the models\n",
    "        fit_gpytorch_model(mll_ei)\n",
    "        fit_gpytorch_model(mll_nei)\n",
    "        \n",
    "        # define the qEI and qNEI acquisition modules using a QMC sampler\n",
    "        qmc_sampler = SobolQMCNormalSampler(num_samples=MC_SAMPLES)\n",
    "        \n",
    "        # for best_f, we use the best observed noisy values as an approximation\n",
    "        qEI = qExpectedImprovement(\n",
    "            model=model_ei, \n",
    "            best_f=(train_obj_ei * (train_con_ei <= 0).to(train_obj_ei)).max(),\n",
    "            sampler=qmc_sampler, \n",
    "            objective=constrained_obj,\n",
    "        )\n",
    "        \n",
    "\n",
    "        # optimize and get new observation\n",
    "        new_x_ei, new_obj_ei, new_con_ei = optimize_acqf_and_get_observation(qEI)\n",
    "                \n",
    "        # update training points\n",
    "        train_x_ei = torch.cat([train_x_ei, new_x_ei])\n",
    "        train_obj_ei = torch.cat([train_obj_ei, new_obj_ei])\n",
    "        train_con_ei = torch.cat([train_con_ei, new_con_ei])\n",
    "\n",
    "        # update progress\n",
    "        best_random = update_random_observations(best_random)\n",
    "        best_value_ei = weighted_obj(train_x_ei).max().item()\n",
    "        best_observed_ei.append(best_value_ei)\n",
    "\n",
    "        # reinitialize the models so they are ready for fitting on next iteration\n",
    "        # use the current state dict to speed up fitting\n",
    "        mll_ei, model_ei = initialize_model(\n",
    "            train_x_ei, \n",
    "            train_obj_ei, \n",
    "            train_con_ei, \n",
    "            model_ei.state_dict(),\n",
    "        )\n",
    "        \n",
    "        t1 = time.time()\n",
    "        \n",
    "        if verbose:\n",
    "            print(\n",
    "                f\"\\nBatch {iteration:>2}: best_value (random, qEI) = \"\n",
    "                f\"({max(best_random):>4.2f}, {best_value_ei:>4.2f}, \"\n",
    "                f\"time = {t1-t0:>4.2f}.\", end=\"\"\n",
    "            )\n",
    "        else:\n",
    "            print(\".\", end=\"\")"
   ]
  },
  {
   "cell_type": "code",
   "execution_count": null,
   "metadata": {},
   "outputs": [],
   "source": [
    "torch.as_dd"
   ]
  },
  {
   "cell_type": "code",
   "execution_count": null,
   "metadata": {},
   "outputs": [],
   "source": []
  },
  {
   "cell_type": "code",
   "execution_count": null,
   "metadata": {},
   "outputs": [],
   "source": [
    "model = SingleTaskGP(train_X=train_X, train_Y=train_Y)\n",
    "model.likelihood.noise_covar.register_constraint(\"raw_noise\", GreaterThan(1e-5))"
   ]
  },
  {
   "cell_type": "markdown",
   "metadata": {},
   "source": [
    "## BO.2 Acqusition function"
   ]
  },
  {
   "cell_type": "code",
   "execution_count": null,
   "metadata": {},
   "outputs": [],
   "source": [
    "from botorch.acquisition import UpperConfidenceBound\n",
    "\n",
    "UCB = UpperConfidenceBound(gp, beta=0.1)"
   ]
  },
  {
   "cell_type": "code",
   "execution_count": null,
   "metadata": {},
   "outputs": [],
   "source": []
  },
  {
   "cell_type": "markdown",
   "metadata": {},
   "source": [
    "## BO.3 Optimize"
   ]
  },
  {
   "cell_type": "code",
   "execution_count": null,
   "metadata": {},
   "outputs": [],
   "source": []
  },
  {
   "cell_type": "code",
   "execution_count": null,
   "metadata": {},
   "outputs": [],
   "source": []
  }
 ],
 "metadata": {
  "kernelspec": {
   "display_name": "Python 3",
   "language": "python",
   "name": "python3"
  },
  "language_info": {
   "codemirror_mode": {
    "name": "ipython",
    "version": 3
   },
   "file_extension": ".py",
   "mimetype": "text/x-python",
   "name": "python",
   "nbconvert_exporter": "python",
   "pygments_lexer": "ipython3",
   "version": "3.8.5"
  }
 },
 "nbformat": 4,
 "nbformat_minor": 4
}
