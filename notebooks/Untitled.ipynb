{
 "cells": [
  {
   "cell_type": "code",
   "execution_count": 1,
   "metadata": {},
   "outputs": [
    {
     "name": "stderr",
     "output_type": "stream",
     "text": [
      "/home/hoseung/anaconda3/envs/torch/lib/python3.8/site-packages/colour/utilities/verbose.py:237: ColourWarning: \"Adobe DNG Converter\" is not available on your platform!\n",
      "  warn(*args, **kwargs)\n"
     ]
    },
    {
     "name": "stdout",
     "output_type": "stream",
     "text": [
      "===============================================================================\n",
      "*                                                                             *\n",
      "*   Interpreter :                                                             *\n",
      "*       python : 3.8.5 (default, Sep  4 2020, 07:30:14)                       *\n",
      "*                [GCC 7.3.0]                                                  *\n",
      "*                                                                             *\n",
      "*   colour-science.org :                                                      *\n",
      "*       colour : 0.3.16                                                       *\n",
      "*       colour-hdri : 0.1.8                                                   *\n",
      "*                                                                             *\n",
      "*   Runtime :                                                                 *\n",
      "*       imageio : 2.9.0                                                       *\n",
      "*       matplotlib : 3.3.2                                                    *\n",
      "*       networkx : 2.5                                                        *\n",
      "*       numpy : 1.19.2                                                        *\n",
      "*       scipy : 1.5.2                                                         *\n",
      "*       six : 1.15.0                                                          *\n",
      "*       recordclass : 0.14.3                                                  *\n",
      "*                                                                             *\n",
      "===============================================================================\n"
     ]
    }
   ],
   "source": [
    "import torch\n",
    "\n",
    "import matplotlib.pyplot as plt \n",
    "\n",
    "import ipywidgets as widgets\n",
    "import numpy as np\n",
    "import os\n",
    "\n",
    "import colour\n",
    "from colour_hdri.plotting import plot_tonemapping_operator_image\n",
    "colour.plotting.colour_style()\n",
    "colour.utilities.describe_environment();\n",
    "\n",
    "import sys, math\n",
    "from glob import glob\n",
    "\n",
    "#import cv2 as cv\n",
    "import skimage\n",
    "import imageio\n",
    "\n",
    "from astropy.io import fits\n",
    "from colour.models import RGB_COLOURSPACES, RGB_luminance\n",
    "from astrobf.utils.gmm import *\n",
    "\n",
    "colorspace = RGB_COLOURSPACES['sRGB']\n",
    "\n",
    "import astrobf\n",
    "from astrobf.utils.gmm import gmm_mask"
   ]
  },
  {
   "cell_type": "code",
   "execution_count": 2,
   "metadata": {},
   "outputs": [],
   "source": [
    "wdir = '../../bf_data/EFIGI_catalog/fits_temp_Dec_28/'\n",
    "\n",
    "#wdir = '../../OBSdata/efigi-1.6/ima_r/'\n",
    "fns_g = glob(wdir+\"*/*g.fits\")\n",
    "fns_r = glob(wdir+\"*/*r.fits\")\n",
    "fns_i = glob(wdir+\"*/*i.fits\")\n",
    "\n",
    "fns_g.sort()\n",
    "fns_r.sort()\n",
    "fns_i.sort()"
   ]
  },
  {
   "cell_type": "code",
   "execution_count": 3,
   "metadata": {},
   "outputs": [],
   "source": [
    "eps = 1e-10\n",
    "fn = fns_r[100]\n",
    "img_name = fn.split(\"/\")[-2]\n",
    "hdulist = fits.open(fn)\n",
    "\n",
    "# Ensure pixel values are positive\n",
    "hdulist[0].data -= (hdulist[0].data.min() - eps)"
   ]
  },
  {
   "cell_type": "code",
   "execution_count": 4,
   "metadata": {},
   "outputs": [],
   "source": [
    "img = hdulist[0].data"
   ]
  },
  {
   "cell_type": "code",
   "execution_count": 6,
   "metadata": {},
   "outputs": [
    {
     "data": {
      "text/plain": [
       "0.0"
      ]
     },
     "execution_count": 6,
     "metadata": {},
     "output_type": "execute_result"
    }
   ],
   "source": []
  },
  {
   "cell_type": "code",
   "execution_count": null,
   "metadata": {},
   "outputs": [],
   "source": []
  }
 ],
 "metadata": {
  "kernelspec": {
   "display_name": "Python 3",
   "language": "python",
   "name": "python3"
  },
  "language_info": {
   "codemirror_mode": {
    "name": "ipython",
    "version": 3
   },
   "file_extension": ".py",
   "mimetype": "text/x-python",
   "name": "python",
   "nbconvert_exporter": "python",
   "pygments_lexer": "ipython3",
   "version": "3.8.5"
  }
 },
 "nbformat": 4,
 "nbformat_minor": 2
}
