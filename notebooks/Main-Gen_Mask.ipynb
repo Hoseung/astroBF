{
 "cells": [
  {
   "cell_type": "code",
   "execution_count": 1,
   "metadata": {
    "scrolled": true
   },
   "outputs": [
    {
     "name": "stderr",
     "output_type": "stream",
     "text": [
      "/home/hoseung/.local/lib/python3.8/site-packages/colour/utilities/verbose.py:237: ColourWarning: \"Adobe DNG Converter\" is not available on your platform!\n",
      "  warn(*args, **kwargs)\n"
     ]
    },
    {
     "name": "stdout",
     "output_type": "stream",
     "text": [
      "===============================================================================\n",
      "*                                                                             *\n",
      "*   Interpreter :                                                             *\n",
      "*       python : 3.8.5 (default, Sep  4 2020, 07:30:14)                       *\n",
      "*                [GCC 7.3.0]                                                  *\n",
      "*                                                                             *\n",
      "*   colour-science.org :                                                      *\n",
      "*       colour : 0.3.16                                                       *\n",
      "*       colour-hdri : 0.1.8                                                   *\n",
      "*                                                                             *\n",
      "*   Runtime :                                                                 *\n",
      "*       imageio : 2.9.0                                                       *\n",
      "*       matplotlib : 3.3.2                                                    *\n",
      "*       networkx : 2.5                                                        *\n",
      "*       numpy : 1.19.2                                                        *\n",
      "*       pandas : 1.2.0                                                        *\n",
      "*       scipy : 1.5.2                                                         *\n",
      "*       six : 1.15.0                                                          *\n",
      "*       recordclass : 0.14.3                                                  *\n",
      "*                                                                             *\n",
      "===============================================================================\n"
     ]
    }
   ],
   "source": [
    "%matplotlib widget\n",
    "import matplotlib.pyplot as plt \n",
    "\n",
    "import ipywidgets as widgets\n",
    "import numpy as np\n",
    "import os\n",
    "import pickle\n",
    "import sys, math\n",
    "from glob import glob\n",
    "\n",
    "import colour\n",
    "from colour_hdri.plotting import plot_tonemapping_operator_image\n",
    "colour.plotting.colour_style()\n",
    "colour.utilities.describe_environment();\n",
    "\n",
    "#import cv2 as cv\n",
    "import skimage\n",
    "import imageio\n",
    "\n",
    "from astropy.io import fits\n",
    "from colour.models import RGB_COLOURSPACES, RGB_luminance\n",
    "\n",
    "colorspace = RGB_COLOURSPACES['sRGB']\n",
    "\n",
    "import astrobf\n",
    "from astrobf.utils import mask_utils\n",
    "from astrobf.utils.mask_utils import *\n",
    "\n",
    "import re"
   ]
  },
  {
   "cell_type": "code",
   "execution_count": 2,
   "metadata": {},
   "outputs": [],
   "source": [
    "seterr_default = np.seterr()"
   ]
  },
  {
   "cell_type": "code",
   "execution_count": 3,
   "metadata": {
    "scrolled": true
   },
   "outputs": [
    {
     "name": "stdout",
     "output_type": "stream",
     "text": [
      "WND-CHARM Python API Diagnostics\n",
      "================================\n",
      "Executable:\n",
      "\t/home/hoseung/anaconda3/envs/tm38/bin/python\n",
      "PYTHONPATH environment variable:\n",
      "\t<unset>\n",
      "WND-CHARM library path:\n",
      "\t/home/hoseung/Work/wnd-charm/build/lib.linux-x86_64-3.8/wcharm/wndcharm.py\n",
      "WND-CHARM features major version: 4\n",
      "\tshort: 4.1 (N = 1059)\n",
      "\tlong: 4.2 (N = 2919)\n",
      "\tshort_color: 4.3 (N = 2199)\n",
      "\tlong_color: 4.4 (N = 4059)\n",
      "Package versions:\n",
      "\tpython    \t3.8.0 (default, Nov  6 2019, 21:49:08)  [GCC 7.3.0]\n",
      "\twndcharm  \tNone\n",
      "\tnumpy     \t1.19.2\n",
      "\tscipy     \t1.5.2\n",
      "\tmatplotlib\t3.3.2\n",
      "\tsklearn   \t0.23.2\n",
      "\tskimage   \t0.17.2\n",
      "\tIPython   \t7.19.0\n",
      "\ttifffile  \t2020.12.8\n",
      "\tPIL       \t8.1.0\n",
      "\tpandas    \t1.1.4\n",
      "\n"
     ]
    },
    {
     "data": {
      "text/plain": [
       "{'divide': 'raise', 'over': 'raise', 'under': 'raise', 'invalid': 'raise'}"
      ]
     },
     "execution_count": 3,
     "metadata": {},
     "output_type": "execute_result"
    }
   ],
   "source": [
    "# WND-CAHRM\n",
    "import wcharm\n",
    "from wcharm import diagnostics\n",
    "\n",
    "#from skimage.io import imshow, imsave\n",
    "#from skimage.color import rgb2gray\n",
    "\n",
    "from wcharm.PyImageMatrix import PyImageMatrix\n",
    "from wcharm.FeatureVector import FeatureVector\n",
    "\n",
    "print(diagnostics)\n",
    "\n",
    "# Restore default error handling -- But, is it safe to do this?\n",
    "np.seterr(**seterr_default)"
   ]
  },
  {
   "cell_type": "markdown",
   "metadata": {},
   "source": [
    "# 1. Start here, Load data"
   ]
  },
  {
   "cell_type": "code",
   "execution_count": 2,
   "metadata": {},
   "outputs": [],
   "source": [
    "dataset = ['EFIFI','Nair'][0]\n",
    "basedir = ['../../bf_data/EFIGI_catalog/','../../bf_data/Nair_and_Abraham_2010/'][0]\n",
    "fitsdir = basedir + ['fits_temp_Jan_19/','fits_temp_Dec_28/'][0]\n",
    "\n",
    "out_dir = basedir+'out1/'\n",
    "\n",
    "#wdir = '../../OBSdata/efigi-1.6/ima_r/'\n",
    "fns_g = glob(fitsdir+\"*/*g.fits\")\n",
    "fns_r = glob(fitsdir+\"*/*r.fits\")\n",
    "fns_i = glob(fitsdir+\"*/*i.fits\")\n",
    "\n",
    "fns_g.sort()\n",
    "fns_r.sort()\n",
    "fns_i.sort()\n",
    "\n",
    "eps = 1e-6"
   ]
  },
  {
   "cell_type": "code",
   "execution_count": 3,
   "metadata": {},
   "outputs": [],
   "source": [
    "def extract_gid(g_path):\n",
    "    return int(re.split('(\\d+)',g_path.split('/')[-2])[1])\n",
    "\n",
    "gids = [extract_gid(fn) for fn in fns_r]"
   ]
  },
  {
   "cell_type": "markdown",
   "metadata": {},
   "source": [
    "# 2. Build a mask (GMM)"
   ]
  },
  {
   "cell_type": "code",
   "execution_count": 4,
   "metadata": {},
   "outputs": [],
   "source": [
    "def chunks(lst, n):\n",
    "    for i in range(0, len(lst), n):\n",
    "        yield lst[i:i + n]"
   ]
  },
  {
   "cell_type": "markdown",
   "metadata": {},
   "source": [
    "## Can image sizes vary? probably not. \n",
    "-> I don't thnk all of thousands of features are invariant to the image size, even though only empty pixels are cut."
   ]
  },
  {
   "cell_type": "code",
   "execution_count": 5,
   "metadata": {},
   "outputs": [],
   "source": [
    "sub_rows = 3\n",
    "eps = 1e-5"
   ]
  },
  {
   "cell_type": "code",
   "execution_count": 18,
   "metadata": {
    "scrolled": true
   },
   "outputs": [
    {
     "name": "stderr",
     "output_type": "stream",
     "text": [
      "<ipython-input-18-6b92902a070b>:40: RuntimeWarning: divide by zero encountered in log10\n",
      "  ax.imshow(np.log10(img))\n"
     ]
    },
    {
     "name": "stdout",
     "output_type": "stream",
     "text": [
      "0-th chunk done\n"
     ]
    }
   ],
   "source": [
    "# WNDCHARM Features\n",
    "do_charm=False\n",
    "FeatureVectors=[]\n",
    "\n",
    "plt.ioff()\n",
    "do_plot=True\n",
    "for ichunk, sub in enumerate(chunks(fns_r[2587:2588], sub_rows**2)):\n",
    "    #if ichunk <= 376:\n",
    "    #    continue        \n",
    "    if do_plot:\n",
    "        fig, axs = plt.subplots(sub_rows, sub_rows)\n",
    "        fig.set_size_inches(12,12)\n",
    "        try:\n",
    "            axs = axs.ravel()\n",
    "        except:\n",
    "            axs = [axs]\n",
    "    for ax, fn in zip(axs, sub):\n",
    "        #try:\n",
    "        if True:\n",
    "            img_name = fn.split(\"/\")[-2]\n",
    "            int_name = int(re.split('(\\d+)',img_name)[1])\n",
    "            #if int_name < 51236:\n",
    "            #    continue\n",
    "            if dataset==\"Nair\": img_name = img_name.split('.')[0]\n",
    "            hdulist = fits.open(fn)\n",
    "            # Ensure pixel values are positive\n",
    "            hdulist[0].data -= (hdulist[0].data.min() - eps) \n",
    "            #hdulist[0].data[hdulist[0].data < 10*eps] = eps\n",
    "            #mask = pickle.load(open(out_dir+f\"{img_name}_mask.pickle\", 'rb'))\n",
    "            mask, img, mask_new = mask_utils.gmm_mask(hdulist,\n",
    "                                           max_n_comp=20, \n",
    "                                           sig_factor=2.0, \n",
    "                                           verbose=False, \n",
    "                                           do_plot=False,\n",
    "                                           npix_min=50)\n",
    "            \n",
    "            pickle.dump(mask_new, open(out_dir+f\"{img_name}_mask.pickle\", \"wb\"))\n",
    "            \n",
    "            # Feature Vectors\n",
    "            img[~mask] = 0\n",
    "            ax.imshow(np.log10(img))\n",
    "            #ax.imshow(mask, alpha=0.5)\n",
    "            #mask_new = mask_hull(mask, ax)\n",
    "            ax.text(0.05,0.05, img_name, transform=ax.transAxes)\n",
    "            \n",
    "            if do_charm:\n",
    "                # Each 'matrix' is distinct instance?? \n",
    "                # And numpy_matrix is pointing to matrix..? \n",
    "                matrix = PyImageMatrix()\n",
    "                matrix.allocate(img.shape[1], img.shape[0])\n",
    "                numpy_matrix = matrix.as_ndarray()\n",
    "                numpy_matrix[:] = (img-img.min())/img.ptp()*255\n",
    "                # Need to scale to ...?\n",
    "                fv = FeatureVector(name='FromNumpyMatrix', long=True, original_px_plane=matrix )# Why not numpy_matrix??\n",
    "                # fv == None for now.\n",
    "                fv.GenerateFeatures(quiet=False, write_to_disk=True)\n",
    "                FeatureVectors.append({img_name:fv.values})\n",
    "                \n",
    "                stamp = gen_stamp(img, pad=10, aspect_ratio=\"no\", eps=eps)\n",
    "                stamp -= (stamp.min() - eps)\n",
    "            \n",
    "        else:\n",
    "            stamp = gen_stamp(img, pad=10, aspect_ratio=\"no\", eps=eps)\n",
    "            stamp -= (stamp.min() - eps)\n",
    "            \n",
    "        #except:\n",
    "            print(\"ERROR\")\n",
    "            continue\n",
    "    if do_plot:\n",
    "        plt.tight_layout()\n",
    "        plt.savefig(out_dir+f\"{ichunk}.png\", dpi=144)\n",
    "        plt.close()\n",
    "        print(f'{ichunk}-th chunk done')"
   ]
  }
 ],
 "metadata": {
  "kernelspec": {
   "display_name": "Python 3",
   "language": "python",
   "name": "python3"
  },
  "language_info": {
   "codemirror_mode": {
    "name": "ipython",
    "version": 3
   },
   "file_extension": ".py",
   "mimetype": "text/x-python",
   "name": "python",
   "nbconvert_exporter": "python",
   "pygments_lexer": "ipython3",
   "version": "3.8.5"
  }
 },
 "nbformat": 4,
 "nbformat_minor": 4
}
