{
 "cells": [
  {
   "cell_type": "code",
   "execution_count": 1,
   "metadata": {},
   "outputs": [],
   "source": [
    "import numpy as np\n",
    "from glob import glob\n",
    "import matplotlib.pyplot as plt \n",
    "\n",
    "\n",
    "dataset = ['EFIFI','Nair'][1]\n",
    "basedir = ['../../bf_data/EFIGI_catalog/','../../bf_data/Nair_and_Abraham_2010/'][1]\n",
    "fitsdir = basedir + ['fits_temp_Jan_19/','fits_temp_Dec_28/', 'fits_temp_Feb_3/', 'final/'][3]\n",
    "\n",
    "out_dir = basedir+'out_final/'\n",
    "fns_r = glob(fitsdir+\"*/*r.fits\")\n",
    "fns_r.sort()"
   ]
  },
  {
   "cell_type": "markdown",
   "metadata": {},
   "source": [
    "# Generate mask + Initial StatMorph"
   ]
  },
  {
   "cell_type": "code",
   "execution_count": 2,
   "metadata": {},
   "outputs": [],
   "source": [
    "from astrobf.utils import gen_mask\n",
    "from astrobf import measure_morph"
   ]
  },
  {
   "cell_type": "code",
   "execution_count": null,
   "metadata": {
    "scrolled": true
   },
   "outputs": [
    {
     "name": "stderr",
     "output_type": "stream",
     "text": [
      "/home/hoseung/Work/tonemap/astroBF/astrobf/utils/gen_mask.py:92: RuntimeWarning: divide by zero encountered in log10\n",
      "  ax.imshow(np.log10(img))\n",
      "/home/hoseung/Work/tonemap/astroBF/astrobf/utils/gen_mask.py:92: RuntimeWarning: divide by zero encountered in log10\n",
      "  ax.imshow(np.log10(img))\n",
      "/home/hoseung/Work/tonemap/astroBF/astrobf/utils/gen_mask.py:92: RuntimeWarning: divide by zero encountered in log10\n",
      "  ax.imshow(np.log10(img))\n",
      "/home/hoseung/Work/tonemap/astroBF/astrobf/utils/gen_mask.py:92: RuntimeWarning: divide by zero encountered in log10\n",
      "  ax.imshow(np.log10(img))\n",
      "/home/hoseung/Work/tonemap/astroBF/astrobf/utils/gen_mask.py:92: RuntimeWarning: divide by zero encountered in log10\n",
      "  ax.imshow(np.log10(img))\n",
      "/home/hoseung/Work/tonemap/astroBF/astrobf/utils/gen_mask.py:92: RuntimeWarning: divide by zero encountered in log10\n",
      "  ax.imshow(np.log10(img))\n",
      "/home/hoseung/Work/tonemap/astroBF/astrobf/utils/gen_mask.py:92: RuntimeWarning: divide by zero encountered in log10\n",
      "  ax.imshow(np.log10(img))\n",
      "/home/hoseung/Work/tonemap/astroBF/astrobf/utils/gen_mask.py:92: RuntimeWarning: divide by zero encountered in log10\n",
      "  ax.imshow(np.log10(img))\n",
      "/home/hoseung/Work/tonemap/astroBF/astrobf/utils/gen_mask.py:92: RuntimeWarning: divide by zero encountered in log10\n",
      "  ax.imshow(np.log10(img))\n"
     ]
    },
    {
     "name": "stdout",
     "output_type": "stream",
     "text": [
      "0-th chunk done\n"
     ]
    },
    {
     "name": "stderr",
     "output_type": "stream",
     "text": [
      "/home/hoseung/Work/tonemap/astroBF/astrobf/utils/gen_mask.py:92: RuntimeWarning: divide by zero encountered in log10\n",
      "  ax.imshow(np.log10(img))\n",
      "/home/hoseung/Work/tonemap/astroBF/astrobf/utils/gen_mask.py:92: RuntimeWarning: divide by zero encountered in log10\n",
      "  ax.imshow(np.log10(img))\n",
      "/home/hoseung/Work/tonemap/astroBF/astrobf/utils/gen_mask.py:92: RuntimeWarning: divide by zero encountered in log10\n",
      "  ax.imshow(np.log10(img))\n",
      "/home/hoseung/Work/tonemap/astroBF/astrobf/utils/gen_mask.py:92: RuntimeWarning: divide by zero encountered in log10\n",
      "  ax.imshow(np.log10(img))\n",
      "/home/hoseung/Work/tonemap/astroBF/astrobf/utils/gen_mask.py:92: RuntimeWarning: divide by zero encountered in log10\n",
      "  ax.imshow(np.log10(img))\n",
      "/home/hoseung/Work/tonemap/astroBF/astrobf/utils/gen_mask.py:92: RuntimeWarning: divide by zero encountered in log10\n",
      "  ax.imshow(np.log10(img))\n",
      "/home/hoseung/Work/tonemap/astroBF/astrobf/utils/gen_mask.py:92: RuntimeWarning: divide by zero encountered in log10\n",
      "  ax.imshow(np.log10(img))\n",
      "/home/hoseung/Work/tonemap/astroBF/astrobf/utils/gen_mask.py:92: RuntimeWarning: divide by zero encountered in log10\n",
      "  ax.imshow(np.log10(img))\n",
      "/home/hoseung/Work/tonemap/astroBF/astrobf/utils/gen_mask.py:92: RuntimeWarning: divide by zero encountered in log10\n",
      "  ax.imshow(np.log10(img))\n"
     ]
    },
    {
     "name": "stdout",
     "output_type": "stream",
     "text": [
      "1-th chunk done\n"
     ]
    },
    {
     "name": "stderr",
     "output_type": "stream",
     "text": [
      "/home/hoseung/Work/tonemap/astroBF/astrobf/utils/gen_mask.py:92: RuntimeWarning: divide by zero encountered in log10\n",
      "  ax.imshow(np.log10(img))\n",
      "/home/hoseung/Work/tonemap/astroBF/astrobf/utils/gen_mask.py:92: RuntimeWarning: divide by zero encountered in log10\n",
      "  ax.imshow(np.log10(img))\n",
      "/home/hoseung/Work/tonemap/astroBF/astrobf/utils/gen_mask.py:92: RuntimeWarning: divide by zero encountered in log10\n",
      "  ax.imshow(np.log10(img))\n",
      "/home/hoseung/Work/tonemap/astroBF/astrobf/utils/gen_mask.py:92: RuntimeWarning: divide by zero encountered in log10\n",
      "  ax.imshow(np.log10(img))\n",
      "/home/hoseung/Work/tonemap/astroBF/astrobf/utils/gen_mask.py:92: RuntimeWarning: divide by zero encountered in log10\n",
      "  ax.imshow(np.log10(img))\n",
      "/home/hoseung/Work/tonemap/astroBF/astrobf/utils/gen_mask.py:92: RuntimeWarning: divide by zero encountered in log10\n",
      "  ax.imshow(np.log10(img))\n"
     ]
    }
   ],
   "source": [
    "gen_mask.run_mask(fns_r, out_dir, npix_min=40)"
   ]
  },
  {
   "cell_type": "markdown",
   "metadata": {},
   "source": [
    "So far, So good."
   ]
  },
  {
   "cell_type": "code",
   "execution_count": null,
   "metadata": {},
   "outputs": [],
   "source": [
    "# Run StatMorph for the first time\n",
    "# Just in case, only for this first run, I pickle all 'morph' instances. a few 10s of GB in total.\n",
    "measure_morph.run_stat_morph_init(fns[:10], out_dir, eps=1e-6)"
   ]
  },
  {
   "cell_type": "markdown",
   "metadata": {},
   "source": [
    "# Visual inspection - Filter out bad samples\n",
    "Keep good samples.\n",
    "Leave good galaxies (under `.../stat_png/good/*.png`) or list bad galaxies (in trash bin)."
   ]
  },
  {
   "cell_type": "code",
   "execution_count": 7,
   "metadata": {},
   "outputs": [],
   "source": [
    "partially_filtered = \"../../bf_data/Nair_and_Abraham_2010/Intermediate_files/final_150000_done.txt\"\n",
    "partial_bad = \"../../bf_data/Nair_and_Abraham_2010/Intermediate_files/final_bad_gal_list.txt\""
   ]
  },
  {
   "cell_type": "code",
   "execution_count": 35,
   "metadata": {},
   "outputs": [],
   "source": [
    "def gids_from_pnglist(plist):\n",
    "    \"\"\"\n",
    "    Parameters\n",
    "    ----------\n",
    "        plist : list of png file names\n",
    "    \"\"\"\n",
    "    gids=[]\n",
    "    for ll in plist:\n",
    "        gids.append(ll.split('_')[1])\n",
    "        \n",
    "    return gids"
   ]
  },
  {
   "cell_type": "code",
   "execution_count": 42,
   "metadata": {},
   "outputs": [],
   "source": [
    "with open(partial_bad, 'r') as fbad:\n",
    "    bad = gids_from_pnglist(fbad.readlines())\n",
    "    \n",
    "with open(partially_filtered, 'r') as ff:\n",
    "    temp = gids_from_pnglist(ff.readlines())\n",
    "\n",
    "good = []\n",
    "\n",
    "good_gids=[]\n",
    "for gg in temp:\n",
    "    if gg not in bad:\n",
    "        good.append(gg)"
   ]
  },
  {
   "cell_type": "code",
   "execution_count": 41,
   "metadata": {},
   "outputs": [
    {
     "data": {
      "text/plain": [
       "9537"
      ]
     },
     "execution_count": 41,
     "metadata": {},
     "output_type": "execute_result"
    }
   ],
   "source": [
    "len(good)"
   ]
  },
  {
   "cell_type": "markdown",
   "metadata": {},
   "source": [
    "# Merge files to minimize I/O"
   ]
  },
  {
   "cell_type": "code",
   "execution_count": 50,
   "metadata": {},
   "outputs": [],
   "source": [
    "from glob import glob\n",
    "data_dir = '../../bf_data/Nair_and_Abraham_2010/'\n",
    "\n",
    "fits_fns = glob(data_dir+'fits_final/*/*-r.fits')\n",
    "weights_fns = glob(data_dir+'fits_final/*/*-r.weight.fits')\n",
    "mask_fns = glob(data_dir+'final_all_masks/*_mask.pickle')\n",
    "\n",
    "assert len(mask_fns) == len(fits_fns) == len(weights_fns)"
   ]
  },
  {
   "cell_type": "code",
   "execution_count": 65,
   "metadata": {},
   "outputs": [],
   "source": [
    "# Make sure three data sets are in the same order\n",
    "mask_fns.sort()\n",
    "fits_fns.sort()\n",
    "weights_fns.sort()\n",
    "\n",
    "for fn_fits, fn_weight, fn_mask in zip(fits_fns, weights_fns, mask_fns):\n",
    "    img_name1 = fn_fits.split(\"/J\")[-2] \n",
    "    img_name2 = fn_weight.split(\"/J\")[-2] \n",
    "    img_name3 = fn_mask.split(\"/J\")[-1].split('_')[0] # mask names are slightly different\n",
    "    assert img_name1 == img_name2 == img_name3\n"
   ]
  },
  {
   "cell_type": "code",
   "execution_count": 85,
   "metadata": {},
   "outputs": [],
   "source": [
    "# merge three dataset into one. \n",
    "# make cutout to save storage space\n",
    "from astropy.io import fits\n",
    "import pickle\n",
    "from astrobf.utils import mask_utils\n",
    "\n",
    "all_good=[]\n",
    "for fn_fits, fn_weight, fn_mask in zip(fits_fns, weigths_fns, mask_fns):\n",
    "    img_name = \"J\"+fn_fits.split(\"/J\")[-2] \n",
    "    if img_name in good:\n",
    "        img = fits.open(fn_fits)[0].data\n",
    "        weight = fits.open(fn_weight)[0].data\n",
    "        mask = pickle.load(open(fn_mask, 'rb'))\n",
    "        slices = mask_utils._get_stamp_range(mask)\n",
    "        data = np.stack((img[slices], mask[slices], weight[slices]))\n",
    "        all_good.append({'data':data, 'img_name':img_name, 'slices':slices})\n",
    "\n",
    "pickle.dump(all_good, open(\"all_gals.pickle\", \"wb\"))"
   ]
  },
  {
   "cell_type": "code",
   "execution_count": null,
   "metadata": {},
   "outputs": [],
   "source": []
  },
  {
   "cell_type": "markdown",
   "metadata": {},
   "source": [
    "## Below under construction!!!"
   ]
  },
  {
   "cell_type": "code",
   "execution_count": null,
   "metadata": {},
   "outputs": [],
   "source": []
  },
  {
   "cell_type": "markdown",
   "metadata": {},
   "source": [
    "### Following part will be updated if I have to go through this step again."
   ]
  },
  {
   "cell_type": "code",
   "execution_count": null,
   "metadata": {},
   "outputs": [],
   "source": [
    "# Catalog of StatMorph properties of the good sample.\n",
    "from astrobf.utils.measure_morph import statMorph_fields\n",
    "fields = statMorph_fields[:6]\n",
    "ngal = len(good_gids)\n",
    "result_arr = np.zeros(ngal, \n",
    "                      dtype=[('id','<U24'),('ttype',int),('flag',bool),('flag_sersic',bool)]\n",
    "                           +[(ff,float) for ff in fields])\n",
    "i=0\n",
    "for alm in all_morphs:\n",
    "    mps = pickle.load(open(alm,'rb'))\n",
    "    for morph in mps:\n",
    "        if morph._gid in good_gids:\n",
    "            result_arr[i]['id'] = morph._gid\n",
    "            for ff in fields:\n",
    "                result_arr[i][ff] = getattr(morph, ff)\n",
    "            i+=1\n",
    "        else:\n",
    "            pass"
   ]
  },
  {
   "cell_type": "markdown",
   "metadata": {},
   "source": [
    "# t-types from catalog\n",
    "\n",
    "Nair catalog has very specific and inconvenient format. You need a dedicated function for this."
   ]
  },
  {
   "cell_type": "code",
   "execution_count": 168,
   "metadata": {},
   "outputs": [
    {
     "ename": "AttributeError",
     "evalue": "module 'astrobf.utils' has no attribute 'misc'",
     "output_type": "error",
     "traceback": [
      "\u001b[0;31m---------------------------------------------------------------------------\u001b[0m",
      "\u001b[0;31mAttributeError\u001b[0m                            Traceback (most recent call last)",
      "\u001b[0;32m<ipython-input-168-c1635f8e1f66>\u001b[0m in \u001b[0;36m<module>\u001b[0;34m\u001b[0m\n\u001b[0;32m----> 1\u001b[0;31m \u001b[0mcat_nair\u001b[0m \u001b[0;34m=\u001b[0m \u001b[0mutils\u001b[0m\u001b[0;34m.\u001b[0m\u001b[0mmisc\u001b[0m\u001b[0;34m.\u001b[0m\u001b[0mload_Nair\u001b[0m\u001b[0;34m(\u001b[0m\u001b[0;34m'../../bf_data/Nair_and_Abraham_2010/catalog/table2.dat'\u001b[0m\u001b[0;34m)\u001b[0m\u001b[0;34m\u001b[0m\u001b[0;34m\u001b[0m\u001b[0m\n\u001b[0m",
      "\u001b[0;31mAttributeError\u001b[0m: module 'astrobf.utils' has no attribute 'misc'"
     ]
    }
   ],
   "source": [
    "cat = utils.misc.load_Nair('../../bf_data/Nair_and_Abraham_2010/catalog/table2.dat')\n",
    "\n",
    "inds = cat['ID'].searchsorted(result_arr['id'])\n",
    "print(\"Is every element matched?: \", np.all(cat[inds]['ID'] == result_arr['id']))\n",
    "result_arr['ttype'] = cat[inds]['TT']\n",
    "\n",
    "# Save the complete catalog\n",
    "pickle.dump(result_arr, open(out_dir+'result_arr.pcikle', 'wb'))"
   ]
  },
  {
   "cell_type": "markdown",
   "metadata": {},
   "source": [
    "# Initialize BO loop -  Measure morphology features"
   ]
  },
  {
   "cell_type": "code",
   "execution_count": null,
   "metadata": {},
   "outputs": [],
   "source": [
    "import torch\n",
    "import math\n",
    "\n",
    "# use a GPU if available\n",
    "device = torch.device(\"cuda\" if torch.cuda.is_available() else \"cpu\")\n",
    "dtype = torch.float"
   ]
  },
  {
   "cell_type": "markdown",
   "metadata": {},
   "source": [
    "### Initial guesses \n"
   ]
  },
  {
   "cell_type": "code",
   "execution_count": null,
   "metadata": {},
   "outputs": [],
   "source": []
  },
  {
   "cell_type": "code",
   "execution_count": null,
   "metadata": {},
   "outputs": [],
   "source": []
  },
  {
   "cell_type": "markdown",
   "metadata": {},
   "source": [
    "# Run Bayesian Optimization loop"
   ]
  },
  {
   "cell_type": "code",
   "execution_count": null,
   "metadata": {},
   "outputs": [],
   "source": []
  }
 ],
 "metadata": {
  "kernelspec": {
   "display_name": "Python 3",
   "language": "python",
   "name": "python3"
  },
  "language_info": {
   "codemirror_mode": {
    "name": "ipython",
    "version": 3
   },
   "file_extension": ".py",
   "mimetype": "text/x-python",
   "name": "python",
   "nbconvert_exporter": "python",
   "pygments_lexer": "ipython3",
   "version": "3.8.2"
  }
 },
 "nbformat": 4,
 "nbformat_minor": 2
}
