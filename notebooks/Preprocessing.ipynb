{
 "cells": [
  {
   "cell_type": "code",
   "execution_count": 3,
   "metadata": {},
   "outputs": [],
   "source": [
    "import numpy as np\n",
    "from glob import glob\n",
    "import matplotlib.pyplot as plt "
   ]
  },
  {
   "cell_type": "markdown",
   "metadata": {},
   "source": [
    "## Directories"
   ]
  },
  {
   "cell_type": "code",
   "execution_count": 5,
   "metadata": {},
   "outputs": [
    {
     "name": "stdout",
     "output_type": "stream",
     "text": [
      "Number of fits files to process 14034\n"
     ]
    }
   ],
   "source": [
    "dataset = ['EFIFI','Nair'][1]\n",
    "basedir = '../../bf_data/Nair_and_Abraham_2010/'\n",
    "fitsdir = basedir + 'fits_final/'\n",
    "\n",
    "out_dir = basedir+'out_final/'\n",
    "fns_r = glob(fitsdir+\"*/*r.fits\")\n",
    "fns_r.sort()\n",
    "print(\"Number of fits files to process\", len(fns_r))"
   ]
  },
  {
   "cell_type": "markdown",
   "metadata": {},
   "source": [
    "# Generate mask\n",
    "\n",
    "원래는 StatMorph가 안 돌아갈 경우 이미지에 문제가 있는 것으로 보았고 (거의 맞았음), 추가로 visual inspection 수행했음. \n",
    "-> 주변에 별이 있거나 companion 은하가 있으면 다 걸러냄. "
   ]
  },
  {
   "cell_type": "code",
   "execution_count": 6,
   "metadata": {},
   "outputs": [],
   "source": [
    "from astrobf.utils import gen_mask\n",
    "from astrobf.morph import measure_morph"
   ]
  },
  {
   "cell_type": "code",
   "execution_count": 3,
   "metadata": {
    "scrolled": true
   },
   "outputs": [
    {
     "ename": "ValueError",
     "evalue": "not enough values to unpack (expected 3, got 2)",
     "output_type": "error",
     "traceback": [
      "\u001b[0;31m---------------------------------------------------------------------------\u001b[0m",
      "\u001b[0;31mValueError\u001b[0m                                Traceback (most recent call last)",
      "\u001b[0;32m<ipython-input-3-350fcfd087c7>\u001b[0m in \u001b[0;36m<module>\u001b[0;34m\u001b[0m\n\u001b[0;32m----> 1\u001b[0;31m \u001b[0mgen_mask\u001b[0m\u001b[0;34m.\u001b[0m\u001b[0mrun_mask\u001b[0m\u001b[0;34m(\u001b[0m\u001b[0mfns_r\u001b[0m\u001b[0;34m,\u001b[0m \u001b[0mout_dir\u001b[0m\u001b[0;34m,\u001b[0m \u001b[0mnpix_min\u001b[0m\u001b[0;34m=\u001b[0m\u001b[0;36m40\u001b[0m\u001b[0;34m)\u001b[0m\u001b[0;34m\u001b[0m\u001b[0;34m\u001b[0m\u001b[0m\n\u001b[0m",
      "\u001b[0;32m~/Work/tonemap/astroBF/astrobf/utils/gen_mask.py\u001b[0m in \u001b[0;36mrun_mask\u001b[0;34m(fns, out_dir, sub_rows, eps, do_plot, **kwargs)\u001b[0m\n\u001b[1;32m     80\u001b[0m \u001b[0;34m\u001b[0m\u001b[0m\n\u001b[1;32m     81\u001b[0m             \u001b[0mhdulist\u001b[0m \u001b[0;34m=\u001b[0m \u001b[0mload_fits\u001b[0m\u001b[0;34m(\u001b[0m\u001b[0mfn\u001b[0m\u001b[0;34m,\u001b[0m \u001b[0meps\u001b[0m\u001b[0;34m=\u001b[0m\u001b[0meps\u001b[0m\u001b[0;34m)\u001b[0m\u001b[0;34m\u001b[0m\u001b[0;34m\u001b[0m\u001b[0m\n\u001b[0;32m---> 82\u001b[0;31m             \u001b[0mmask\u001b[0m\u001b[0;34m,\u001b[0m \u001b[0mimg\u001b[0m\u001b[0;34m,\u001b[0m \u001b[0mmask_new\u001b[0m \u001b[0;34m=\u001b[0m \u001b[0mmask_utils\u001b[0m\u001b[0;34m.\u001b[0m\u001b[0mgmm_mask\u001b[0m\u001b[0;34m(\u001b[0m\u001b[0mhdulist\u001b[0m\u001b[0;34m.\u001b[0m\u001b[0mdata\u001b[0m\u001b[0;34m,\u001b[0m\u001b[0;34m**\u001b[0m\u001b[0mkwargs\u001b[0m\u001b[0;34m)\u001b[0m\u001b[0;34m\u001b[0m\u001b[0;34m\u001b[0m\u001b[0m\n\u001b[0m\u001b[1;32m     83\u001b[0m \u001b[0;34m\u001b[0m\u001b[0m\n\u001b[1;32m     84\u001b[0m             \u001b[0mpickle\u001b[0m\u001b[0;34m.\u001b[0m\u001b[0mdump\u001b[0m\u001b[0;34m(\u001b[0m\u001b[0mmask_new\u001b[0m\u001b[0;34m,\u001b[0m \u001b[0mopen\u001b[0m\u001b[0;34m(\u001b[0m\u001b[0mout_dir\u001b[0m\u001b[0;34m+\u001b[0m\u001b[0;34mf\"{img_name}_mask.pickle\"\u001b[0m\u001b[0;34m,\u001b[0m \u001b[0;34m\"wb\"\u001b[0m\u001b[0;34m)\u001b[0m\u001b[0;34m)\u001b[0m\u001b[0;34m\u001b[0m\u001b[0;34m\u001b[0m\u001b[0m\n",
      "\u001b[0;31mValueError\u001b[0m: not enough values to unpack (expected 3, got 2)"
     ]
    },
    {
     "data": {
      "image/png": "[encoded data removed]",
      "text/plain": [
       "<Figure size 864x864 with 9 Axes>"
      ]
     },
     "metadata": {
      "needs_background": "light"
     },
     "output_type": "display_data"
    }
   ],
   "source": [
    "gen_mask.run_mask(fns_r, out_dir, npix_min=40)"
   ]
  },
  {
   "cell_type": "markdown",
   "metadata": {},
   "source": [
    "안 돌지만.. 일단 못 본척. "
   ]
  },
  {
   "cell_type": "markdown",
   "metadata": {},
   "source": [
    "# Visual inspection - Filter out bad samples\n",
    "Keep good samples.\n",
    "Leave good galaxies (under `.../stat_png/good/*.png`) or list bad galaxies (in trash bin).\n",
    "\n",
    "적당히 수동으로 리스트 작성. "
   ]
  },
  {
   "cell_type": "code",
   "execution_count": 7,
   "metadata": {},
   "outputs": [],
   "source": [
    "partially_filtered = \"../../bf_data/Nair_and_Abraham_2010/Intermediate_files/final_150000_done.txt\"\n",
    "partial_bad = \"../../bf_data/Nair_and_Abraham_2010/Intermediate_files/final_bad_gal_list.txt\""
   ]
  },
  {
   "cell_type": "code",
   "execution_count": 35,
   "metadata": {},
   "outputs": [],
   "source": [
    "def gids_from_pnglist(plist):\n",
    "    \"\"\"\n",
    "    Parameters\n",
    "    ----------\n",
    "        plist : list of png file names\n",
    "    \"\"\"\n",
    "    gids=[]\n",
    "    for ll in plist:\n",
    "        gids.append(ll.split('_')[1])\n",
    "        \n",
    "    return gids"
   ]
  },
  {
   "cell_type": "code",
   "execution_count": 42,
   "metadata": {},
   "outputs": [],
   "source": [
    "with open(partial_bad, 'r') as fbad:\n",
    "    bad = gids_from_pnglist(fbad.readlines())\n",
    "    \n",
    "with open(partially_filtered, 'r') as ff:\n",
    "    temp = gids_from_pnglist(ff.readlines())\n",
    "\n",
    "good = []\n",
    "\n",
    "good_gids=[]\n",
    "for gg in temp:\n",
    "    if gg not in bad:\n",
    "        good.append(gg)"
   ]
  },
  {
   "cell_type": "code",
   "execution_count": 41,
   "metadata": {},
   "outputs": [
    {
     "data": {
      "text/plain": [
       "9537"
      ]
     },
     "execution_count": 41,
     "metadata": {},
     "output_type": "execute_result"
    }
   ],
   "source": [
    "print(\"The length of the final sample:\", len(good))"
   ]
  },
  {
   "cell_type": "markdown",
   "metadata": {},
   "source": [
    "# Merge files to minimize I/O\n",
    "\n",
    "Merge image, mask, and weights + meta data (name, cutout slice and t-type)"
   ]
  },
  {
   "cell_type": "code",
   "execution_count": 50,
   "metadata": {},
   "outputs": [],
   "source": [
    "from glob import glob\n",
    "data_dir = '../../bf_data/Nair_and_Abraham_2010/'\n",
    "\n",
    "fits_fns = glob(data_dir+'fits_final/*/*-r.fits')\n",
    "weights_fns = glob(data_dir+'fits_final/*/*-r.weight.fits')\n",
    "mask_fns = glob(data_dir+'final_all_masks/*_mask.pickle')\n",
    "\n",
    "assert len(mask_fns) == len(fits_fns) == len(weights_fns)"
   ]
  },
  {
   "cell_type": "code",
   "execution_count": 65,
   "metadata": {},
   "outputs": [],
   "source": [
    "# Make sure three data sets are in the same order\n",
    "mask_fns.sort()\n",
    "fits_fns.sort()\n",
    "weights_fns.sort()\n",
    "\n",
    "for fn_fits, fn_weight, fn_mask in zip(fits_fns, weights_fns, mask_fns):\n",
    "    img_name1 = fn_fits.split(\"/J\")[-2] \n",
    "    img_name2 = fn_weight.split(\"/J\")[-2] \n",
    "    img_name3 = fn_mask.split(\"/J\")[-1].split('_')[0] # mask names are slightly different\n",
    "    assert img_name1 == img_name2 == img_name3\n"
   ]
  },
  {
   "cell_type": "markdown",
   "metadata": {},
   "source": [
    "## Calculate Asym_center\n",
    "언제 어디서 이걸 계산했던걸까...?? "
   ]
  },
  {
   "cell_type": "code",
   "execution_count": null,
   "metadata": {},
   "outputs": [],
   "source": []
  },
  {
   "cell_type": "code",
   "execution_count": null,
   "metadata": {},
   "outputs": [],
   "source": []
  },
  {
   "cell_type": "markdown",
   "metadata": {},
   "source": [
    "## Shift the images\n",
    "\n",
    "recenter images."
   ]
  },
  {
   "cell_type": "code",
   "execution_count": 7,
   "metadata": {},
   "outputs": [],
   "source": [
    "from scipy.ndimage import shift\n",
    "\n",
    "def recenter(img, mask, weight, asym_center):\n",
    "    \"\"\"\n",
    "    shift images and return stacked array\n",
    "    \"\"\"\n",
    "    return np.stack((shift(img,    np.array(img.shape)/2. - asym_center[::-1]),\n",
    "                     shift(mask,   np.array(img.shape)/2. - asym_center[::-1]),\n",
    "                     shift(weight, np.array(img.shape)/2. - asym_center[::-1])))"
   ]
  },
  {
   "cell_type": "code",
   "execution_count": 85,
   "metadata": {},
   "outputs": [],
   "source": [
    "# merge three dataset into one. \n",
    "# make cutout to save storage space\n",
    "from astropy.io import fits\n",
    "import pickle\n",
    "from astrobf.utils import mask_utils\n",
    "\n",
    "\n",
    "\n",
    "###!!!!!!!!!!!!!!!!!!!!!!!!\n",
    "## Asym_center 계산해올것!\n",
    "## t-type도 가져올 것.\n",
    "\n",
    "\n",
    "all_good=[]\n",
    "for fn_fits, fn_weight, fn_mask in zip(fits_fns, weigths_fns, mask_fns):\n",
    "    img_name = \"J\"+fn_fits.split(\"/J\")[-2] \n",
    "    if img_name in good:\n",
    "        img = fits.open(fn_fits)[0].data\n",
    "        weight = fits.open(fn_weight)[0].data\n",
    "        mask = pickle.load(open(fn_mask, 'rb'))\n",
    "        slices = mask_utils._get_stamp_range(mask)\n",
    "        data = recenter(img[slices], mask[slices], weight[slices], asym_center) ### warning.\n",
    "        all_good.append({'data':data, 'img_name':img_name, 'slices':slices, 'tt':t_type})\n",
    "\n",
    "pickle.dump(all_good, open(\"all_gals_centered.pickle\", \"wb\"))"
   ]
  },
  {
   "cell_type": "code",
   "execution_count": null,
   "metadata": {},
   "outputs": [],
   "source": []
  },
  {
   "cell_type": "markdown",
   "metadata": {},
   "source": [
    "# 아래 참조하여 t-type 가져오기."
   ]
  },
  {
   "cell_type": "code",
   "execution_count": null,
   "metadata": {},
   "outputs": [],
   "source": [
    "# Catalog of StatMorph properties of the good sample.\n",
    "from astrobf.utils.measure_morph import statMorph_fields\n",
    "fields = statMorph_fields[:6]\n",
    "ngal = len(good_gids)\n",
    "result_arr = np.zeros(ngal, \n",
    "                      dtype=[('id','<U24'),('ttype',int),('flag',bool),('flag_sersic',bool)]\n",
    "                           +[(ff,float) for ff in fields])\n",
    "i=0\n",
    "for alm in all_morphs:\n",
    "    mps = pickle.load(open(alm,'rb'))\n",
    "    for morph in mps:\n",
    "        if morph._gid in good_gids:\n",
    "            result_arr[i]['id'] = morph._gid\n",
    "            for ff in fields:\n",
    "                result_arr[i][ff] = getattr(morph, ff)\n",
    "            i+=1\n",
    "        else:\n",
    "            pass"
   ]
  },
  {
   "cell_type": "markdown",
   "metadata": {},
   "source": [
    "# t-types from catalog\n",
    "\n",
    "Nair catalog has very specific and inconvenient format. You need a dedicated function for this."
   ]
  },
  {
   "cell_type": "code",
   "execution_count": 168,
   "metadata": {},
   "outputs": [
    {
     "ename": "AttributeError",
     "evalue": "module 'astrobf.utils' has no attribute 'misc'",
     "output_type": "error",
     "traceback": [
      "\u001b[0;31m---------------------------------------------------------------------------\u001b[0m",
      "\u001b[0;31mAttributeError\u001b[0m                            Traceback (most recent call last)",
      "\u001b[0;32m<ipython-input-168-c1635f8e1f66>\u001b[0m in \u001b[0;36m<module>\u001b[0;34m\u001b[0m\n\u001b[0;32m----> 1\u001b[0;31m \u001b[0mcat_nair\u001b[0m \u001b[0;34m=\u001b[0m \u001b[0mutils\u001b[0m\u001b[0;34m.\u001b[0m\u001b[0mmisc\u001b[0m\u001b[0;34m.\u001b[0m\u001b[0mload_Nair\u001b[0m\u001b[0;34m(\u001b[0m\u001b[0;34m'../../bf_data/Nair_and_Abraham_2010/catalog/table2.dat'\u001b[0m\u001b[0;34m)\u001b[0m\u001b[0;34m\u001b[0m\u001b[0;34m\u001b[0m\u001b[0m\n\u001b[0m",
      "\u001b[0;31mAttributeError\u001b[0m: module 'astrobf.utils' has no attribute 'misc'"
     ]
    }
   ],
   "source": [
    "cat = utils.misc.load_Nair('../../bf_data/Nair_and_Abraham_2010/catalog/table2.dat')\n",
    "\n",
    "inds = cat['ID'].searchsorted(result_arr['id'])\n",
    "print(\"Is every element matched?: \", np.all(cat[inds]['ID'] == result_arr['id']))\n",
    "result_arr['ttype'] = cat[inds]['TT']\n",
    "\n",
    "# Save the complete catalog\n",
    "pickle.dump(result_arr, open(out_dir+'result_arr.pcikle', 'wb'))"
   ]
  }
 ],
 "metadata": {
  "kernelspec": {
   "display_name": "Python 3",
   "language": "python",
   "name": "python3"
  },
  "language_info": {
   "codemirror_mode": {
    "name": "ipython",
    "version": 3
   },
   "file_extension": ".py",
   "mimetype": "text/x-python",
   "name": "python",
   "nbconvert_exporter": "python",
   "pygments_lexer": "ipython3",
   "version": "3.9.5"
  }
 },
 "nbformat": 4,
 "nbformat_minor": 2
}
