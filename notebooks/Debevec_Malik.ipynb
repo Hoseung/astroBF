{
 "cells": [
  {
   "cell_type": "markdown",
   "metadata": {},
   "source": [
    "## Key point of Debevec is to reconstrcut the camera's response curve to incoming light. \n",
    "And then, a simple range compression is applied. This later part is more relevant to my problem. In that regard, Debevec is not very useful... Or is it? \n"
   ]
  },
  {
   "cell_type": "markdown",
   "metadata": {},
   "source": [
    "## Questions\n",
    "* Can I assume **UNIFORM** response function of telescopes? -- probably, Yes."
   ]
  },
  {
   "cell_type": "markdown",
   "metadata": {},
   "source": [
    "# OpenCV HDR examples\n",
    "## Debevec, Robertson and ...?"
   ]
  },
  {
   "cell_type": "code",
   "execution_count": 8,
   "metadata": {},
   "outputs": [],
   "source": [
    "import matplotlib.pyplot as plt\n",
    "import numpy as np\n",
    "import cv2 as cv\n",
    "\n",
    "img_fn_base = \"/home/hoseung/Work/tonemap/astroBF/notebooks/natural/StLouisArchMultExpEV\"\n",
    "fn_suffix = [\"+4.09.jpeg\", \"+1.51.jpeg\", \"-1.82.jpeg\" ,\"-4.72.jpeg\"]\n",
    "img_list = [cv.imread(img_fn_base+fn) for fn in fn_suffix]\n",
    "exposure_times = np.array([15.0, 2.5, 0.25, 0.0333], dtype=np.float32)"
   ]
  },
  {
   "cell_type": "markdown",
   "metadata": {},
   "source": [
    "# Merge muliti-exposure images into one HDR image \n",
    "This step won't be necessary for astronomical images. \n",
    "So, let's just use a pre-built method.\n",
    "\n",
    "\n",
    "Available TMOs in OpenCV are:  \n",
    "cv::TonemapDrago, cv::TonemapMantiuk and cv::TonemapReinhard"
   ]
  },
  {
   "cell_type": "code",
   "execution_count": 10,
   "metadata": {},
   "outputs": [],
   "source": [
    "# Merge exposures to HDR image\n",
    "merge_debevec = cv.createMergeDebevec()\n",
    "hdr_debevec = merge_debevec.process(img_list, times=exposure_times.copy())\n",
    "\n",
    "merge_robertson = cv.createMergeRobertson()\n",
    "hdr_robertson = merge_robertson.process(img_list, times=exposure_times.copy())\n",
    "\n",
    "# Estimate camera response function (CRF)\n",
    "cal_debevec = cv.createCalibrateDebevec()\n",
    "crf_debevec = cal_debevec.process(img_list, times=exposure_times)\n",
    "hdr_debevec = merge_debevec.process(img_list, times=exposure_times.copy(), response=crf_debevec.copy())\n",
    "cal_robertson = cv.createCalibrateRobertson()\n",
    "crf_robertson = cal_robertson.process(img_list, times=exposure_times)\n",
    "hdr_robertson = merge_robertson.process(img_list, times=exposure_times.copy(), response=crf_robertson.copy())\n",
    "\n",
    "# Tonemap HDR image\n",
    "tonemap1 = cv.createTonemap(gamma=2.2)\n",
    "res_debevec = tonemap1.process(hdr_debevec.copy())\n",
    "\n",
    "res_robertson = tonemap1.process(hdr_robertson.copy())\n",
    "\n",
    "# Exposure fusion using Mertens\n",
    "merge_mertens = cv.createMergeMertens()\n",
    "res_mertens = merge_mertens.process(img_list)\n",
    "\n",
    "# Convert datatype to 8-bit and save\n",
    "res_debevec_8bit = np.clip(res_debevec*255, 0, 255).astype('uint8')\n",
    "res_robertson_8bit = np.clip(res_robertson*255, 0, 255).astype('uint8')\n",
    "res_mertens_8bit = np.clip(res_mertens*255, 0, 255).astype('uint8')\n",
    "cv.imwrite(\"ldr_debevec_cali.jpg\", res_debevec_8bit)\n",
    "cv.imwrite(\"ldr_robertson_cali.jpg\", res_robertson_8bit)\n",
    "cv.imwrite(\"fusion_mertens.jpg\", res_mertens_8bit)"
   ]
  },
  {
   "cell_type": "markdown",
   "metadata": {},
   "source": [
    "# Custom implementation \n",
    "\n",
    "of Ashi..., Fattai (Gradient Domain High Dynamic Range Compression), and..?\n",
    "\n",
    "No Devebec. It's just irrelevant"
   ]
  },
  {
   "cell_type": "code",
   "execution_count": 32,
   "metadata": {},
   "outputs": [],
   "source": [
    "def world_capacity(l):\n",
    "    \"\"\"\n",
    "    approximate form of human Threshold vs. Intensity curve. \n",
    "    eq.7 of Ashikhmin2002\n",
    "    \"\"\"\n",
    "    conditions = [l < 0.0034, \n",
    "                  (l >= 0.0034) * (l < 1),\n",
    "                  (l >= 1) * (l < 7.2444),\n",
    "                  l >= 7.2444]\n",
    "    functions = [lambda l : l / 0.0014,\n",
    "                 lambda l : 2.4483 + np.log10(l/0.0034)/0.4027,\n",
    "                 lambda l : 16.563 + (l-1)/0.4027,\n",
    "                 lambda l : 32.0693 + np.log10(l/7.2444)/0.0556]\n",
    "    \n",
    "    return np.piecewise(l, conditions, functions)"
   ]
  },
  {
   "cell_type": "code",
   "execution_count": 37,
   "metadata": {},
   "outputs": [
    {
     "data": {
      "image/png": "[encoded data removed]",
      "text/plain": [
       "<Figure size 432x288 with 1 Axes>"
      ]
     },
     "metadata": {
      "needs_background": "light"
     },
     "output_type": "display_data"
    }
   ],
   "source": [
    "luminance=np.logspace(-6,6,100)\n",
    "fig, ax = plt.subplots()\n",
    "ax.plot(luminance, world_capacity(luminance))\n",
    "ax.set_xscale('log')\n",
    "ax.set_yscale('log')\n",
    "plt.show()"
   ]
  },
  {
   "cell_type": "markdown",
   "metadata": {},
   "source": [
    "## world and display correspondance\n",
    "\n",
    "We will scale the min-max range of world to the min-max range of display.  \n",
    "To prevent one outlying pixel baising the min-max range, take the minimum/maximum values from a blurred image."
   ]
  },
  {
   "cell_type": "code",
   "execution_count": 41,
   "metadata": {},
   "outputs": [],
   "source": [
    "def tonemapper(l, CLmin=0, CLmax = 1e6, LDmax=300):\n",
    "    \"\"\"\n",
    "    get display luminance from world luminance\n",
    "    \n",
    "    Parameters\n",
    "    ----------\n",
    "    \n",
    "    LDmax : float, [300]\n",
    "    Assuming the maximum luminosity of display as 300cd/m^2\n",
    "    \n",
    "    \"\"\"\n",
    "    return LDmax * (world_capacity(l)-CLmin)/(CLmax - CLmin)\n",
    "\n",
    "L_d = tonemapper(luminance)"
   ]
  },
  {
   "cell_type": "code",
   "execution_count": null,
   "metadata": {},
   "outputs": [],
   "source": []
  }
 ],
 "metadata": {
  "kernelspec": {
   "display_name": "Python 3",
   "language": "python",
   "name": "python3"
  },
  "language_info": {
   "codemirror_mode": {
    "name": "ipython",
    "version": 3
   },
   "file_extension": ".py",
   "mimetype": "text/x-python",
   "name": "python",
   "nbconvert_exporter": "python",
   "pygments_lexer": "ipython3",
   "version": "3.7.9"
  }
 },
 "nbformat": 4,
 "nbformat_minor": 4
}
