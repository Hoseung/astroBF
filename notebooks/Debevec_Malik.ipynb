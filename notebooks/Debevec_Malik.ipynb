{
 "cells": [
  {
   "cell_type": "code",
   "execution_count": null,
   "metadata": {},
   "outputs": [],
   "source": [
    "import cv2 as cv\n",
    "import numpy as np\n",
    "import argparse\n",
    "import os\n",
    "\n",
    "def loadExposureSeq(path):\n",
    "    images = []\n",
    "    times = []\n",
    "    with open(os.path.join(path, 'list.txt')) as f:\n",
    "        content = f.readlines()\n",
    "    for line in content:\n",
    "        tokens = line.split()\n",
    "        images.append(cv.imread(os.path.join(path, tokens[0])))\n",
    "        times.append(1 / float(tokens[1]))\n",
    "    return images, np.asarray(times, dtype=np.float32)\n",
    "\n",
    "parser = argparse.ArgumentParser(description='Code for High Dynamic Range Imaging tutorial.')\n",
    "parser.add_argument('--input', type=str, help='Path to the directory that contains images and exposure times.')\n",
    "args = parser.parse_args()\n",
    "if not args.input:\n",
    "    parser.print_help()\n",
    "    exit(0)\n",
    "\n",
    "images, times = loadExposureSeq(args.input)\n",
    "calibrate = cv.createCalibrateDebevec()\n",
    "response = calibrate.process(images, times)\n",
    "merge_debevec = cv.createMergeDebevec()\n",
    "hdr = merge_debevec.process(images, times, response)\n",
    "tonemap = cv.createTonemap(2.2)\n",
    "ldr = tonemap.process(hdr)\n",
    "merge_mertens = cv.createMergeMertens()\n",
    "fusion = merge_mertens.process(images)\n",
    "cv.imwrite('fusion.png', fusion * 255)\n",
    "cv.imwrite('ldr.png', ldr * 255)\n",
    "cv.imwrite('hdr.hdr', hdr)"
   ]
  },
  {
   "cell_type": "code",
   "execution_count": 5,
   "metadata": {},
   "outputs": [],
   "source": [
    "import numpy as np\n",
    "import cv2 as cv\n",
    "\n",
    "img_fn_base = \"/home/hoseung/Work/tonemap/astroBF/notebooks/natural/StLouisArchMultExpEV\"\n",
    "fn_suffix = [\"+4.09.jpeg\", \"+1.51.jpeg\", \"-1.82.jpeg\" ,\"-4.72.jpeg\"]\n",
    "img_list = [cv.imread(img_fn_base+fn) for fn in fn_suffix]\n",
    "exposure_times = np.array([15.0, 2.5, 0.25, 0.0333], dtype=np.float32)"
   ]
  },
  {
   "cell_type": "markdown",
   "metadata": {},
   "source": [
    "# Merge muliti-exposure images into one HDR image \n",
    "This step won't be necessary for astronomical images. \n",
    "So, let's just use a pre-built method.\n",
    "\n",
    "\n",
    "Available TMOs in OpenCV are:  \n",
    "cv::TonemapDrago, cv::TonemapMantiuk and cv::TonemapReinhard"
   ]
  },
  {
   "cell_type": "code",
   "execution_count": 10,
   "metadata": {},
   "outputs": [],
   "source": [
    "# Merge exposures to HDR image\n",
    "merge_debevec = cv.createMergeDebevec()\n",
    "hdr_debevec = merge_debevec.process(img_list, times=exposure_times.copy())\n",
    "\n",
    "merge_robertson = cv.createMergeRobertson()\n",
    "hdr_robertson = merge_robertson.process(img_list, times=exposure_times.copy())"
   ]
  },
  {
   "cell_type": "code",
   "execution_count": 14,
   "metadata": {},
   "outputs": [],
   "source": [
    "# Estimate camera response function (CRF)\n",
    "cal_debevec = cv.createCalibrateDebevec()\n",
    "crf_debevec = cal_debevec.process(img_list, times=exposure_times)\n",
    "hdr_debevec = merge_debevec.process(img_list, times=exposure_times.copy(), response=crf_debevec.copy())\n",
    "cal_robertson = cv.createCalibrateRobertson()\n",
    "crf_robertson = cal_robertson.process(img_list, times=exposure_times)\n",
    "hdr_robertson = merge_robertson.process(img_list, times=exposure_times.copy(), response=crf_robertson.copy())"
   ]
  },
  {
   "cell_type": "code",
   "execution_count": 15,
   "metadata": {},
   "outputs": [],
   "source": [
    "# Tonemap HDR image\n",
    "tonemap1 = cv.createTonemap(gamma=2.2)\n",
    "res_debevec = tonemap1.process(hdr_debevec.copy())\n",
    "\n",
    "res_robertson = tonemap1.process(hdr_robertson.copy())"
   ]
  },
  {
   "cell_type": "code",
   "execution_count": 16,
   "metadata": {},
   "outputs": [],
   "source": [
    "# Exposure fusion using Mertens\n",
    "merge_mertens = cv.createMergeMertens()\n",
    "res_mertens = merge_mertens.process(img_list)"
   ]
  },
  {
   "cell_type": "code",
   "execution_count": 17,
   "metadata": {},
   "outputs": [
    {
     "data": {
      "text/plain": [
       "True"
      ]
     },
     "execution_count": 17,
     "metadata": {},
     "output_type": "execute_result"
    }
   ],
   "source": [
    "# Convert datatype to 8-bit and save\n",
    "res_debevec_8bit = np.clip(res_debevec*255, 0, 255).astype('uint8')\n",
    "res_robertson_8bit = np.clip(res_robertson*255, 0, 255).astype('uint8')\n",
    "res_mertens_8bit = np.clip(res_mertens*255, 0, 255).astype('uint8')\n",
    "cv.imwrite(\"ldr_debevec_cali.jpg\", res_debevec_8bit)\n",
    "cv.imwrite(\"ldr_robertson_cali.jpg\", res_robertson_8bit)\n",
    "cv.imwrite(\"fusion_mertens.jpg\", res_mertens_8bit)"
   ]
  },
  {
   "cell_type": "code",
   "execution_count": null,
   "metadata": {},
   "outputs": [],
   "source": []
  }
 ],
 "metadata": {
  "kernelspec": {
   "display_name": "Python 3.8.3 64-bit ('tonemap': conda)",
   "language": "python",
   "name": "python38364bittonemapcondadaae818a71a44f73b2f3b1d14c8757e6"
  },
  "language_info": {
   "codemirror_mode": {
    "name": "ipython",
    "version": 3
   },
   "file_extension": ".py",
   "mimetype": "text/x-python",
   "name": "python",
   "nbconvert_exporter": "python",
   "pygments_lexer": "ipython3",
   "version": "3.8.3"
  }
 },
 "nbformat": 4,
 "nbformat_minor": 4
}
