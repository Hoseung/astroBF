{
 "cells": [
  {
   "cell_type": "code",
   "execution_count": 5,
   "metadata": {},
   "outputs": [],
   "source": [
    "import numpy as np\n",
    "import cv2 as cv\n",
    "\n",
    "img_fn_base = \"/home/hoseung/Work/tonemap/astroBF/notebooks/natural/StLouisArchMultExpEV\"\n",
    "fn_suffix = [\"+4.09.jpeg\", \"+1.51.jpeg\", \"-1.82.jpeg\" ,\"-4.72.jpeg\"]\n",
    "img_list = [cv.imread(img_fn_base+fn) for fn in fn_suffix]\n",
    "exposure_times = np.array([15.0, 2.5, 0.25, 0.0333], dtype=np.float32)"
   ]
  },
  {
   "cell_type": "markdown",
   "metadata": {},
   "source": [
    "# Merge muliti-exposure images into one HDR image \n",
    "This step won't be necessary for astronomical images. \n",
    "So, let's just use a pre-built method.\n",
    "\n",
    "\n",
    "Available TMOs in OpenCV are:  \n",
    "cv::TonemapDrago, cv::TonemapMantiuk and cv::TonemapReinhard"
   ]
  },
  {
   "cell_type": "code",
   "execution_count": 7,
   "metadata": {},
   "outputs": [],
   "source": [
    "# Merge exposures to HDR image\n",
    "merge_debevec = cv.createMergeDebevec()\n",
    "hdr_debevec = merge_debevec.process(img_list, times=exposure_times.copy())\n",
    "\n",
    "#merge_robertson = cv.createMergeRobertson()\n",
    "#hdr_robertson = merge_robertson.process(img_list, times=exposure_times.copy())"
   ]
  },
  {
   "cell_type": "code",
   "execution_count": null,
   "metadata": {},
   "outputs": [],
   "source": []
  }
 ],
 "metadata": {
  "kernelspec": {
   "display_name": "Python 3.8.3 64-bit ('tonemap': conda)",
   "language": "python",
   "name": "python38364bittonemapcondadaae818a71a44f73b2f3b1d14c8757e6"
  },
  "language_info": {
   "codemirror_mode": {
    "name": "ipython",
    "version": 3
   },
   "file_extension": ".py",
   "mimetype": "text/x-python",
   "name": "python",
   "nbconvert_exporter": "python",
   "pygments_lexer": "ipython3",
   "version": "3.8.3"
  }
 },
 "nbformat": 4,
 "nbformat_minor": 4
}
