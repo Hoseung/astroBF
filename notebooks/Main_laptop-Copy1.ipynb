{
 "cells": [
  {
   "cell_type": "code",
   "execution_count": 7,
   "metadata": {},
   "outputs": [
    {
     "name": "stdout",
     "output_type": "stream",
     "text": [
      "===============================================================================\n",
      "*                                                                             *\n",
      "*   Interpreter :                                                             *\n",
      "*       python : 3.8.5 (default, Sep  4 2020, 07:30:14)                       *\n",
      "*                [GCC 7.3.0]                                                  *\n",
      "*                                                                             *\n",
      "*   colour-science.org :                                                      *\n",
      "*       colour : 0.3.16                                                       *\n",
      "*       colour-hdri : 0.1.8                                                   *\n",
      "*                                                                             *\n",
      "*   Runtime :                                                                 *\n",
      "*       imageio : 2.9.0                                                       *\n",
      "*       matplotlib : 3.3.2                                                    *\n",
      "*       networkx : 2.5                                                        *\n",
      "*       numpy : 1.19.2                                                        *\n",
      "*       pandas : 1.2.0                                                        *\n",
      "*       scipy : 1.5.2                                                         *\n",
      "*       six : 1.15.0                                                          *\n",
      "*       recordclass : 0.14.3                                                  *\n",
      "*                                                                             *\n",
      "===============================================================================\n"
     ]
    }
   ],
   "source": [
    "%matplotlib widget\n",
    "import matplotlib.pyplot as plt \n",
    "\n",
    "import ipywidgets as widgets\n",
    "import numpy as np\n",
    "import os\n",
    "import pickle\n",
    "import sys, math\n",
    "from glob import glob\n",
    "\n",
    "import colour\n",
    "from colour_hdri.plotting import plot_tonemapping_operator_image\n",
    "colour.plotting.colour_style()\n",
    "colour.utilities.describe_environment();\n",
    "\n",
    "#import cv2 as cv\n",
    "import skimage\n",
    "import imageio\n",
    "\n",
    "from astropy.io import fits\n",
    "from colour.models import RGB_COLOURSPACES, RGB_luminance\n",
    "\n",
    "colorspace = RGB_COLOURSPACES['sRGB']\n",
    "\n",
    "import astrobf\n",
    "from astrobf.utils import mask_utils\n",
    "from astrobf.utils.mask_utils import *\n",
    "\n",
    "from matplotlib import patches\n",
    "from matplotlib.collections import PatchCollection\n",
    "\n",
    "import statmorph\n",
    "from statmorph.utils import image_diagnostics\n",
    "\n",
    "import re"
   ]
  },
  {
   "cell_type": "code",
   "execution_count": 8,
   "metadata": {},
   "outputs": [],
   "source": [
    "dataset = ['EFIFI','Nair'][1]\n",
    "basedir = ['../../bf_data/EFIGI_catalog/','../../bf_data/Nair_and_Abraham_2010/'][1]\n",
    "fitsdir = basedir + ['fits_temp_Jan_19/','fits_temp_Dec_28/', 'fits_temp_Feb_3/'][2]\n",
    "\n",
    "out_dir = basedir+'out1/'\n",
    "\n",
    "#fns_g = glob(fitsdir+\"*/*g.fits\")\n",
    "#fns_g.sort()\n",
    "fns_r = glob(fitsdir+\"*/*r.fits\")\n",
    "fns_r.sort()\n",
    "#fns_i = glob(fitsdir+\"*/*i.fits\")\n",
    "#fns_i.sort()\n",
    "\n",
    "eps = 1e-6"
   ]
  },
  {
   "cell_type": "code",
   "execution_count": null,
   "metadata": {},
   "outputs": [],
   "source": []
  },
  {
   "cell_type": "code",
   "execution_count": null,
   "metadata": {},
   "outputs": [],
   "source": []
  },
  {
   "cell_type": "markdown",
   "metadata": {},
   "source": [
    "# 3. Tone map (widget)"
   ]
  },
  {
   "cell_type": "code",
   "execution_count": 4,
   "metadata": {},
   "outputs": [],
   "source": [
    "from colour.plotting import (CONSTANTS_COLOUR_STYLE, artist, override_style)\n",
    "from ipywidgets import GridspecLayout, Layout, Image, Button, IntSlider, FloatSlider, ToggleButtons, VBox, HBox, Box\n",
    "\n",
    "def tonemapping_operator_generic(x,\n",
    "                             a=0.125,\n",
    "                             d=0.975,\n",
    "                             mid_in=0.25,\n",
    "                             mid_out=0.18):\n",
    "    hdr_max = x.max()\n",
    "    ad = a * d\n",
    "    midi_pow_a  = pow(mid_in, a)\n",
    "    midi_pow_ad = pow(mid_in, ad)\n",
    "    hdrm_pow_a  = pow(hdr_max, a)\n",
    "    hdrm_pow_ad = pow(hdr_max, ad)\n",
    "    u = hdrm_pow_ad * mid_out - midi_pow_ad * mid_out\n",
    "    v = midi_pow_ad * mid_out\n",
    "\n",
    "    b = -((-midi_pow_a + (mid_out * (hdrm_pow_ad * midi_pow_a - hdrm_pow_a * v)) / u) / v)\n",
    "    c = (hdrm_pow_ad * midi_pow_a - hdrm_pow_a * v) / u\n",
    "\n",
    "    x[x>hdr_max] = hdr_max\n",
    "    z = np.power(x, a)\n",
    "    return z / (np.power(z, d) * b + c)\n",
    "\n",
    "\n",
    "def plot_tmo_plt(x,\n",
    "                 a=0.125,\n",
    "                 d=0.975,\n",
    "                 mid_in=0.25,\n",
    "                 mid_out=0.18,\n",
    "                 log_scale=False,\n",
    "                 cctf_encoding=CONSTANTS_COLOUR_STYLE.colour.colourspace.cctf_encoding):\n",
    "    \n",
    "    args = (a,d,mid_in, mid_out)\n",
    "    image = tonemapping_operator_generic(x, *args)\n",
    "    luminance_function = np.squeeze(tonemapping_operator_generic(np.linspace(0, 1, 200)))\n",
    "\n",
    "    shape = image.shape\n",
    "    bounding_box = [0, 1, 0, 1]\n",
    "\n",
    "    image = np.clip(cctf_encoding(image), 0, 1)\n",
    "\n",
    "    plt.ioff()\n",
    "    fig = plt.figure()\n",
    "    fig.set_size_inches(4,4)\n",
    "    #self.fig = fig\n",
    "    axes = fig.add_subplot()\n",
    "\n",
    "    im = axes.imshow(image,\n",
    "                     aspect=shape[0] / shape[1],\n",
    "                     extent=bounding_box,\n",
    "                     interpolation='nearest')\n",
    "\n",
    "    lf, = axes.plot(np.linspace(0, 1, len(luminance_function)),\n",
    "                       luminance_function,\n",
    "                       color='red')\n",
    "\n",
    "    if log_scale:\n",
    "        axes.set_xlabel('$log_2$ Input Luminance')\n",
    "        axes.set_xscale('log', basex=2)\n",
    "        axes.xaxis.set_minor_locator(matplotlib.ticker.AutoMinorLocator(0.5))\n",
    "        axes.xaxis.set_major_formatter(matplotlib.ticker.ScalarFormatter())\n",
    "    plt.ion()\n",
    "    plt.show()"
   ]
  },
  {
   "cell_type": "code",
   "execution_count": 9,
   "metadata": {},
   "outputs": [],
   "source": [
    "hdulist = fits.open(fns_r[-1])\n",
    "hdulist[0].data -= (hdulist[0].data.min() - eps) \n",
    "img = hdulist[0].data"
   ]
  },
  {
   "cell_type": "code",
   "execution_count": 6,
   "metadata": {
    "scrolled": true
   },
   "outputs": [
    {
     "data": {
      "application/vnd.jupyter.widget-view+json": {
       "model_id": "e738720b492f49f3ad6e4d8f4892bb73",
       "version_major": 2,
       "version_minor": 0
      },
      "text/plain": [
       "HBox(children=(Canvas(footer_visible=False, header_visible=False, toolbar=Toolbar(toolitems=[('Home', 'Reset o…"
      ]
     },
     "metadata": {},
     "output_type": "display_data"
    }
   ],
   "source": [
    "# Initial values \n",
    "a=0.125\n",
    "d=0.975\n",
    "mid_in=0.25\n",
    "mid_out=0.18\n",
    "log_scale=False\n",
    "cctf_encoding=CONSTANTS_COLOUR_STYLE.colour.colourspace.cctf_encoding\n",
    "\n",
    "#x = stamp\n",
    "x = img\n",
    "lum_points = np.linspace(0, 1, 200)\n",
    "\n",
    "args = (a,d,mid_in, mid_out)\n",
    "image = tonemapping_operator_generic(x, *args)\n",
    "luminance_function = np.squeeze(tonemapping_operator_generic(lum_points))\n",
    "\n",
    "shape = image.shape\n",
    "bounding_box = [0, 1, 0, 1]\n",
    "\n",
    "image = np.clip(cctf_encoding(image), 0, 1)\n",
    "\n",
    "\n",
    "#############################\n",
    "plt.ioff()\n",
    "fig = plt.figure()\n",
    "fig.set_size_inches(4,4)\n",
    "fig.canvas.toolbar_visible = False\n",
    "fig.canvas.header_visible = False\n",
    "fig.canvas.footer_visible = False\n",
    "axes = fig.add_subplot()\n",
    "\n",
    "im = axes.imshow(image,\n",
    "                 aspect=shape[0] / shape[1],\n",
    "                 extent=bounding_box,\n",
    "                 interpolation='nearest')\n",
    "\n",
    "lf, = axes.plot(np.linspace(0, 1, len(luminance_function)),\n",
    "                   luminance_function,\n",
    "                   color='red')\n",
    "\n",
    "if log_scale:\n",
    "    axes.set_xlabel('$log_2$ Input Luminance')\n",
    "    axes.set_xscale('log', basex=2)\n",
    "    axes.xaxis.set_minor_locator(matplotlib.ticker.AutoMinorLocator(0.5))\n",
    "    axes.xaxis.set_major_formatter(matplotlib.ticker.ScalarFormatter())\n",
    "plt.ion()\n",
    "#plt.show()\n",
    "\n",
    "\n",
    "def update(change):\n",
    "    if (change['new'] != change['old']):\n",
    "        image = tonemapping_operator_generic(x,\n",
    "                                             a=a.value,\n",
    "                                             d=d.value,\n",
    "                                             mid_in=mid_in.value,\n",
    "                                             mid_out=mid_out.value)\n",
    "        lum_fun = np.squeeze(tonemapping_operator_generic(lum_points,\n",
    "                                                          a=a.value,\n",
    "                                                          d=d.value,\n",
    "                                                          mid_in=mid_in.value,\n",
    "                                                          mid_out=mid_out.value))\n",
    "        # Update tonemapped image\n",
    "        im.set_data(image)\n",
    "        lf.set_ydata(lum_fun)\n",
    "        fig.canvas.draw_idle()\n",
    "\n",
    "a=FloatSlider(min=0.1, max=1.5, step=0.01, continuous_update=False, description='a')\n",
    "d=FloatSlider(min=0.5, max=3.0, step=0.01, continuous_update=False, description='d')\n",
    "mid_in=FloatSlider(min=0.1, max=1, step=0.01, continuous_update=False, description='mid_in')\n",
    "mid_out=FloatSlider(min=0.1, max=1, step=0.01, continuous_update=False, description='mid_out')\n",
    "\n",
    "a.observe(update, names=['value']) # name of FloatSlider's trait to be observed\n",
    "d.observe(update, names=['value'])\n",
    "mid_in.observe(update, names=['value'])\n",
    "mid_out.observe(update, names=['value'])\n",
    "\n",
    "ui = VBox([a,d,mid_in,mid_out])\n",
    "\n",
    "#mapped_image = Box(fig.canvas)\n",
    "the_box = HBox([fig.canvas, ui])\n",
    "the_box"
   ]
  },
  {
   "cell_type": "code",
   "execution_count": 156,
   "metadata": {},
   "outputs": [],
   "source": [
    "plt.savefig(\"PGC0013406_1.49_1.66_0.95_0.29.png\")"
   ]
  },
  {
   "cell_type": "markdown",
   "metadata": {},
   "source": [
    "## TM curves applied to raw images"
   ]
  },
  {
   "cell_type": "code",
   "execution_count": 935,
   "metadata": {},
   "outputs": [
    {
     "ename": "NameError",
     "evalue": "name 'ui' is not defined",
     "output_type": "error",
     "traceback": [
      "\u001b[0;31m---------------------------------------------------------------------------\u001b[0m",
      "\u001b[0;31mNameError\u001b[0m                                 Traceback (most recent call last)",
      "\u001b[0;32m<ipython-input-935-a911380baffa>\u001b[0m in \u001b[0;36m<module>\u001b[0;34m\u001b[0m\n\u001b[1;32m      2\u001b[0m     \u001b[0;32mreturn\u001b[0m \u001b[0;34m{\u001b[0m\u001b[0mctr\u001b[0m\u001b[0;34m.\u001b[0m\u001b[0mdescription\u001b[0m\u001b[0;34m:\u001b[0m\u001b[0mctr\u001b[0m\u001b[0;34m.\u001b[0m\u001b[0mvalue\u001b[0m \u001b[0;32mfor\u001b[0m \u001b[0mctr\u001b[0m \u001b[0;32min\u001b[0m \u001b[0mcontrol\u001b[0m\u001b[0;34m}\u001b[0m\u001b[0;34m\u001b[0m\u001b[0;34m\u001b[0m\u001b[0m\n\u001b[1;32m      3\u001b[0m \u001b[0;34m\u001b[0m\u001b[0m\n\u001b[0;32m----> 4\u001b[0;31m \u001b[0mtmo_params\u001b[0m \u001b[0;34m=\u001b[0m \u001b[0mget_values\u001b[0m\u001b[0;34m(\u001b[0m\u001b[0mui\u001b[0m\u001b[0;34m.\u001b[0m\u001b[0mchildren\u001b[0m\u001b[0;34m)\u001b[0m\u001b[0;34m\u001b[0m\u001b[0;34m\u001b[0m\u001b[0m\n\u001b[0m",
      "\u001b[0;31mNameError\u001b[0m: name 'ui' is not defined"
     ]
    }
   ],
   "source": [
    "def get_values(control):\n",
    "    return {ctr.description:ctr.value for ctr in control}\n",
    "\n",
    "tmo_params = get_values(ui.children)"
   ]
  },
  {
   "cell_type": "code",
   "execution_count": 934,
   "metadata": {},
   "outputs": [
    {
     "data": {
      "text/plain": [
       "{'a': 0.125, 'd': 0.975, 'mid_in': 0.25, 'mid_out': 0.18}"
      ]
     },
     "execution_count": 934,
     "metadata": {},
     "output_type": "execute_result"
    }
   ],
   "source": [
    "tmo_params"
   ]
  },
  {
   "cell_type": "code",
   "execution_count": 5,
   "metadata": {},
   "outputs": [],
   "source": [
    "too_deem = [2365, 8225, 9406, 10117, 13406]"
   ]
  },
  {
   "cell_type": "code",
   "execution_count": 6,
   "metadata": {},
   "outputs": [
    {
     "ename": "NameError",
     "evalue": "name 'gids' is not defined",
     "output_type": "error",
     "traceback": [
      "\u001b[0;31m---------------------------------------------------------------------------\u001b[0m",
      "\u001b[0;31mNameError\u001b[0m                                 Traceback (most recent call last)",
      "\u001b[0;32m<ipython-input-6-a20cb44f7a9c>\u001b[0m in \u001b[0;36m<module>\u001b[0;34m\u001b[0m\n\u001b[0;32m----> 1\u001b[0;31m \u001b[0mgids\u001b[0m \u001b[0;34m=\u001b[0m \u001b[0mnp\u001b[0m\u001b[0;34m.\u001b[0m\u001b[0masarray\u001b[0m\u001b[0;34m(\u001b[0m\u001b[0mgids\u001b[0m\u001b[0;34m)\u001b[0m\u001b[0;34m\u001b[0m\u001b[0;34m\u001b[0m\u001b[0m\n\u001b[0m\u001b[1;32m      2\u001b[0m \u001b[0mtoo_deem_fns\u001b[0m\u001b[0;34m=\u001b[0m\u001b[0;34m[\u001b[0m\u001b[0mfns_r\u001b[0m\u001b[0;34m[\u001b[0m\u001b[0mnp\u001b[0m\u001b[0;34m.\u001b[0m\u001b[0mwhere\u001b[0m\u001b[0;34m(\u001b[0m\u001b[0mgids\u001b[0m\u001b[0;34m==\u001b[0m\u001b[0mtarget_gid\u001b[0m\u001b[0;34m)\u001b[0m\u001b[0;34m[\u001b[0m\u001b[0;36m0\u001b[0m\u001b[0;34m]\u001b[0m\u001b[0;34m.\u001b[0m\u001b[0msqueeze\u001b[0m\u001b[0;34m(\u001b[0m\u001b[0;34m)\u001b[0m\u001b[0;34m]\u001b[0m \u001b[0;32mfor\u001b[0m \u001b[0mtarget_gid\u001b[0m \u001b[0;32min\u001b[0m \u001b[0mtoo_deem\u001b[0m\u001b[0;34m]\u001b[0m\u001b[0;34m\u001b[0m\u001b[0;34m\u001b[0m\u001b[0m\n",
      "\u001b[0;31mNameError\u001b[0m: name 'gids' is not defined"
     ]
    }
   ],
   "source": [
    "gids = np.asarray(gids)\n",
    "too_deem_fns=[fns_r[np.where(gids==target_gid)[0].squeeze()] for target_gid in too_deem]"
   ]
  },
  {
   "cell_type": "code",
   "execution_count": 161,
   "metadata": {},
   "outputs": [],
   "source": [
    "import os\n",
    "\n",
    "try:\n",
    "    out_dir = basedir+\"{}_{}_{}_{}/\".format(*tmo_params.values())\n",
    "    os.mkdir(out_dir)\n",
    "except:\n",
    "    pass"
   ]
  },
  {
   "cell_type": "code",
   "execution_count": null,
   "metadata": {},
   "outputs": [],
   "source": []
  },
  {
   "cell_type": "code",
   "execution_count": 150,
   "metadata": {
    "collapsed": true
   },
   "outputs": [
    {
     "data": {
      "application/vnd.jupyter.widget-view+json": {
       "model_id": "3f07f0396d014993966a6959a79c8ba8",
       "version_major": 2,
       "version_minor": 0
      },
      "text/plain": [
       "Canvas(toolbar=Toolbar(toolitems=[('Home', 'Reset original view', 'home', 'home'), ('Back', 'Back to previous …"
      ]
     },
     "metadata": {},
     "output_type": "display_data"
    },
    {
     "name": "stderr",
     "output_type": "stream",
     "text": [
      "<ipython-input-150-e32abd56a28e>:19: RuntimeWarning: divide by zero encountered in log10\n",
      "  ax.imshow(np.log10(img))\n",
      "<ipython-input-150-e32abd56a28e>:19: RuntimeWarning: divide by zero encountered in log10\n",
      "  ax.imshow(np.log10(img))\n",
      "<ipython-input-150-e32abd56a28e>:19: RuntimeWarning: divide by zero encountered in log10\n",
      "  ax.imshow(np.log10(img))\n",
      "<ipython-input-150-e32abd56a28e>:19: RuntimeWarning: divide by zero encountered in log10\n",
      "  ax.imshow(np.log10(img))\n",
      "<ipython-input-150-e32abd56a28e>:19: RuntimeWarning: divide by zero encountered in log10\n",
      "  ax.imshow(np.log10(img))\n"
     ]
    }
   ],
   "source": [
    "sub_rows = 3\n",
    "fig, axs = plt.subplots(sub_rows, sub_rows)\n",
    "fig.set_size_inches(12,12)\n",
    "axs = axs.ravel()\n",
    "for ax, fn in zip(axs, too_deem_fns):\n",
    "    img_name = fn.split(\"/\")[-2]\n",
    "    hdulist = fits.open(fn)\n",
    "\n",
    "    # Ensure pixel values are positive\n",
    "    hdulist[0].data -= (hdulist[0].data.min() - eps) \n",
    "    hdulist[0].data = tonemapping_operator_generic(hdulist[0].data, **tmo_params)\n",
    "    #hdulist[0].data[hdulist[0].data < 10*eps] = eps\n",
    "    mask, img, mask_new = mask_utils.gmm_mask(hdulist,\n",
    "                                   max_n_comp=20, \n",
    "                                   sig_factor=2.0, \n",
    "                                   verbose=False, \n",
    "                                   do_plot=False,\n",
    "                                   npix_min=50)\n",
    "    ax.imshow(np.log10(img))\n",
    "    ax.imshow(mask, alpha=0.5)\n",
    "    #mask_new = mask_hull(mask, ax)\n",
    "    ax.text(0.05,0.05, img_name, transform=ax.transAxes)\n",
    "    pickle.dump(mask_new, open(out_dir+f\"{img_name}_mask.pickle\", \"wb\"))\n",
    "plt.tight_layout()\n",
    "plt.savefig(out_dir+f\"deem.png\", dpi=144)\n",
    "plt.close()"
   ]
  },
  {
   "cell_type": "code",
   "execution_count": null,
   "metadata": {},
   "outputs": [],
   "source": []
  },
  {
   "cell_type": "code",
   "execution_count": null,
   "metadata": {},
   "outputs": [],
   "source": []
  },
  {
   "cell_type": "code",
   "execution_count": 933,
   "metadata": {
    "scrolled": true
   },
   "outputs": [
    {
     "ename": "NameError",
     "evalue": "name 'stamp' is not defined",
     "output_type": "error",
     "traceback": [
      "\u001b[0;31m---------------------------------------------------------------------------\u001b[0m",
      "\u001b[0;31mNameError\u001b[0m                                 Traceback (most recent call last)",
      "\u001b[0;32m<ipython-input-933-07c11145f3d7>\u001b[0m in \u001b[0;36m<module>\u001b[0;34m\u001b[0m\n\u001b[1;32m     19\u001b[0m tmo_widget = widgets.interactive(\n\u001b[1;32m     20\u001b[0m             \u001b[0mtonemapping_operator_generic_interactive\u001b[0m\u001b[0;34m,\u001b[0m\u001b[0;34m\u001b[0m\u001b[0;34m\u001b[0m\u001b[0m\n\u001b[0;32m---> 21\u001b[0;31m             \u001b[0mimage\u001b[0m\u001b[0;34m=\u001b[0m\u001b[0mwidgets\u001b[0m\u001b[0;34m.\u001b[0m\u001b[0mfixed\u001b[0m\u001b[0;34m(\u001b[0m\u001b[0mstamp\u001b[0m\u001b[0;34m)\u001b[0m\u001b[0;34m,\u001b[0m\u001b[0;34m\u001b[0m\u001b[0;34m\u001b[0m\u001b[0m\n\u001b[0m\u001b[1;32m     22\u001b[0m             \u001b[0ma\u001b[0m\u001b[0;34m=\u001b[0m\u001b[0mFloatSlider\u001b[0m\u001b[0;34m(\u001b[0m\u001b[0mmin\u001b[0m\u001b[0;34m=\u001b[0m\u001b[0;36m0.1\u001b[0m\u001b[0;34m,\u001b[0m \u001b[0mmax\u001b[0m\u001b[0;34m=\u001b[0m\u001b[0;36m1.5\u001b[0m\u001b[0;34m,\u001b[0m \u001b[0mstep\u001b[0m\u001b[0;34m=\u001b[0m\u001b[0;36m0.01\u001b[0m\u001b[0;34m,\u001b[0m \u001b[0mcontinuous_update\u001b[0m\u001b[0;34m=\u001b[0m\u001b[0;32mFalse\u001b[0m\u001b[0;34m)\u001b[0m\u001b[0;34m,\u001b[0m\u001b[0;34m\u001b[0m\u001b[0;34m\u001b[0m\u001b[0m\n\u001b[1;32m     23\u001b[0m             \u001b[0md\u001b[0m\u001b[0;34m=\u001b[0m\u001b[0mFloatSlider\u001b[0m\u001b[0;34m(\u001b[0m\u001b[0mmin\u001b[0m\u001b[0;34m=\u001b[0m\u001b[0;36m0.5\u001b[0m\u001b[0;34m,\u001b[0m \u001b[0mmax\u001b[0m\u001b[0;34m=\u001b[0m\u001b[0;36m3.0\u001b[0m\u001b[0;34m,\u001b[0m \u001b[0mstep\u001b[0m\u001b[0;34m=\u001b[0m\u001b[0;36m0.01\u001b[0m\u001b[0;34m,\u001b[0m \u001b[0mcontinuous_update\u001b[0m\u001b[0;34m=\u001b[0m\u001b[0;32mFalse\u001b[0m\u001b[0;34m)\u001b[0m\u001b[0;34m,\u001b[0m\u001b[0;34m\u001b[0m\u001b[0;34m\u001b[0m\u001b[0m\n",
      "\u001b[0;31mNameError\u001b[0m: name 'stamp' is not defined"
     ]
    }
   ],
   "source": [
    "import ipywidgets as widgets\n",
    "from ipywidgets import FloatSlider\n",
    "from IPython.display import display\n",
    "\n",
    "from astrobf.utils import tmo_utils \n",
    "\n",
    "def tonemapping_operator_generic_interactive(image,\n",
    "                                             a=0.125,\n",
    "                                             d=0.975,\n",
    "                                             mid_in=0.25,\n",
    "                                             mid_out=0.18):\n",
    "    args = (a,d,mid_in, mid_out)\n",
    "    return tmo_utils.plot_tonemapping_operator_image(\n",
    "        tmo_utils.tonemapping_operator_generic(image, *args),\n",
    "        np.squeeze(tmo_utils.tonemapping_operator_generic(np.linspace(0, 1, 512), *args)),\n",
    "        title='Generic Tonemapping Operator')\n",
    "    \n",
    "\n",
    "tmo_widget = widgets.interactive(\n",
    "            tonemapping_operator_generic_interactive,\n",
    "            image=widgets.fixed(stamp),\n",
    "            a=FloatSlider(min=0.1, max=1.5, step=0.01, continuous_update=False),\n",
    "            d=FloatSlider(min=0.5, max=3.0, step=0.01, continuous_update=False),\n",
    "            mid_in=FloatSlider(min=0.1, max=1, step=0.01, continuous_update=False),\n",
    "            mid_out=FloatSlider(min=0.1, max=1, step=0.01, continuous_update=False))"
   ]
  },
  {
   "cell_type": "code",
   "execution_count": 9,
   "metadata": {},
   "outputs": [
    {
     "data": {
      "image/png": "[encoded data removed]",
      "text/plain": [
       "<Figure size 1280x720 with 1 Axes>"
      ]
     },
     "metadata": {
      "needs_background": "light"
     },
     "output_type": "display_data"
    }
   ],
   "source": [
    "# Get the data out.\n",
    "mapped = tmo_widget.result\n",
    "\n",
    "plt.imshow(mapped)\n",
    "plt.show()"
   ]
  },
  {
   "cell_type": "code",
   "execution_count": null,
   "metadata": {},
   "outputs": [],
   "source": [
    "# get current tmo parameters"
   ]
  },
  {
   "cell_type": "code",
   "execution_count": null,
   "metadata": {},
   "outputs": [],
   "source": []
  }
 ],
 "metadata": {
  "kernelspec": {
   "display_name": "Python 3",
   "language": "python",
   "name": "python3"
  },
  "language_info": {
   "codemirror_mode": {
    "name": "ipython",
    "version": 3
   },
   "file_extension": ".py",
   "mimetype": "text/x-python",
   "name": "python",
   "nbconvert_exporter": "python",
   "pygments_lexer": "ipython3",
   "version": "3.8.5"
  }
 },
 "nbformat": 4,
 "nbformat_minor": 4
}
