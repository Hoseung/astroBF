{
 "cells": [
  {
   "cell_type": "code",
   "execution_count": 4,
   "metadata": {},
   "outputs": [],
   "source": [
    "import numpy as np\n",
    "from glob import glob\n",
    "import matplotlib.pyplot as plt \n",
    "\n",
    "\n",
    "dataset = ['EFIFI','Nair'][1]\n",
    "basedir = ['../../bf_data/EFIGI_catalog/','../../bf_data/Nair_and_Abraham_2010/'][1]\n",
    "fitsdir = basedir + ['fits_temp_Jan_19/','fits_temp_Dec_28/', 'fits_temp_Feb_3/', 'final/'][3]\n",
    "\n",
    "out_dir = basedir+'out_final/'\n",
    "fns_r = glob(fitsdir+\"*/*r.fits\")\n",
    "fns_r.sort()"
   ]
  },
  {
   "cell_type": "markdown",
   "metadata": {},
   "source": [
    "# Generate mask + Initial StatMorph"
   ]
  },
  {
   "cell_type": "code",
   "execution_count": 3,
   "metadata": {},
   "outputs": [],
   "source": [
    "from astrobf.utils import gen_mask\n",
    "from astrobf import measure_morph"
   ]
  },
  {
   "cell_type": "code",
   "execution_count": null,
   "metadata": {
    "scrolled": true
   },
   "outputs": [
    {
     "name": "stderr",
     "output_type": "stream",
     "text": [
      "/home/hoseung/Work/tonemap/astroBF/astrobf/utils/gen_mask.py:92: RuntimeWarning: divide by zero encountered in log10\n",
      "  ax.imshow(np.log10(img))\n",
      "/home/hoseung/Work/tonemap/astroBF/astrobf/utils/gen_mask.py:92: RuntimeWarning: divide by zero encountered in log10\n",
      "  ax.imshow(np.log10(img))\n",
      "/home/hoseung/Work/tonemap/astroBF/astrobf/utils/gen_mask.py:92: RuntimeWarning: divide by zero encountered in log10\n",
      "  ax.imshow(np.log10(img))\n",
      "/home/hoseung/Work/tonemap/astroBF/astrobf/utils/gen_mask.py:92: RuntimeWarning: divide by zero encountered in log10\n",
      "  ax.imshow(np.log10(img))\n",
      "/home/hoseung/Work/tonemap/astroBF/astrobf/utils/gen_mask.py:92: RuntimeWarning: divide by zero encountered in log10\n",
      "  ax.imshow(np.log10(img))\n",
      "/home/hoseung/Work/tonemap/astroBF/astrobf/utils/gen_mask.py:92: RuntimeWarning: divide by zero encountered in log10\n",
      "  ax.imshow(np.log10(img))\n",
      "/home/hoseung/Work/tonemap/astroBF/astrobf/utils/gen_mask.py:92: RuntimeWarning: divide by zero encountered in log10\n",
      "  ax.imshow(np.log10(img))\n",
      "/home/hoseung/Work/tonemap/astroBF/astrobf/utils/gen_mask.py:92: RuntimeWarning: divide by zero encountered in log10\n",
      "  ax.imshow(np.log10(img))\n",
      "/home/hoseung/Work/tonemap/astroBF/astrobf/utils/gen_mask.py:92: RuntimeWarning: divide by zero encountered in log10\n",
      "  ax.imshow(np.log10(img))\n"
     ]
    },
    {
     "name": "stdout",
     "output_type": "stream",
     "text": [
      "0-th chunk done\n"
     ]
    },
    {
     "name": "stderr",
     "output_type": "stream",
     "text": [
      "/home/hoseung/Work/tonemap/astroBF/astrobf/utils/gen_mask.py:92: RuntimeWarning: divide by zero encountered in log10\n",
      "  ax.imshow(np.log10(img))\n",
      "/home/hoseung/Work/tonemap/astroBF/astrobf/utils/gen_mask.py:92: RuntimeWarning: divide by zero encountered in log10\n",
      "  ax.imshow(np.log10(img))\n",
      "/home/hoseung/Work/tonemap/astroBF/astrobf/utils/gen_mask.py:92: RuntimeWarning: divide by zero encountered in log10\n",
      "  ax.imshow(np.log10(img))\n",
      "/home/hoseung/Work/tonemap/astroBF/astrobf/utils/gen_mask.py:92: RuntimeWarning: divide by zero encountered in log10\n",
      "  ax.imshow(np.log10(img))\n",
      "/home/hoseung/Work/tonemap/astroBF/astrobf/utils/gen_mask.py:92: RuntimeWarning: divide by zero encountered in log10\n",
      "  ax.imshow(np.log10(img))\n",
      "/home/hoseung/Work/tonemap/astroBF/astrobf/utils/gen_mask.py:92: RuntimeWarning: divide by zero encountered in log10\n",
      "  ax.imshow(np.log10(img))\n",
      "/home/hoseung/Work/tonemap/astroBF/astrobf/utils/gen_mask.py:92: RuntimeWarning: divide by zero encountered in log10\n",
      "  ax.imshow(np.log10(img))\n",
      "/home/hoseung/Work/tonemap/astroBF/astrobf/utils/gen_mask.py:92: RuntimeWarning: divide by zero encountered in log10\n",
      "  ax.imshow(np.log10(img))\n",
      "/home/hoseung/Work/tonemap/astroBF/astrobf/utils/gen_mask.py:92: RuntimeWarning: divide by zero encountered in log10\n",
      "  ax.imshow(np.log10(img))\n"
     ]
    },
    {
     "name": "stdout",
     "output_type": "stream",
     "text": [
      "1-th chunk done\n"
     ]
    },
    {
     "name": "stderr",
     "output_type": "stream",
     "text": [
      "/home/hoseung/Work/tonemap/astroBF/astrobf/utils/gen_mask.py:92: RuntimeWarning: divide by zero encountered in log10\n",
      "  ax.imshow(np.log10(img))\n",
      "/home/hoseung/Work/tonemap/astroBF/astrobf/utils/gen_mask.py:92: RuntimeWarning: divide by zero encountered in log10\n",
      "  ax.imshow(np.log10(img))\n",
      "/home/hoseung/Work/tonemap/astroBF/astrobf/utils/gen_mask.py:92: RuntimeWarning: divide by zero encountered in log10\n",
      "  ax.imshow(np.log10(img))\n",
      "/home/hoseung/Work/tonemap/astroBF/astrobf/utils/gen_mask.py:92: RuntimeWarning: divide by zero encountered in log10\n",
      "  ax.imshow(np.log10(img))\n",
      "/home/hoseung/Work/tonemap/astroBF/astrobf/utils/gen_mask.py:92: RuntimeWarning: divide by zero encountered in log10\n",
      "  ax.imshow(np.log10(img))\n",
      "/home/hoseung/Work/tonemap/astroBF/astrobf/utils/gen_mask.py:92: RuntimeWarning: divide by zero encountered in log10\n",
      "  ax.imshow(np.log10(img))\n"
     ]
    }
   ],
   "source": [
    "gen_mask.run_mask(fns_r, out_dir, npix_min=40)"
   ]
  },
  {
   "cell_type": "markdown",
   "metadata": {},
   "source": [
    "So far, So good."
   ]
  },
  {
   "cell_type": "code",
   "execution_count": null,
   "metadata": {},
   "outputs": [],
   "source": [
    "# Run StatMorph for the first time\n",
    "# Just in case, only for this first run, I pickle all 'morph' instances. a few 10s of GB in total.\n",
    "measure_morph.run_stat_morph_init(fns[:10], out_dir, eps=1e-6)"
   ]
  },
  {
   "cell_type": "markdown",
   "metadata": {},
   "source": [
    "# Visual inspection - Filter out bad samples\n",
    "Keep good samples under `.../stat_png/good/*.png`"
   ]
  },
  {
   "cell_type": "code",
   "execution_count": null,
   "metadata": {},
   "outputs": [],
   "source": [
    "all_morphs = glob(out_dir+\"Morphs/final_morphs*.pickle\")\n",
    "all_morphs.sort()\n",
    "for alm in all_morphs:\n",
    "    print(alm)\n",
    "    mps = pickle.load(open(alm,'rb'))\n",
    "    for morph in mps:\n",
    "        img_name = morph._gid\n",
    "        fn = get_fn(img_name)\n",
    "            \n",
    "        hdulist = fits.open(fn)\n",
    "        img = hdulist[0].data\n",
    "        img -= (img.min() - eps)\n",
    "        \n",
    "        image_diagnostics.make_figure(morph, nrows=3,\n",
    "                                      savefig=gen_fn_img(morph), img_org=None)"
   ]
  },
  {
   "cell_type": "code",
   "execution_count": 165,
   "metadata": {},
   "outputs": [],
   "source": [
    "good_list = glob(basedir+'out1/'+\"stat_png/good/*.png\")\n",
    "good_gids=[]\n",
    "for gg in good_list:\n",
    "    good_gids.append(gg.split(\"/\")[-1].split(\"_\")[1])\n",
    "good_gids.sort()\n",
    "good_fns = [glob(fitsdir+gg+'/*r.fits')[0] for gg in good_gids]"
   ]
  },
  {
   "cell_type": "markdown",
   "metadata": {},
   "source": [
    "#### Following part will be updated if I have to go through this step again."
   ]
  },
  {
   "cell_type": "code",
   "execution_count": null,
   "metadata": {},
   "outputs": [],
   "source": [
    "# Catalog of StatMorph properties of the good sample.\n",
    "from astrobf.utils.measure_morph import statMorph_fields\n",
    "fields = statMorph_fields[:6]\n",
    "ngal = len(good_gids)\n",
    "result_arr = np.zeros(ngal, \n",
    "                      dtype=[('id','<U24'),('ttype',int),('flag',bool),('flag_sersic',bool)]\n",
    "                           +[(ff,float) for ff in fields])\n",
    "i=0\n",
    "for alm in all_morphs:\n",
    "    mps = pickle.load(open(alm,'rb'))\n",
    "    for morph in mps:\n",
    "        if morph._gid in good_gids:\n",
    "            result_arr[i]['id'] = morph._gid\n",
    "            for ff in fields:\n",
    "                result_arr[i][ff] = getattr(morph, ff)\n",
    "            i+=1\n",
    "        else:\n",
    "            pass"
   ]
  },
  {
   "cell_type": "markdown",
   "metadata": {},
   "source": [
    "# Merge files to minimize I/O"
   ]
  },
  {
   "cell_type": "code",
   "execution_count": 57,
   "metadata": {},
   "outputs": [],
   "source": [
    "from astropy.io import fits\n",
    "import pickle\n",
    "from astrobf.utils import mask_utils\n",
    "\n",
    "all_data=[]\n",
    "for fn in good_fns:\n",
    "    img_name = fn.split(\"/\")[-2]\n",
    "    img = fits.open(fn_img)[0].data\n",
    "    weight = fits.open(fn_weight)[0].data\n",
    "    mask = pickle.load(open(out_dir+f\"/masks/{img_name}_mask.pickle\", 'rb'))\n",
    "    slices = mask_utils._get_stamp_range(mask)\n",
    "    data = np.stack((img[slices], mask[slices], weight[slices]))\n",
    "    all_data.append({'data':data, 'img_name':img_name, 'slices':slices})\n",
    "\n",
    "pickle.dump(all_data, open(\"all_gals.pickle\", \"wb\"))"
   ]
  },
  {
   "cell_type": "markdown",
   "metadata": {},
   "source": [
    "# t-types from catalog\n",
    "\n",
    "Nair catalog has very specific and inconvenient format. You need a dedicated function for this."
   ]
  },
  {
   "cell_type": "code",
   "execution_count": 168,
   "metadata": {},
   "outputs": [
    {
     "ename": "AttributeError",
     "evalue": "module 'astrobf.utils' has no attribute 'misc'",
     "output_type": "error",
     "traceback": [
      "\u001b[0;31m---------------------------------------------------------------------------\u001b[0m",
      "\u001b[0;31mAttributeError\u001b[0m                            Traceback (most recent call last)",
      "\u001b[0;32m<ipython-input-168-c1635f8e1f66>\u001b[0m in \u001b[0;36m<module>\u001b[0;34m\u001b[0m\n\u001b[0;32m----> 1\u001b[0;31m \u001b[0mcat_nair\u001b[0m \u001b[0;34m=\u001b[0m \u001b[0mutils\u001b[0m\u001b[0;34m.\u001b[0m\u001b[0mmisc\u001b[0m\u001b[0;34m.\u001b[0m\u001b[0mload_Nair\u001b[0m\u001b[0;34m(\u001b[0m\u001b[0;34m'../../bf_data/Nair_and_Abraham_2010/catalog/table2.dat'\u001b[0m\u001b[0;34m)\u001b[0m\u001b[0;34m\u001b[0m\u001b[0;34m\u001b[0m\u001b[0m\n\u001b[0m",
      "\u001b[0;31mAttributeError\u001b[0m: module 'astrobf.utils' has no attribute 'misc'"
     ]
    }
   ],
   "source": [
    "cat = utils.misc.load_Nair('../../bf_data/Nair_and_Abraham_2010/catalog/table2.dat')\n",
    "\n",
    "inds = cat['ID'].searchsorted(result_arr['id'])\n",
    "print(\"Is every element matched?: \", np.all(cat[inds]['ID'] == result_arr['id']))\n",
    "result_arr['ttype'] = cat[inds]['TT']\n",
    "\n",
    "# Save the complete catalog\n",
    "pickle.dump(result_arr, open(out_dir+'result_arr.pcikle', 'wb'))"
   ]
  },
  {
   "cell_type": "markdown",
   "metadata": {},
   "source": [
    "# Initialize BO loop -  Measure morphology features"
   ]
  },
  {
   "cell_type": "code",
   "execution_count": null,
   "metadata": {},
   "outputs": [],
   "source": [
    "import torch\n",
    "import math\n",
    "\n",
    "# use a GPU if available\n",
    "device = torch.device(\"cuda\" if torch.cuda.is_available() else \"cpu\")\n",
    "dtype = torch.float"
   ]
  },
  {
   "cell_type": "markdown",
   "metadata": {},
   "source": [
    "### Initial guesses \n"
   ]
  },
  {
   "cell_type": "code",
   "execution_count": null,
   "metadata": {},
   "outputs": [],
   "source": []
  },
  {
   "cell_type": "code",
   "execution_count": null,
   "metadata": {},
   "outputs": [],
   "source": []
  },
  {
   "cell_type": "markdown",
   "metadata": {},
   "source": [
    "# Run Bayesian Optimization loop"
   ]
  },
  {
   "cell_type": "code",
   "execution_count": null,
   "metadata": {},
   "outputs": [],
   "source": []
  }
 ],
 "metadata": {
  "kernelspec": {
   "display_name": "Python 3",
   "language": "python",
   "name": "python3"
  },
  "language_info": {
   "codemirror_mode": {
    "name": "ipython",
    "version": 3
   },
   "file_extension": ".py",
   "mimetype": "text/x-python",
   "name": "python",
   "nbconvert_exporter": "python",
   "pygments_lexer": "ipython3",
   "version": "3.8.5"
  }
 },
 "nbformat": 4,
 "nbformat_minor": 2
}
