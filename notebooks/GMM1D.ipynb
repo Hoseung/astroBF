{
 "cells": [
  {
   "cell_type": "markdown",
   "metadata": {},
   "source": [
    "https://levelup.gitconnected.com/gaussian-mixture-models-gmm-816f549940c5"
   ]
  },
  {
   "cell_type": "code",
   "execution_count": 66,
   "metadata": {},
   "outputs": [],
   "source": [
    "import numpy as np\n",
    "import matplotlib.pyplot as plt \n",
    "from scipy.stats import norm"
   ]
  },
  {
   "cell_type": "code",
   "execution_count": 136,
   "metadata": {},
   "outputs": [],
   "source": [
    "import sklearn"
   ]
  },
  {
   "cell_type": "code",
   "execution_count": 73,
   "metadata": {},
   "outputs": [],
   "source": [
    "from sklearn.mixture.gaussian_mixture import BaseMixture"
   ]
  },
  {
   "cell_type": "markdown",
   "metadata": {},
   "source": [
    "There are a few @abstractmethod in the BaseMixture class. abstract methods are placeholders and MUST be defined in the derived class."
   ]
  },
  {
   "cell_type": "code",
   "execution_count": 133,
   "metadata": {},
   "outputs": [],
   "source": [
    "class GMM1D(BaseMixture):\n",
    "    \"\"\"\n",
    "    1D = n_feature = 1\n",
    "    \"\"\"\n",
    "    \n",
    "    def __init__(self, n_components, max_iter=100, covariance_type = 'full'):\n",
    "        \"\"\"\n",
    "        covariance_type == \"full\" meaning all gaussians have independent mu and var.\n",
    "        \"\"\"\n",
    "        self.n_components = n_components\n",
    "        self.max_iter = max_iter\n",
    "        self.covariance_type = covariance_type\n",
    "        \n",
    "    def _initialize(self, X, resp):\n",
    "        self.pi = [1/self.n_components for comp in range(self.n_components)]\n",
    "        \n",
    "    def fit(self, X):\n",
    "        new_X = np.array_split(X, self.n_components)\n",
    "        # Initial computation of mean and covar\n",
    "        self.means_ = [np.mean(x, axis=0) for x in new_X]\n",
    "        self.covariances_ = [np.var(x) for x in new_X]        \n",
    "        del new_X\n",
    "        \n",
    "        resp = np.zeros((len(X),self.n_components))\n",
    "        self._initialize(X, resp)\n",
    "        for iteration in range(self.max_iter):\n",
    "            # E-step\n",
    "            \n",
    "            for i in range(self.n_components):\n",
    "                g = norm(loc=self.means_[i], scale=self.covariances_[i])\n",
    "                resp[:,i] = self.pi[i]*g.pdf(X[:])\n",
    "\n",
    "            for i in range(len(resp)):\n",
    "                resp[i,:] /= np.sum(resp[i,:])\n",
    "\n",
    "            # M-step\n",
    "            self._m_step(X, resp)\n",
    "            \n",
    "    def _m_step(self, X, resp):\n",
    "        # 'means_' attrbute of scipy.GMM class is list. But...\n",
    "        #for k in range(self.n_components):\n",
    "        #    for n in range(len(X)):\n",
    "        #        self.means_[k] += resp[n,k] * X[n]\n",
    "        #        self.means_ = [1/N[k]*self.means_[k] for k in range(self.n_components)]\n",
    "        \n",
    "        mc = np.sum(resp, axis=0)\n",
    "        self.pi = mc/len(X)\n",
    "        # update means_\n",
    "        self.means_ = np.sum(resp*np.tile(X, [self.n_components,1]).T, axis=0)/mc\n",
    "        self.covariances_ = []\n",
    "        for c in range(len(self.pi)):\n",
    "            self.covariances_.append(np.sum(np.dot(resp[:,c]*(X[i] - self.means_[c]).T,\n",
    "                                                 resp[:,c]*(X[i] - self.means_[c])))/mc[c])\n",
    "    \n",
    "    def score_samples(self, X):\n",
    "        \"\"\"Compute the weighted log probabilities for each sample.\n",
    "        Parameters\n",
    "        ----------\n",
    "        X : array-like, shape (n_samples, n_features)\n",
    "            List of n_features-dimensional data points. Each row\n",
    "            corresponds to a single data point.\n",
    "        Returns\n",
    "        -------\n",
    "        log_prob : array, shape (n_samples,)\n",
    "            Log probabilities of each data point in X.\n",
    "        \"\"\"\n",
    "        check_is_fitted(self)\n",
    "        X = _check_X(X, None, self.means_.shape[1])\n",
    "\n",
    "        return logsumexp(self._estimate_weighted_log_prob(X), axis=1)\n",
    "\n",
    "    def score(self, X, y=None):\n",
    "        \"\"\"Compute the per-sample average log-likelihood of the given data X.\n",
    "        Parameters\n",
    "        ----------\n",
    "        X : array-like, shape (n_samples, n_dimensions)\n",
    "            List of n_features-dimensional data points. Each row\n",
    "            corresponds to a single data point.\n",
    "        Returns\n",
    "        -------\n",
    "        log_likelihood : float\n",
    "            Log likelihood of the Gaussian mixture given X.\n",
    "        \"\"\"\n",
    "        return self.score_samples(X).mean()\n",
    "            \n",
    "    def _n_parameters(self):\n",
    "        \"\"\"Return the number of free parameters in the model.\"\"\"\n",
    "        n_features = 1\n",
    "        if self.covariance_type == 'full':\n",
    "            cov_params = self.n_components * n_features * (n_features + 1) / 2.\n",
    "        #elif self.covariance_type == 'diag':\n",
    "        #    cov_params = self.n_components * n_features\n",
    "        #elif self.covariance_type == 'tied':\n",
    "        #    cov_params = n_features * (n_features + 1) / 2.\n",
    "        #elif self.covariance_type == 'spherical':\n",
    "        #    cov_params = self.n_components\n",
    "        mean_params = n_features * self.n_components\n",
    "        return int(cov_params + mean_params + self.n_components - 1)\n",
    "    \n",
    "    def bic(self, X):\n",
    "        \"\"\"Bayesian information criterion for the current model on the input X.\n",
    "        Parameters\n",
    "        ----------\n",
    "        X : array of shape (n_samples, n_dimensions)\n",
    "        Returns\n",
    "        -------\n",
    "        bic : float\n",
    "            The lower the better.\n",
    "        \"\"\"\n",
    "        return (-2 * self.score(X) * X.shape[0] +\n",
    "                self._n_parameters() * np.log(X.shape[0]))\n",
    "\n",
    "    def aic(self, X):\n",
    "        \"\"\"Akaike information criterion for the current model on the input X.\n",
    "        Parameters\n",
    "        ----------\n",
    "        X : array of shape (n_samples, n_dimensions)\n",
    "        Returns\n",
    "        -------\n",
    "        aic : float\n",
    "            The lower the better.\n",
    "        \"\"\"\n",
    "        return -2 * self.score(X) * X.shape[0] + 2 * self._n_parameters()\n",
    "    \n",
    "    def _estimate_log_prob(self, X):\n",
    "        return _estimate_log_gaussian_prob(\n",
    "            X, self.means_, self.precisions_cholesky_, self.covariance_type)\n",
    "    \n",
    "    def _check_parameters(self):\n",
    "        \"\"\"\n",
    "            fake\n",
    "        \"\"\"\n",
    "        pass\n",
    "    \n",
    "    def _get_parameters(self):\n",
    "        \"\"\"\n",
    "            I don't think I will use this.. haha..\n",
    "        \"\"\"\n",
    "        return (self.weights_, self.means_, self.covariances__,\n",
    "                self.precisions_cholesky_)\n",
    "    def _set_parameters(self, params):\n",
    "        \"\"\"\n",
    "            fake\n",
    "        \"\"\"\n",
    "        pass\n",
    "     \n",
    "    def _estimate_log_weights(self):\n",
    "        return np.log(self.weights_)"
   ]
  },
  {
   "cell_type": "code",
   "execution_count": 135,
   "metadata": {
    "scrolled": true
   },
   "outputs": [
    {
     "data": {
      "image/png": "[encoded data removed]",
      "text/plain": [
       "<Figure size 720x720 with 1 Axes>"
      ]
     },
     "metadata": {
      "needs_background": "light"
     },
     "output_type": "display_data"
    }
   ],
   "source": [
    "# Test\n",
    "\n",
    "x = np.linspace(-5,5,20)\n",
    "x1 = x*np.random.rand(20)\n",
    "x2 = x*np.random.rand(20)*1.1 - 10\n",
    "x3 = x*np.random.rand(20)*0.6 + 10\n",
    "\n",
    "# All data\n",
    "xt = np.hstack((x1,x2,x3))\n",
    "\n",
    "\n",
    "gmm = GMM1D(10)\n",
    "gmm.fit(xt)\n",
    "#gmm = GMM1d(xt, 50)\n",
    "#gmm.run()\n",
    "#gmm = mixture.GaussianMixture(n_components = 3, \n",
    "#         covariance_type = 'full', max_iter = 50)\n",
    "#gmm.fit(xt[:,np.newaxis])\n",
    "Gs = []\n",
    "#for mu, var in zip(gmm.means_, gmm.var_vector):\n",
    "for mu, var in zip(gmm.means_, gmm.covariances_):\n",
    "    Gs.append(norm(loc=mu, scale=var.squeeze()))\n",
    "\n",
    "fig = plt.figure(figsize=(10,10))\n",
    "ax = fig.add_subplot(111)\n",
    "\n",
    "for i in range(len(xt)):\n",
    "    ax.scatter(xt[i],0,s=100)\n",
    "    \n",
    "for g in Gs:\n",
    "    ax.plot(np.linspace(-15,15,300),g.pdf(np.linspace(-15,15,300)),zorder=0)\n",
    "    \n",
    "ax.set_xlabel('X-axis')\n",
    "ax.set_ylabel(\"Gaussian pdf\")\n",
    "\n",
    "plt.show()\n"
   ]
  },
  {
   "cell_type": "markdown",
   "metadata": {},
   "source": [
    "## At some point in the code occurs numerical errors (zero division?)\n",
    "sklearn implementation performs computation in log?"
   ]
  },
  {
   "cell_type": "markdown",
   "metadata": {},
   "source": [
    "## build GMM mask"
   ]
  },
  {
   "cell_type": "code",
   "execution_count": 69,
   "metadata": {},
   "outputs": [],
   "source": [
    "#!/usr/bin/env python3\n",
    "\n",
    "# Application of the Gaussian Mixture Model \n",
    "# to find the right threshould level for segmentation,  \n",
    "# finding the target in the central image of astronomical data, and\n",
    "# producing the mask for the target.\n",
    "# Developed by Min-Su Shin (msshin@kasi.re.kr)\n",
    "\n",
    "import sys, math\n",
    "\n",
    "from astropy.io import fits\n",
    "from sklearn import mixture\n",
    "#from skimage import measure\n",
    "#from skimage.morphology import convex_hull_image\n",
    "import matplotlib.pyplot as plt\n",
    "import numpy as np\n",
    "\n",
    "from astrobf.utils.gmm import *\n",
    "\n",
    "# some parameters\n",
    "max_n_comp = 30\n",
    "max_iter_gmm = 300\n",
    "tol_gmm = 0.0001\n",
    "range_cut_min = 0.1\n",
    "range_cut_max = 95.0\n",
    "num_sample_x = 3000"
   ]
  },
  {
   "cell_type": "code",
   "execution_count": 70,
   "metadata": {},
   "outputs": [],
   "source": [
    "# Load image\n",
    "fits_fn = \"../example_data/J000311.00+155754.0-i.fits\"\n",
    "hdulist = fits.open(fits_fn)\n",
    "img_header = hdulist[0].header\n",
    "img_data = hdulist[0].data\n",
    "hdulist.close()\n",
    "width=img_data.shape[0]\n",
    "height=img_data.shape[1]\n",
    "img_data_1d = img_data.reshape(-1, 1)\n",
    "num_pixels = width * height"
   ]
  },
  {
   "cell_type": "code",
   "execution_count": 71,
   "metadata": {},
   "outputs": [
    {
     "ename": "AttributeError",
     "evalue": "'GMM1D' object has no attribute 'bic'",
     "output_type": "error",
     "traceback": [
      "\u001b[0;31m---------------------------------------------------------------------------\u001b[0m",
      "\u001b[0;31mAttributeError\u001b[0m                            Traceback (most recent call last)",
      "\u001b[0;32m<ipython-input-71-997d63ee80e4>\u001b[0m in \u001b[0;36m<module>\u001b[0;34m\u001b[0m\n\u001b[1;32m     12\u001b[0m     \u001b[0mmodel\u001b[0m \u001b[0;34m=\u001b[0m \u001b[0mgmm\u001b[0m\u001b[0;34m.\u001b[0m\u001b[0mfit\u001b[0m\u001b[0;34m(\u001b[0m\u001b[0mimg_data_1d\u001b[0m\u001b[0;34m)\u001b[0m\u001b[0;34m\u001b[0m\u001b[0;34m\u001b[0m\u001b[0m\n\u001b[1;32m     13\u001b[0m     \u001b[0mmodel_list\u001b[0m\u001b[0;34m.\u001b[0m\u001b[0mappend\u001b[0m\u001b[0;34m(\u001b[0m\u001b[0mmodel\u001b[0m\u001b[0;34m)\u001b[0m\u001b[0;34m\u001b[0m\u001b[0;34m\u001b[0m\u001b[0m\n\u001b[0;32m---> 14\u001b[0;31m     \u001b[0mbic_list\u001b[0m\u001b[0;34m.\u001b[0m\u001b[0mappend\u001b[0m\u001b[0;34m(\u001b[0m\u001b[0mgmm\u001b[0m\u001b[0;34m.\u001b[0m\u001b[0mbic\u001b[0m\u001b[0;34m(\u001b[0m\u001b[0mimg_data_1d\u001b[0m\u001b[0;34m)\u001b[0m\u001b[0;34m)\u001b[0m\u001b[0;34m\u001b[0m\u001b[0;34m\u001b[0m\u001b[0m\n\u001b[0m\u001b[1;32m     15\u001b[0m     \u001b[0maic\u001b[0m \u001b[0;34m=\u001b[0m \u001b[0mgmm\u001b[0m\u001b[0;34m.\u001b[0m\u001b[0maic\u001b[0m\u001b[0;34m(\u001b[0m\u001b[0mimg_data_1d\u001b[0m\u001b[0;34m)\u001b[0m\u001b[0;34m\u001b[0m\u001b[0;34m\u001b[0m\u001b[0m\n\u001b[1;32m     16\u001b[0m     \u001b[0maic_list\u001b[0m\u001b[0;34m.\u001b[0m\u001b[0mappend\u001b[0m\u001b[0;34m(\u001b[0m\u001b[0maic\u001b[0m\u001b[0;34m)\u001b[0m\u001b[0;34m\u001b[0m\u001b[0;34m\u001b[0m\u001b[0m\n",
      "\u001b[0;31mAttributeError\u001b[0m: 'GMM1D' object has no attribute 'bic'"
     ]
    }
   ],
   "source": [
    "# Criteria to determine the number of components.\n",
    "# Note that these criteria don't tell you what's the best model, just the number of components.\n",
    "\n",
    "bic_list = [] # Bayesian Information Critetion\n",
    "aic_list = [] # Akaike Information Criterion\n",
    "aicc_list = [] # corrected Akaike Information Criterion\n",
    "model_list = []\n",
    "for n_comp in range(1, max_n_comp+1):\n",
    "    #gmm = mixture.GaussianMixture(n_components = n_comp, \n",
    "    #     covariance_type = 'full', tol = tol_gmm, max_iter = max_iter_gmm)\n",
    "    gmm = GMM1D(n_components = n_comp, max_iter = max_iter_gmm)\n",
    "    model = gmm.fit(img_data_1d)\n",
    "    model_list.append(model)\n",
    "    bic_list.append(gmm.bic(img_data_1d))\n",
    "    aic = gmm.aic(img_data_1d)\n",
    "    aic_list.append(aic)\n",
    "    aicc_list.append(gmm_aicc(aic, gmm._n_parameters(), num_pixels))\n",
    "\n",
    "plot_gmm_statstics(max_n_comp, bic_list, aic_list, aicc_list)\n",
    "\n",
    "best_n_comp, best_val = get_best_gmm(aic_list)\n",
    "\n",
    "print(\"... best_n_comp: \", best_n_comp, \" with criteria val: \", best_val)"
   ]
  },
  {
   "cell_type": "code",
   "execution_count": null,
   "metadata": {},
   "outputs": [],
   "source": []
  }
 ],
 "metadata": {
  "kernelspec": {
   "display_name": "Python 3",
   "language": "python",
   "name": "python3"
  },
  "language_info": {
   "codemirror_mode": {
    "name": "ipython",
    "version": 3
   },
   "file_extension": ".py",
   "mimetype": "text/x-python",
   "name": "python",
   "nbconvert_exporter": "python",
   "pygments_lexer": "ipython3",
   "version": "3.9.4"
  }
 },
 "nbformat": 4,
 "nbformat_minor": 2
}
