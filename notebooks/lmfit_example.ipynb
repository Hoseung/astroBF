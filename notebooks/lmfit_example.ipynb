{
 "cells": [
  {
   "cell_type": "markdown",
   "id": "26877de2",
   "metadata": {},
   "source": [
    "# Fit Using Inequality Constraint"
   ]
  },
  {
   "cell_type": "code",
   "execution_count": 1,
   "id": "9e1df139",
   "metadata": {},
   "outputs": [],
   "source": [
    "import matplotlib.pyplot as plt\n",
    "import numpy as np\n",
    "\n",
    "from lmfit import Minimizer, Parameters, report_fit\n",
    "from lmfit.lineshapes import gaussian, lorentzian"
   ]
  },
  {
   "cell_type": "code",
   "execution_count": 10,
   "id": "d3383a88",
   "metadata": {},
   "outputs": [],
   "source": [
    "def residual(pars, x, data):\n",
    "    model = (gaussian( x, pars['amp_g'], pars['cen_g'], pars['wid_g']) +\n",
    "            lorentzian(x, pars['amp_l'], pars['cen_l'], pars['wid_l']))\n",
    "    return model - data"
   ]
  },
  {
   "cell_type": "markdown",
   "id": "43a1f977",
   "metadata": {},
   "source": [
    "## Note\n",
    "\n",
    "Lorentzian function -- often used to describe spectral line shape. For a given peak and width, it is similiar to Gaussian near the peak, but tails drop more quickly. \n",
    "https://xpslibrary.com/gaussian-lorentzian-models/\n",
    "\n",
    "<img src=\"https://upload.wikimedia.org/wikipedia/commons/d/d1/Gauss_and_Lorentz_lineshapes.png\">\n",
    "\n",
    "\n",
    "the function is given as \n",
    "\n",
    "$$ L = \\frac{1}{1 + x^2}$$, where \n",
    "$$ x = \\frac{p^0 - p}{w/2}$$\n"
   ]
  },
  {
   "cell_type": "markdown",
   "id": "b76b2b0c",
   "metadata": {},
   "source": [
    "### Simulated data"
   ]
  },
  {
   "cell_type": "code",
   "execution_count": 4,
   "id": "2829992a",
   "metadata": {},
   "outputs": [],
   "source": [
    "x = np.linspace(0, 20, 601)\n",
    "\n",
    "data = (gaussian(x, 21, 6.1, 1.2) + lorentzian(x, 10, 9.6, 1.3)) + np.random.normal(scale=0.1, size=x.size)"
   ]
  },
  {
   "cell_type": "markdown",
   "id": "8a3eb357",
   "metadata": {},
   "source": [
    "### fitting parameters and constraints\n",
    "\n",
    "**value** : initial guess  \n",
    "**vary** : Allow varying during the fit. Defaults to True"
   ]
  },
  {
   "cell_type": "code",
   "execution_count": 8,
   "id": "e3f62f2f",
   "metadata": {},
   "outputs": [],
   "source": [
    "pfit = Parameters()\n",
    "pfit.add(name='amp_g', value=10)\n",
    "pfit.add(name='amp_l', value=10)\n",
    "pfit.add(name='cen_g', value=5)\n",
    "pfit.add(name='peak_split', value=2.5, min=0, max=5, vary=True)\n",
    "pfit.add(name='cen_l', expr='peak_split + cen_g')\n",
    "pfit.add(name='wid_g', value=1)\n",
    "pfit.add(name='wid_l', expr='wid_g')"
   ]
  },
  {
   "cell_type": "code",
   "execution_count": 11,
   "id": "afb4d03c",
   "metadata": {},
   "outputs": [],
   "source": [
    "mini = Minimizer(residual, pfit, fcn_args=(x, data))\n",
    "out = mini.leastsq()\n",
    "best_fit = data + out.residual"
   ]
  },
  {
   "cell_type": "code",
   "execution_count": 12,
   "id": "1ee8c767",
   "metadata": {},
   "outputs": [
    {
     "name": "stdout",
     "output_type": "stream",
     "text": [
      "[[Variables]]\n",
      "    amp_g:       21.2958153 +/- 0.05187276 (0.24%) (init = 10)\n",
      "    amp_l:       9.45347817 +/- 0.05492600 (0.58%) (init = 10)\n",
      "    cen_g:       6.11154408 +/- 0.00338047 (0.06%) (init = 5)\n",
      "    peak_split:  3.52478502 +/- 0.01016934 (0.29%) (init = 2.5)\n",
      "    cen_l:       9.63632910 +/- 0.01079996 (0.11%) == 'peak_split + cen_g'\n",
      "    wid_g:       1.21769806 +/- 0.00330904 (0.27%) (init = 1)\n",
      "    wid_l:       1.21769806 +/- 0.00330904 (0.27%) == 'wid_g'\n",
      "[[Correlations]] (unreported correlations are < 0.100)\n",
      "    C(amp_g, wid_g)      =  0.621\n",
      "    C(amp_g, peak_split) =  0.382\n",
      "    C(peak_split, wid_g) =  0.346\n",
      "    C(amp_g, amp_l)      = -0.298\n",
      "    C(amp_l, cen_g)      = -0.278\n",
      "    C(amp_g, cen_g)      =  0.196\n",
      "    C(amp_l, wid_g)      = -0.168\n",
      "    C(cen_g, wid_g)      =  0.157\n"
     ]
    }
   ],
   "source": [
    "report_fit(out.params)"
   ]
  },
  {
   "cell_type": "code",
   "execution_count": 13,
   "id": "88188513",
   "metadata": {},
   "outputs": [
    {
     "data": {
      "image/png": "[encoded data removed]",
      "text/plain": [
       "<Figure size 432x288 with 1 Axes>"
      ]
     },
     "metadata": {
      "needs_background": "light"
     },
     "output_type": "display_data"
    }
   ],
   "source": [
    "plt.plot(x, data, 'bo')\n",
    "plt.plot(x, best_fit, 'r--', label='best fit')\n",
    "plt.legend(loc='best')\n",
    "plt.show()"
   ]
  },
  {
   "cell_type": "code",
   "execution_count": null,
   "id": "40f176d0",
   "metadata": {},
   "outputs": [],
   "source": []
  }
 ],
 "metadata": {
  "kernelspec": {
   "display_name": "Python 3",
   "language": "python",
   "name": "python3"
  },
  "language_info": {
   "codemirror_mode": {
    "name": "ipython",
    "version": 3
   },
   "file_extension": ".py",
   "mimetype": "text/x-python",
   "name": "python",
   "nbconvert_exporter": "python",
   "pygments_lexer": "ipython3",
   "version": "3.9.5"
  }
 },
 "nbformat": 4,
 "nbformat_minor": 5
}
